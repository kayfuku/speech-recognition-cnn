{
 "cells": [
  {
   "cell_type": "code",
   "execution_count": 1,
   "metadata": {},
   "outputs": [],
   "source": [
    "import numpy as np\n",
    "import pandas as pd\n",
    "import matplotlib.pyplot as plt\n",
    "import seaborn as sns\n",
    "%matplotlib inline"
   ]
  },
  {
   "cell_type": "code",
   "execution_count": 2,
   "metadata": {},
   "outputs": [
    {
     "name": "stdout",
     "output_type": "stream",
     "text": [
      "<class 'pandas.core.frame.DataFrame'>\n",
      "RangeIndex: 2227788 entries, 0 to 2227787\n",
      "Data columns (total 9 columns):\n",
      "UTTER_FILE_PATH    object\n",
      "PIN                int64\n",
      "GENDER             object\n",
      "AGE                float64\n",
      "EDU                float64\n",
      "NATIVE_LANG        object\n",
      "WHERE_RAISED       object\n",
      "TOPICID            object\n",
      "GEN.DIA            object\n",
      "dtypes: float64(2), int64(1), object(6)\n",
      "memory usage: 153.0+ MB\n"
     ]
    },
    {
     "data": {
      "text/html": [
       "<div>\n",
       "<style scoped>\n",
       "    .dataframe tbody tr th:only-of-type {\n",
       "        vertical-align: middle;\n",
       "    }\n",
       "\n",
       "    .dataframe tbody tr th {\n",
       "        vertical-align: top;\n",
       "    }\n",
       "\n",
       "    .dataframe thead th {\n",
       "        text-align: right;\n",
       "    }\n",
       "</style>\n",
       "<table border=\"1\" class=\"dataframe\">\n",
       "  <thead>\n",
       "    <tr style=\"text-align: right;\">\n",
       "      <th></th>\n",
       "      <th>UTTER_FILE_PATH</th>\n",
       "      <th>PIN</th>\n",
       "      <th>GENDER</th>\n",
       "      <th>AGE</th>\n",
       "      <th>EDU</th>\n",
       "      <th>NATIVE_LANG</th>\n",
       "      <th>WHERE_RAISED</th>\n",
       "      <th>TOPICID</th>\n",
       "      <th>GEN.DIA</th>\n",
       "    </tr>\n",
       "  </thead>\n",
       "  <tbody>\n",
       "    <tr>\n",
       "      <th>0</th>\n",
       "      <td>slices/005/fe_03_00506_slices/split-1-fe_03_00...</td>\n",
       "      <td>7118</td>\n",
       "      <td>F</td>\n",
       "      <td>41.0</td>\n",
       "      <td>12.0</td>\n",
       "      <td>English</td>\n",
       "      <td>CA</td>\n",
       "      <td>ENG35</td>\n",
       "      <td>f.a</td>\n",
       "    </tr>\n",
       "    <tr>\n",
       "      <th>1</th>\n",
       "      <td>slices/005/fe_03_00506_slices/split-2-fe_03_00...</td>\n",
       "      <td>8090</td>\n",
       "      <td>F</td>\n",
       "      <td>20.0</td>\n",
       "      <td>14.0</td>\n",
       "      <td>English</td>\n",
       "      <td>FL</td>\n",
       "      <td>ENG35</td>\n",
       "      <td>f.a</td>\n",
       "    </tr>\n",
       "    <tr>\n",
       "      <th>2</th>\n",
       "      <td>slices/005/fe_03_00506_slices/split-3-fe_03_00...</td>\n",
       "      <td>8090</td>\n",
       "      <td>F</td>\n",
       "      <td>20.0</td>\n",
       "      <td>14.0</td>\n",
       "      <td>English</td>\n",
       "      <td>FL</td>\n",
       "      <td>ENG35</td>\n",
       "      <td>f.a</td>\n",
       "    </tr>\n",
       "    <tr>\n",
       "      <th>3</th>\n",
       "      <td>slices/005/fe_03_00506_slices/split-4-fe_03_00...</td>\n",
       "      <td>7118</td>\n",
       "      <td>F</td>\n",
       "      <td>41.0</td>\n",
       "      <td>12.0</td>\n",
       "      <td>English</td>\n",
       "      <td>CA</td>\n",
       "      <td>ENG35</td>\n",
       "      <td>f.a</td>\n",
       "    </tr>\n",
       "    <tr>\n",
       "      <th>4</th>\n",
       "      <td>slices/005/fe_03_00506_slices/split-5-fe_03_00...</td>\n",
       "      <td>7118</td>\n",
       "      <td>F</td>\n",
       "      <td>41.0</td>\n",
       "      <td>12.0</td>\n",
       "      <td>English</td>\n",
       "      <td>CA</td>\n",
       "      <td>ENG35</td>\n",
       "      <td>f.a</td>\n",
       "    </tr>\n",
       "  </tbody>\n",
       "</table>\n",
       "</div>"
      ],
      "text/plain": [
       "                                     UTTER_FILE_PATH   PIN GENDER   AGE   EDU  \\\n",
       "0  slices/005/fe_03_00506_slices/split-1-fe_03_00...  7118      F  41.0  12.0   \n",
       "1  slices/005/fe_03_00506_slices/split-2-fe_03_00...  8090      F  20.0  14.0   \n",
       "2  slices/005/fe_03_00506_slices/split-3-fe_03_00...  8090      F  20.0  14.0   \n",
       "3  slices/005/fe_03_00506_slices/split-4-fe_03_00...  7118      F  41.0  12.0   \n",
       "4  slices/005/fe_03_00506_slices/split-5-fe_03_00...  7118      F  41.0  12.0   \n",
       "\n",
       "  NATIVE_LANG WHERE_RAISED TOPICID GEN.DIA  \n",
       "0     English           CA   ENG35     f.a  \n",
       "1     English           FL   ENG35     f.a  \n",
       "2     English           FL   ENG35     f.a  \n",
       "3     English           CA   ENG35     f.a  \n",
       "4     English           CA   ENG35     f.a  "
      ]
     },
     "execution_count": 2,
     "metadata": {},
     "output_type": "execute_result"
    }
   ],
   "source": [
    "# Prepare labels. \n",
    "\n",
    "utterance_labels = pd.read_csv('label_data/file_listing_new.csv', header=None)\n",
    "utterance_labels.columns = ['UTTER_FILE_PATH', 'PIN', 'GENDER', 'AGE', 'EDU', 'NATIVE_LANG', 'WHERE_RAISED', 'TOPICID', 'GEN.DIA']\n",
    "utterance_labels.info()\n",
    "utterance_labels.head()"
   ]
  },
  {
   "cell_type": "code",
   "execution_count": 3,
   "metadata": {},
   "outputs": [
    {
     "data": {
      "text/html": [
       "<div>\n",
       "<style scoped>\n",
       "    .dataframe tbody tr th:only-of-type {\n",
       "        vertical-align: middle;\n",
       "    }\n",
       "\n",
       "    .dataframe tbody tr th {\n",
       "        vertical-align: top;\n",
       "    }\n",
       "\n",
       "    .dataframe thead th {\n",
       "        text-align: right;\n",
       "    }\n",
       "</style>\n",
       "<table border=\"1\" class=\"dataframe\">\n",
       "  <thead>\n",
       "    <tr style=\"text-align: right;\">\n",
       "      <th></th>\n",
       "      <th>UTTER_FILE_PATH</th>\n",
       "      <th>GENDER</th>\n",
       "      <th>NATIVE_LANG</th>\n",
       "      <th>WHERE_RAISED</th>\n",
       "      <th>GEN.DIA</th>\n",
       "    </tr>\n",
       "  </thead>\n",
       "  <tbody>\n",
       "    <tr>\n",
       "      <th>0</th>\n",
       "      <td>slices/005/fe_03_00506_slices/split-1-fe_03_00...</td>\n",
       "      <td>F</td>\n",
       "      <td>English</td>\n",
       "      <td>CA</td>\n",
       "      <td>f.a</td>\n",
       "    </tr>\n",
       "    <tr>\n",
       "      <th>1</th>\n",
       "      <td>slices/005/fe_03_00506_slices/split-2-fe_03_00...</td>\n",
       "      <td>F</td>\n",
       "      <td>English</td>\n",
       "      <td>FL</td>\n",
       "      <td>f.a</td>\n",
       "    </tr>\n",
       "    <tr>\n",
       "      <th>2</th>\n",
       "      <td>slices/005/fe_03_00506_slices/split-3-fe_03_00...</td>\n",
       "      <td>F</td>\n",
       "      <td>English</td>\n",
       "      <td>FL</td>\n",
       "      <td>f.a</td>\n",
       "    </tr>\n",
       "    <tr>\n",
       "      <th>3</th>\n",
       "      <td>slices/005/fe_03_00506_slices/split-4-fe_03_00...</td>\n",
       "      <td>F</td>\n",
       "      <td>English</td>\n",
       "      <td>CA</td>\n",
       "      <td>f.a</td>\n",
       "    </tr>\n",
       "    <tr>\n",
       "      <th>4</th>\n",
       "      <td>slices/005/fe_03_00506_slices/split-5-fe_03_00...</td>\n",
       "      <td>F</td>\n",
       "      <td>English</td>\n",
       "      <td>CA</td>\n",
       "      <td>f.a</td>\n",
       "    </tr>\n",
       "  </tbody>\n",
       "</table>\n",
       "</div>"
      ],
      "text/plain": [
       "                                     UTTER_FILE_PATH GENDER NATIVE_LANG  \\\n",
       "0  slices/005/fe_03_00506_slices/split-1-fe_03_00...      F     English   \n",
       "1  slices/005/fe_03_00506_slices/split-2-fe_03_00...      F     English   \n",
       "2  slices/005/fe_03_00506_slices/split-3-fe_03_00...      F     English   \n",
       "3  slices/005/fe_03_00506_slices/split-4-fe_03_00...      F     English   \n",
       "4  slices/005/fe_03_00506_slices/split-5-fe_03_00...      F     English   \n",
       "\n",
       "  WHERE_RAISED GEN.DIA  \n",
       "0           CA     f.a  \n",
       "1           FL     f.a  \n",
       "2           FL     f.a  \n",
       "3           CA     f.a  \n",
       "4           CA     f.a  "
      ]
     },
     "execution_count": 3,
     "metadata": {},
     "output_type": "execute_result"
    }
   ],
   "source": [
    "utterance_labels_sub = utterance_labels.copy()\n",
    "utterance_labels_sub = utterance_labels_sub[['UTTER_FILE_PATH', 'GENDER', 'NATIVE_LANG', 'WHERE_RAISED', 'GEN.DIA']]\n",
    "utterance_labels_sub.head()"
   ]
  },
  {
   "cell_type": "code",
   "execution_count": 4,
   "metadata": {},
   "outputs": [
    {
     "data": {
      "text/html": [
       "<div>\n",
       "<style scoped>\n",
       "    .dataframe tbody tr th:only-of-type {\n",
       "        vertical-align: middle;\n",
       "    }\n",
       "\n",
       "    .dataframe tbody tr th {\n",
       "        vertical-align: top;\n",
       "    }\n",
       "\n",
       "    .dataframe thead th {\n",
       "        text-align: right;\n",
       "    }\n",
       "</style>\n",
       "<table border=\"1\" class=\"dataframe\">\n",
       "  <thead>\n",
       "    <tr style=\"text-align: right;\">\n",
       "      <th></th>\n",
       "      <th>UTTER_FILE_PATH</th>\n",
       "      <th>GENDER</th>\n",
       "      <th>NATIVE_LANG</th>\n",
       "      <th>WHERE_RAISED</th>\n",
       "      <th>GEN.DIA</th>\n",
       "    </tr>\n",
       "  </thead>\n",
       "  <tbody>\n",
       "    <tr>\n",
       "      <th>0</th>\n",
       "      <td>slices/005/fe_03_00506_slices/split-1-fe_03_00...</td>\n",
       "      <td>F</td>\n",
       "      <td>English</td>\n",
       "      <td>CA</td>\n",
       "      <td>F</td>\n",
       "    </tr>\n",
       "    <tr>\n",
       "      <th>1</th>\n",
       "      <td>slices/005/fe_03_00506_slices/split-2-fe_03_00...</td>\n",
       "      <td>F</td>\n",
       "      <td>English</td>\n",
       "      <td>FL</td>\n",
       "      <td>F</td>\n",
       "    </tr>\n",
       "    <tr>\n",
       "      <th>2</th>\n",
       "      <td>slices/005/fe_03_00506_slices/split-3-fe_03_00...</td>\n",
       "      <td>F</td>\n",
       "      <td>English</td>\n",
       "      <td>FL</td>\n",
       "      <td>F</td>\n",
       "    </tr>\n",
       "    <tr>\n",
       "      <th>3</th>\n",
       "      <td>slices/005/fe_03_00506_slices/split-4-fe_03_00...</td>\n",
       "      <td>F</td>\n",
       "      <td>English</td>\n",
       "      <td>CA</td>\n",
       "      <td>F</td>\n",
       "    </tr>\n",
       "    <tr>\n",
       "      <th>4</th>\n",
       "      <td>slices/005/fe_03_00506_slices/split-5-fe_03_00...</td>\n",
       "      <td>F</td>\n",
       "      <td>English</td>\n",
       "      <td>CA</td>\n",
       "      <td>F</td>\n",
       "    </tr>\n",
       "  </tbody>\n",
       "</table>\n",
       "</div>"
      ],
      "text/plain": [
       "                                     UTTER_FILE_PATH GENDER NATIVE_LANG  \\\n",
       "0  slices/005/fe_03_00506_slices/split-1-fe_03_00...      F     English   \n",
       "1  slices/005/fe_03_00506_slices/split-2-fe_03_00...      F     English   \n",
       "2  slices/005/fe_03_00506_slices/split-3-fe_03_00...      F     English   \n",
       "3  slices/005/fe_03_00506_slices/split-4-fe_03_00...      F     English   \n",
       "4  slices/005/fe_03_00506_slices/split-5-fe_03_00...      F     English   \n",
       "\n",
       "  WHERE_RAISED GEN.DIA  \n",
       "0           CA       F  \n",
       "1           FL       F  \n",
       "2           FL       F  \n",
       "3           CA       F  \n",
       "4           CA       F  "
      ]
     },
     "execution_count": 4,
     "metadata": {},
     "output_type": "execute_result"
    }
   ],
   "source": [
    "# Extract gender-matched data\n",
    "\n",
    "utterance_labels_sub.loc[:, 'GEN.DIA'] = utterance_labels_sub['GEN.DIA'].map(lambda x: str.upper(str(x)[:1]))\n",
    "utterance_labels_sub.head()"
   ]
  },
  {
   "cell_type": "code",
   "execution_count": 5,
   "metadata": {},
   "outputs": [
    {
     "name": "stdout",
     "output_type": "stream",
     "text": [
      "<class 'pandas.core.frame.DataFrame'>\n",
      "RangeIndex: 2125073 entries, 0 to 2125072\n",
      "Data columns (total 5 columns):\n",
      "UTTER_FILE_PATH    object\n",
      "GENDER             object\n",
      "NATIVE_LANG        object\n",
      "WHERE_RAISED       object\n",
      "GEN.DIA            object\n",
      "dtypes: object(5)\n",
      "memory usage: 81.1+ MB\n"
     ]
    },
    {
     "data": {
      "text/html": [
       "<div>\n",
       "<style scoped>\n",
       "    .dataframe tbody tr th:only-of-type {\n",
       "        vertical-align: middle;\n",
       "    }\n",
       "\n",
       "    .dataframe tbody tr th {\n",
       "        vertical-align: top;\n",
       "    }\n",
       "\n",
       "    .dataframe thead th {\n",
       "        text-align: right;\n",
       "    }\n",
       "</style>\n",
       "<table border=\"1\" class=\"dataframe\">\n",
       "  <thead>\n",
       "    <tr style=\"text-align: right;\">\n",
       "      <th></th>\n",
       "      <th>UTTER_FILE_PATH</th>\n",
       "      <th>GENDER</th>\n",
       "      <th>NATIVE_LANG</th>\n",
       "      <th>WHERE_RAISED</th>\n",
       "      <th>GEN.DIA</th>\n",
       "    </tr>\n",
       "  </thead>\n",
       "  <tbody>\n",
       "    <tr>\n",
       "      <th>0</th>\n",
       "      <td>slices/005/fe_03_00506_slices/split-1-fe_03_00...</td>\n",
       "      <td>F</td>\n",
       "      <td>English</td>\n",
       "      <td>CA</td>\n",
       "      <td>F</td>\n",
       "    </tr>\n",
       "    <tr>\n",
       "      <th>1</th>\n",
       "      <td>slices/005/fe_03_00506_slices/split-2-fe_03_00...</td>\n",
       "      <td>F</td>\n",
       "      <td>English</td>\n",
       "      <td>FL</td>\n",
       "      <td>F</td>\n",
       "    </tr>\n",
       "    <tr>\n",
       "      <th>2</th>\n",
       "      <td>slices/005/fe_03_00506_slices/split-3-fe_03_00...</td>\n",
       "      <td>F</td>\n",
       "      <td>English</td>\n",
       "      <td>FL</td>\n",
       "      <td>F</td>\n",
       "    </tr>\n",
       "    <tr>\n",
       "      <th>3</th>\n",
       "      <td>slices/005/fe_03_00506_slices/split-4-fe_03_00...</td>\n",
       "      <td>F</td>\n",
       "      <td>English</td>\n",
       "      <td>CA</td>\n",
       "      <td>F</td>\n",
       "    </tr>\n",
       "    <tr>\n",
       "      <th>4</th>\n",
       "      <td>slices/005/fe_03_00506_slices/split-5-fe_03_00...</td>\n",
       "      <td>F</td>\n",
       "      <td>English</td>\n",
       "      <td>CA</td>\n",
       "      <td>F</td>\n",
       "    </tr>\n",
       "  </tbody>\n",
       "</table>\n",
       "</div>"
      ],
      "text/plain": [
       "                                     UTTER_FILE_PATH GENDER NATIVE_LANG  \\\n",
       "0  slices/005/fe_03_00506_slices/split-1-fe_03_00...      F     English   \n",
       "1  slices/005/fe_03_00506_slices/split-2-fe_03_00...      F     English   \n",
       "2  slices/005/fe_03_00506_slices/split-3-fe_03_00...      F     English   \n",
       "3  slices/005/fe_03_00506_slices/split-4-fe_03_00...      F     English   \n",
       "4  slices/005/fe_03_00506_slices/split-5-fe_03_00...      F     English   \n",
       "\n",
       "  WHERE_RAISED GEN.DIA  \n",
       "0           CA       F  \n",
       "1           FL       F  \n",
       "2           FL       F  \n",
       "3           CA       F  \n",
       "4           CA       F  "
      ]
     },
     "execution_count": 5,
     "metadata": {},
     "output_type": "execute_result"
    }
   ],
   "source": [
    "utter_gender_matched = utterance_labels_sub[utterance_labels_sub['GENDER'] == utterance_labels_sub['GEN.DIA']]\n",
    "utter_gender_matched = utter_gender_matched.reset_index(drop=True)\n",
    "utter_gender_matched.info()\n",
    "utter_gender_matched.head()"
   ]
  },
  {
   "cell_type": "code",
   "execution_count": 6,
   "metadata": {
    "scrolled": true
   },
   "outputs": [
    {
     "data": {
      "text/html": [
       "<div>\n",
       "<style scoped>\n",
       "    .dataframe tbody tr th:only-of-type {\n",
       "        vertical-align: middle;\n",
       "    }\n",
       "\n",
       "    .dataframe tbody tr th {\n",
       "        vertical-align: top;\n",
       "    }\n",
       "\n",
       "    .dataframe thead th {\n",
       "        text-align: right;\n",
       "    }\n",
       "</style>\n",
       "<table border=\"1\" class=\"dataframe\">\n",
       "  <thead>\n",
       "    <tr style=\"text-align: right;\">\n",
       "      <th></th>\n",
       "      <th>UTTER_FILE_PATH</th>\n",
       "      <th>NATIVE_LANG</th>\n",
       "      <th>WHERE_RAISED</th>\n",
       "    </tr>\n",
       "  </thead>\n",
       "  <tbody>\n",
       "    <tr>\n",
       "      <th>0</th>\n",
       "      <td>slices/005/fe_03_00506_slices/split-1-fe_03_00...</td>\n",
       "      <td>English</td>\n",
       "      <td>CA</td>\n",
       "    </tr>\n",
       "    <tr>\n",
       "      <th>1</th>\n",
       "      <td>slices/005/fe_03_00506_slices/split-2-fe_03_00...</td>\n",
       "      <td>English</td>\n",
       "      <td>FL</td>\n",
       "    </tr>\n",
       "    <tr>\n",
       "      <th>2</th>\n",
       "      <td>slices/005/fe_03_00506_slices/split-3-fe_03_00...</td>\n",
       "      <td>English</td>\n",
       "      <td>FL</td>\n",
       "    </tr>\n",
       "    <tr>\n",
       "      <th>3</th>\n",
       "      <td>slices/005/fe_03_00506_slices/split-4-fe_03_00...</td>\n",
       "      <td>English</td>\n",
       "      <td>CA</td>\n",
       "    </tr>\n",
       "    <tr>\n",
       "      <th>4</th>\n",
       "      <td>slices/005/fe_03_00506_slices/split-5-fe_03_00...</td>\n",
       "      <td>English</td>\n",
       "      <td>CA</td>\n",
       "    </tr>\n",
       "  </tbody>\n",
       "</table>\n",
       "</div>"
      ],
      "text/plain": [
       "                                     UTTER_FILE_PATH NATIVE_LANG WHERE_RAISED\n",
       "0  slices/005/fe_03_00506_slices/split-1-fe_03_00...     English           CA\n",
       "1  slices/005/fe_03_00506_slices/split-2-fe_03_00...     English           FL\n",
       "2  slices/005/fe_03_00506_slices/split-3-fe_03_00...     English           FL\n",
       "3  slices/005/fe_03_00506_slices/split-4-fe_03_00...     English           CA\n",
       "4  slices/005/fe_03_00506_slices/split-5-fe_03_00...     English           CA"
      ]
     },
     "execution_count": 6,
     "metadata": {},
     "output_type": "execute_result"
    }
   ],
   "source": [
    "utter_gender_matched = utter_gender_matched.drop(['GENDER', 'GEN.DIA'], axis=1)\n",
    "utter_gender_matched.head()"
   ]
  },
  {
   "cell_type": "code",
   "execution_count": 7,
   "metadata": {},
   "outputs": [
    {
     "name": "stdout",
     "output_type": "stream",
     "text": [
      "167\n"
     ]
    },
    {
     "data": {
      "text/plain": [
       "English                  1911988\n",
       "Spanish                    23294\n",
       "Chinese                    15334\n",
       "Russian                     9807\n",
       "Hindi                       7452\n",
       "                          ...   \n",
       "English and Malayalam         59\n",
       "German and English            56\n",
       "Tamil and Kannada             53\n",
       "Mandarin and Wu               51\n",
       "Serbo-Croatian                50\n",
       "Name: NATIVE_LANG, Length: 167, dtype: int64"
      ]
     },
     "execution_count": 7,
     "metadata": {},
     "output_type": "execute_result"
    }
   ],
   "source": [
    "# Native languages\n",
    "s = utter_gender_matched['NATIVE_LANG'].value_counts()\n",
    "print(len(s))\n",
    "s"
   ]
  },
  {
   "cell_type": "code",
   "execution_count": 8,
   "metadata": {},
   "outputs": [
    {
     "data": {
      "text/plain": [
       "array(['English', 'Hindi', 'English and Polish', 'Chinese',\n",
       "       'Russian and English', 'Tamil', 'Indonesian', nan, 'Spanish',\n",
       "       'Polish', 'French', 'Italian and English', 'English and Mandarin',\n",
       "       'English and Chinese', 'Hungarian', 'Vietnamese',\n",
       "       'English and Gujarati', 'Korean', 'Spanish and English', 'Russian',\n",
       "       'English and French', 'Farsi', 'French and English', 'Cantonese',\n",
       "       'Arabic', 'Turkish', 'English and Urdu', 'Romanian', 'Urdu',\n",
       "       'Hebrew', 'Gujarati', 'Portuguese', 'Spanish and Galego',\n",
       "       'English and Hindi', 'Polish and English', 'Marathi',\n",
       "       'Korean and English', 'English and Spanish', 'Samoan',\n",
       "       'Hindi and Kannada', 'English and Dutch', 'Chinese and English',\n",
       "       'Vietnamese and English', 'English and Hebrew',\n",
       "       'English and Cantonese', 'English and Vietnamese',\n",
       "       'Arabic and English', 'Punjabi', 'Yoruba', 'German', 'Armenian',\n",
       "       'Telegu', 'English and Russian', 'English and Farsi', 'Latvian',\n",
       "       'English and Chamorro', 'Danish', 'English and Portuguese',\n",
       "       'Gujarati and Hindi', 'Patwa', 'Tagalog', 'Shosa', 'Kikamba',\n",
       "       'Malay', 'Sindhi and Urdu', 'Creole', 'Mandarin', 'Michif',\n",
       "       'Bulgarian', 'Hebrew and English', 'English and Afrikaans',\n",
       "       'Sinhala and English', 'Russian and Belarusan',\n",
       "       'Gujarati and English', 'Thai', 'Farsi and English',\n",
       "       'English and Italian', 'German and Turkish', 'English and Punjabi',\n",
       "       'Turkish and German', 'French and Italian', 'Mandarin and English',\n",
       "       'English and Tamil', 'Hindi and Marathi', 'English and Tagalog',\n",
       "       'Oshiwambo', 'Samoan and Tongan', 'Marathi and Hindi', 'Somali',\n",
       "       'Kannada', 'Igbo', 'Finnish', 'Slovak', 'Cebuano and English',\n",
       "       'English and Korean', 'Malayalam', 'Filipino',\n",
       "       'Armenian and English', 'Thai and English', 'Filipino and English',\n",
       "       'Bengali', 'Azeri and Russian', 'Caldean', 'English and Japanese',\n",
       "       'Tamil and English', 'Farsi and Turkish', 'Czech',\n",
       "       'English and Serbian', 'Tagalog and Ilocano', 'Taiwanese',\n",
       "       'German and English', 'Woloff', 'Mongolian', 'English and German',\n",
       "       'Georgian', 'Swedish', 'Italian', 'Marathi and Tamil',\n",
       "       'Russian and Ukrainian', 'Malayalam and Hindi', 'Dutch',\n",
       "       'Telegu and Hindi', 'English and Malayalam', 'English and Yoruba',\n",
       "       'English and Yiddish', 'Hindi and Gujarati', 'Ukrainian',\n",
       "       'Japanese', 'Russian and Hebrew', 'Hindi and Rajasthani',\n",
       "       'Serbo-Croatian', 'French and Woloff', 'Afrikaans',\n",
       "       'Hindi and Punjabi', 'Hungarian and Romanian',\n",
       "       'English and Swahili', 'Portuguese and English', 'Greek',\n",
       "       'Tigrinya', 'Hindi and Kashmiri', 'Norwegian',\n",
       "       'English and Kannada', 'Visayan', 'British English', 'Sindhi',\n",
       "       'Khmer', 'Hindi and Urdu', 'Foarfe', 'Urdu and English',\n",
       "       'Urdu and Punjabi', 'Urdu and Gujarati', 'Tamil and Kannada',\n",
       "       'Bosnian', 'Finnish and English', 'Arabic and French',\n",
       "       'Tagalog and Visayan', 'English and Sindhi', 'Croatian',\n",
       "       'Bengali and English', 'Hakka and English',\n",
       "       'Cantonese and English', 'Hindi and English', 'Urdu and Arabic',\n",
       "       'Bangla', 'Serbian', 'English and Telegu', 'Mandarin and Wu',\n",
       "       'Telegu and English'], dtype=object)"
      ]
     },
     "execution_count": 8,
     "metadata": {},
     "output_type": "execute_result"
    }
   ],
   "source": [
    "utter_gender_matched['NATIVE_LANG'].unique()"
   ]
  },
  {
   "cell_type": "code",
   "execution_count": 9,
   "metadata": {},
   "outputs": [
    {
     "data": {
      "text/plain": [
       "English                1911988\n",
       "Spanish                  23294\n",
       "Chinese                  15334\n",
       "Russian                   9807\n",
       "Hindi                     7452\n",
       "Mandarin                  5393\n",
       "German                    5148\n",
       "Korean                    4953\n",
       "Cantonese                 4721\n",
       "English and Spanish       4179\n",
       "French                    3861\n",
       "Arabic                    2775\n",
       "Farsi                     2591\n",
       "Portuguese                2415\n",
       "Turkish                   2067\n",
       "Spanish and English       2001\n",
       "Tamil                     1976\n",
       "Gujarati                  1790\n",
       "Hungarian                 1465\n",
       "Telegu                    1412\n",
       "English and Chinese       1405\n",
       "Italian                   1384\n",
       "Yoruba                    1353\n",
       "Creole                    1340\n",
       "Hebrew                    1278\n",
       "Japanese                  1262\n",
       "Vietnamese                1187\n",
       "Malayalam                 1162\n",
       "Polish                    1161\n",
       "Romanian                  1126\n",
       "English and French        1100\n",
       "English and Hindi         1007\n",
       "Chinese and English       1001\n",
       "English and Russian        942\n",
       "Urdu                       936\n",
       "Tagalog                    917\n",
       "Bengali                    905\n",
       "Name: NATIVE_LANG, dtype: int64"
      ]
     },
     "execution_count": 9,
     "metadata": {},
     "output_type": "execute_result"
    }
   ],
   "source": [
    "top30_native_languages = utter_gender_matched['NATIVE_LANG'].value_counts().nlargest(37)\n",
    "top30_native_languages"
   ]
  },
  {
   "cell_type": "code",
   "execution_count": 10,
   "metadata": {
    "scrolled": true
   },
   "outputs": [
    {
     "name": "stdout",
     "output_type": "stream",
     "text": [
      "30\n"
     ]
    },
    {
     "data": {
      "text/plain": [
       "['English',\n",
       " 'Spanish',\n",
       " 'Chinese',\n",
       " 'Russian',\n",
       " 'Hindi',\n",
       " 'Mandarin',\n",
       " 'German',\n",
       " 'Korean',\n",
       " 'Cantonese',\n",
       " 'French',\n",
       " 'Arabic',\n",
       " 'Farsi',\n",
       " 'Portuguese',\n",
       " 'Turkish',\n",
       " 'Tamil',\n",
       " 'Gujarati',\n",
       " 'Hungarian',\n",
       " 'Telegu',\n",
       " 'Italian',\n",
       " 'Yoruba',\n",
       " 'Creole',\n",
       " 'Hebrew',\n",
       " 'Japanese',\n",
       " 'Vietnamese',\n",
       " 'Malayalam',\n",
       " 'Polish',\n",
       " 'Romanian',\n",
       " 'Urdu',\n",
       " 'Tagalog',\n",
       " 'Bengali']"
      ]
     },
     "execution_count": 10,
     "metadata": {},
     "output_type": "execute_result"
    }
   ],
   "source": [
    "top30_native_languages = list(top30_native_languages.index)\n",
    "top30_native_languages = [c for c in top30_native_languages\n",
    "                                                      if c not in ['English and Spanish', 'Spanish and English', 'English and Chinese', \n",
    "                                                                        'English and French', 'English and Hindi', 'Chinese and English', 'English and Russian']]\n",
    "print(len(top30_native_languages))\n",
    "top30_native_languages"
   ]
  },
  {
   "cell_type": "code",
   "execution_count": null,
   "metadata": {},
   "outputs": [],
   "source": []
  },
  {
   "cell_type": "code",
   "execution_count": 11,
   "metadata": {},
   "outputs": [
    {
     "name": "stdout",
     "output_type": "stream",
     "text": [
      "<class 'pandas.core.frame.DataFrame'>\n",
      "RangeIndex: 1960423 entries, 0 to 1960422\n",
      "Data columns (total 3 columns):\n",
      "UTTER_FILE_PATH    object\n",
      "NATIVE_LANG        object\n",
      "WHERE_RAISED       object\n",
      "dtypes: object(3)\n",
      "memory usage: 44.9+ MB\n"
     ]
    },
    {
     "data": {
      "text/html": [
       "<div>\n",
       "<style scoped>\n",
       "    .dataframe tbody tr th:only-of-type {\n",
       "        vertical-align: middle;\n",
       "    }\n",
       "\n",
       "    .dataframe tbody tr th {\n",
       "        vertical-align: top;\n",
       "    }\n",
       "\n",
       "    .dataframe thead th {\n",
       "        text-align: right;\n",
       "    }\n",
       "</style>\n",
       "<table border=\"1\" class=\"dataframe\">\n",
       "  <thead>\n",
       "    <tr style=\"text-align: right;\">\n",
       "      <th></th>\n",
       "      <th>UTTER_FILE_PATH</th>\n",
       "      <th>NATIVE_LANG</th>\n",
       "      <th>WHERE_RAISED</th>\n",
       "    </tr>\n",
       "  </thead>\n",
       "  <tbody>\n",
       "    <tr>\n",
       "      <th>0</th>\n",
       "      <td>slices/005/fe_03_00506_slices/split-1-fe_03_00...</td>\n",
       "      <td>English</td>\n",
       "      <td>CA</td>\n",
       "    </tr>\n",
       "    <tr>\n",
       "      <th>1</th>\n",
       "      <td>slices/005/fe_03_00506_slices/split-2-fe_03_00...</td>\n",
       "      <td>English</td>\n",
       "      <td>FL</td>\n",
       "    </tr>\n",
       "    <tr>\n",
       "      <th>2</th>\n",
       "      <td>slices/005/fe_03_00506_slices/split-3-fe_03_00...</td>\n",
       "      <td>English</td>\n",
       "      <td>FL</td>\n",
       "    </tr>\n",
       "    <tr>\n",
       "      <th>3</th>\n",
       "      <td>slices/005/fe_03_00506_slices/split-4-fe_03_00...</td>\n",
       "      <td>English</td>\n",
       "      <td>CA</td>\n",
       "    </tr>\n",
       "    <tr>\n",
       "      <th>4</th>\n",
       "      <td>slices/005/fe_03_00506_slices/split-5-fe_03_00...</td>\n",
       "      <td>English</td>\n",
       "      <td>CA</td>\n",
       "    </tr>\n",
       "  </tbody>\n",
       "</table>\n",
       "</div>"
      ],
      "text/plain": [
       "                                     UTTER_FILE_PATH NATIVE_LANG WHERE_RAISED\n",
       "0  slices/005/fe_03_00506_slices/split-1-fe_03_00...     English           CA\n",
       "1  slices/005/fe_03_00506_slices/split-2-fe_03_00...     English           FL\n",
       "2  slices/005/fe_03_00506_slices/split-3-fe_03_00...     English           FL\n",
       "3  slices/005/fe_03_00506_slices/split-4-fe_03_00...     English           CA\n",
       "4  slices/005/fe_03_00506_slices/split-5-fe_03_00...     English           CA"
      ]
     },
     "execution_count": 11,
     "metadata": {},
     "output_type": "execute_result"
    }
   ],
   "source": [
    "# Create small subset: English, Spanish, Chinese, Russian \n",
    "\n",
    "utter_top4 = utter_gender_matched[utter_gender_matched['NATIVE_LANG'].isin(['English', 'Spanish', 'Chinese', 'Russian'])]\n",
    "utter_top4 = utter_top4.reset_index(drop=True)\n",
    "utter_top4.info()\n",
    "utter_top4.head()"
   ]
  },
  {
   "cell_type": "code",
   "execution_count": 12,
   "metadata": {},
   "outputs": [
    {
     "data": {
      "text/html": [
       "<div>\n",
       "<style scoped>\n",
       "    .dataframe tbody tr th:only-of-type {\n",
       "        vertical-align: middle;\n",
       "    }\n",
       "\n",
       "    .dataframe tbody tr th {\n",
       "        vertical-align: top;\n",
       "    }\n",
       "\n",
       "    .dataframe thead th {\n",
       "        text-align: right;\n",
       "    }\n",
       "</style>\n",
       "<table border=\"1\" class=\"dataframe\">\n",
       "  <thead>\n",
       "    <tr style=\"text-align: right;\">\n",
       "      <th></th>\n",
       "      <th>FILENAME</th>\n",
       "      <th>LABELS</th>\n",
       "    </tr>\n",
       "  </thead>\n",
       "  <tbody>\n",
       "    <tr>\n",
       "      <th>0</th>\n",
       "      <td>split-1-fe_03_00506_A.wav</td>\n",
       "      <td>English</td>\n",
       "    </tr>\n",
       "    <tr>\n",
       "      <th>1</th>\n",
       "      <td>split-2-fe_03_00506_B.wav</td>\n",
       "      <td>English</td>\n",
       "    </tr>\n",
       "    <tr>\n",
       "      <th>2</th>\n",
       "      <td>split-3-fe_03_00506_B.wav</td>\n",
       "      <td>English</td>\n",
       "    </tr>\n",
       "    <tr>\n",
       "      <th>3</th>\n",
       "      <td>split-4-fe_03_00506_A.wav</td>\n",
       "      <td>English</td>\n",
       "    </tr>\n",
       "    <tr>\n",
       "      <th>4</th>\n",
       "      <td>split-5-fe_03_00506_A.wav</td>\n",
       "      <td>English</td>\n",
       "    </tr>\n",
       "  </tbody>\n",
       "</table>\n",
       "</div>"
      ],
      "text/plain": [
       "                    FILENAME   LABELS\n",
       "0  split-1-fe_03_00506_A.wav  English\n",
       "1  split-2-fe_03_00506_B.wav  English\n",
       "2  split-3-fe_03_00506_B.wav  English\n",
       "3  split-4-fe_03_00506_A.wav  English\n",
       "4  split-5-fe_03_00506_A.wav  English"
      ]
     },
     "execution_count": 12,
     "metadata": {},
     "output_type": "execute_result"
    }
   ],
   "source": [
    "import os\n",
    "\n",
    "utter_top4['FILENAME'] = utter_top4['UTTER_FILE_PATH'].map(lambda x: os.path.basename(x))\n",
    "utter_top4 = utter_top4.drop(['UTTER_FILE_PATH', 'WHERE_RAISED'], axis=1)\n",
    "utter_top4 = utter_top4[['FILENAME', 'NATIVE_LANG']]\n",
    "utter_top4.columns = ['FILENAME', 'LABELS'] \n",
    "utter_top4.head()"
   ]
  },
  {
   "cell_type": "code",
   "execution_count": 13,
   "metadata": {},
   "outputs": [
    {
     "name": "stdout",
     "output_type": "stream",
     "text": [
      "<class 'pandas.core.frame.DataFrame'>\n",
      "RangeIndex: 1960423 entries, 0 to 1960422\n",
      "Data columns (total 2 columns):\n",
      "FILENAME    object\n",
      "LABELS      object\n",
      "dtypes: object(2)\n",
      "memory usage: 29.9+ MB\n"
     ]
    }
   ],
   "source": [
    "utter_top4.info()"
   ]
  },
  {
   "cell_type": "code",
   "execution_count": 14,
   "metadata": {},
   "outputs": [
    {
     "data": {
      "text/plain": [
       "English    1911988\n",
       "Spanish      23294\n",
       "Chinese      15334\n",
       "Russian       9807\n",
       "Name: LABELS, dtype: int64"
      ]
     },
     "execution_count": 14,
     "metadata": {},
     "output_type": "execute_result"
    }
   ],
   "source": [
    "utter_top4['LABELS'].value_counts()"
   ]
  },
  {
   "cell_type": "code",
   "execution_count": 15,
   "metadata": {},
   "outputs": [],
   "source": [
    "# Save the filenames and labels. \n",
    "# utter_top4.to_csv(r'label_data/utter_top4.csv', header=True, index=False)"
   ]
  },
  {
   "cell_type": "code",
   "execution_count": 16,
   "metadata": {},
   "outputs": [
    {
     "data": {
      "text/html": [
       "<div>\n",
       "<style scoped>\n",
       "    .dataframe tbody tr th:only-of-type {\n",
       "        vertical-align: middle;\n",
       "    }\n",
       "\n",
       "    .dataframe tbody tr th {\n",
       "        vertical-align: top;\n",
       "    }\n",
       "\n",
       "    .dataframe thead th {\n",
       "        text-align: right;\n",
       "    }\n",
       "</style>\n",
       "<table border=\"1\" class=\"dataframe\">\n",
       "  <thead>\n",
       "    <tr style=\"text-align: right;\">\n",
       "      <th></th>\n",
       "      <th>FILENAME</th>\n",
       "      <th>LABELS</th>\n",
       "    </tr>\n",
       "  </thead>\n",
       "  <tbody>\n",
       "    <tr>\n",
       "      <th>0</th>\n",
       "      <td>split-1-fe_03_00506_A.wav</td>\n",
       "      <td>English</td>\n",
       "    </tr>\n",
       "    <tr>\n",
       "      <th>1</th>\n",
       "      <td>split-2-fe_03_00506_B.wav</td>\n",
       "      <td>English</td>\n",
       "    </tr>\n",
       "    <tr>\n",
       "      <th>2</th>\n",
       "      <td>split-3-fe_03_00506_B.wav</td>\n",
       "      <td>English</td>\n",
       "    </tr>\n",
       "    <tr>\n",
       "      <th>3</th>\n",
       "      <td>split-4-fe_03_00506_A.wav</td>\n",
       "      <td>English</td>\n",
       "    </tr>\n",
       "    <tr>\n",
       "      <th>4</th>\n",
       "      <td>split-5-fe_03_00506_A.wav</td>\n",
       "      <td>English</td>\n",
       "    </tr>\n",
       "  </tbody>\n",
       "</table>\n",
       "</div>"
      ],
      "text/plain": [
       "                    FILENAME   LABELS\n",
       "0  split-1-fe_03_00506_A.wav  English\n",
       "1  split-2-fe_03_00506_B.wav  English\n",
       "2  split-3-fe_03_00506_B.wav  English\n",
       "3  split-4-fe_03_00506_A.wav  English\n",
       "4  split-5-fe_03_00506_A.wav  English"
      ]
     },
     "execution_count": 16,
     "metadata": {},
     "output_type": "execute_result"
    }
   ],
   "source": [
    "# utterances_labels = pd.read_csv('label_data/utter_top4.csv')\n",
    "utterances_labels = utter_top4\n",
    "utterances_labels.head()"
   ]
  },
  {
   "cell_type": "code",
   "execution_count": 17,
   "metadata": {},
   "outputs": [
    {
     "data": {
      "text/plain": [
       "True"
      ]
     },
     "execution_count": 17,
     "metadata": {},
     "output_type": "execute_result"
    }
   ],
   "source": [
    "filenames = set(utterances_labels['FILENAME'])\n",
    "'split-1-fe_03_00506_A.wav' in filenames"
   ]
  },
  {
   "cell_type": "code",
   "execution_count": 18,
   "metadata": {},
   "outputs": [
    {
     "data": {
      "text/plain": [
       "'English'"
      ]
     },
     "execution_count": 18,
     "metadata": {},
     "output_type": "execute_result"
    }
   ],
   "source": [
    "filename = 'split-1-fe_03_00004_A.wav'\n",
    "label = utterances_labels[utterances_labels['FILENAME'] == filename]['LABELS'].values[0]\n",
    "label"
   ]
  },
  {
   "cell_type": "code",
   "execution_count": 19,
   "metadata": {},
   "outputs": [
    {
     "data": {
      "text/html": [
       "<div>\n",
       "<style scoped>\n",
       "    .dataframe tbody tr th:only-of-type {\n",
       "        vertical-align: middle;\n",
       "    }\n",
       "\n",
       "    .dataframe tbody tr th {\n",
       "        vertical-align: top;\n",
       "    }\n",
       "\n",
       "    .dataframe thead th {\n",
       "        text-align: right;\n",
       "    }\n",
       "</style>\n",
       "<table border=\"1\" class=\"dataframe\">\n",
       "  <thead>\n",
       "    <tr style=\"text-align: right;\">\n",
       "      <th></th>\n",
       "      <th>FILENAME</th>\n",
       "      <th>LABELS</th>\n",
       "    </tr>\n",
       "  </thead>\n",
       "  <tbody>\n",
       "    <tr>\n",
       "      <th>0</th>\n",
       "      <td>split-1-fe_03_00506_A.wav</td>\n",
       "      <td>1</td>\n",
       "    </tr>\n",
       "    <tr>\n",
       "      <th>1</th>\n",
       "      <td>split-2-fe_03_00506_B.wav</td>\n",
       "      <td>1</td>\n",
       "    </tr>\n",
       "    <tr>\n",
       "      <th>2</th>\n",
       "      <td>split-3-fe_03_00506_B.wav</td>\n",
       "      <td>1</td>\n",
       "    </tr>\n",
       "    <tr>\n",
       "      <th>3</th>\n",
       "      <td>split-4-fe_03_00506_A.wav</td>\n",
       "      <td>1</td>\n",
       "    </tr>\n",
       "    <tr>\n",
       "      <th>4</th>\n",
       "      <td>split-5-fe_03_00506_A.wav</td>\n",
       "      <td>1</td>\n",
       "    </tr>\n",
       "  </tbody>\n",
       "</table>\n",
       "</div>"
      ],
      "text/plain": [
       "                    FILENAME  LABELS\n",
       "0  split-1-fe_03_00506_A.wav       1\n",
       "1  split-2-fe_03_00506_B.wav       1\n",
       "2  split-3-fe_03_00506_B.wav       1\n",
       "3  split-4-fe_03_00506_A.wav       1\n",
       "4  split-5-fe_03_00506_A.wav       1"
      ]
     },
     "execution_count": 19,
     "metadata": {},
     "output_type": "execute_result"
    }
   ],
   "source": [
    "# Label encoder\n",
    "from sklearn.preprocessing import LabelEncoder\n",
    "\n",
    "le = LabelEncoder()\n",
    "utterances_labels['LABELS'] = le.fit_transform(utterances_labels['LABELS'])\n",
    "utterances_labels.head()"
   ]
  },
  {
   "cell_type": "code",
   "execution_count": 20,
   "metadata": {},
   "outputs": [
    {
     "data": {
      "text/plain": [
       "array(['Chinese', 'English', 'Russian', 'Spanish'], dtype=object)"
      ]
     },
     "execution_count": 20,
     "metadata": {},
     "output_type": "execute_result"
    }
   ],
   "source": [
    "label_map = le.classes_\n",
    "label_map"
   ]
  },
  {
   "cell_type": "code",
   "execution_count": 21,
   "metadata": {},
   "outputs": [
    {
     "data": {
      "text/plain": [
       "4"
      ]
     },
     "execution_count": 21,
     "metadata": {},
     "output_type": "execute_result"
    }
   ],
   "source": [
    "len(label_map)"
   ]
  },
  {
   "cell_type": "code",
   "execution_count": null,
   "metadata": {},
   "outputs": [],
   "source": []
  },
  {
   "cell_type": "code",
   "execution_count": 22,
   "metadata": {
    "scrolled": true
   },
   "outputs": [
    {
     "name": "stdout",
     "output_type": "stream",
     "text": [
      "<class 'pandas.core.frame.DataFrame'>\n",
      "RangeIndex: 2125073 entries, 0 to 2125072\n",
      "Data columns (total 3 columns):\n",
      "UTTER_FILE_PATH    object\n",
      "NATIVE_LANG        object\n",
      "WHERE_RAISED       object\n",
      "dtypes: object(3)\n",
      "memory usage: 48.6+ MB\n"
     ]
    },
    {
     "data": {
      "text/html": [
       "<div>\n",
       "<style scoped>\n",
       "    .dataframe tbody tr th:only-of-type {\n",
       "        vertical-align: middle;\n",
       "    }\n",
       "\n",
       "    .dataframe tbody tr th {\n",
       "        vertical-align: top;\n",
       "    }\n",
       "\n",
       "    .dataframe thead th {\n",
       "        text-align: right;\n",
       "    }\n",
       "</style>\n",
       "<table border=\"1\" class=\"dataframe\">\n",
       "  <thead>\n",
       "    <tr style=\"text-align: right;\">\n",
       "      <th></th>\n",
       "      <th>UTTER_FILE_PATH</th>\n",
       "      <th>NATIVE_LANG</th>\n",
       "      <th>WHERE_RAISED</th>\n",
       "    </tr>\n",
       "  </thead>\n",
       "  <tbody>\n",
       "    <tr>\n",
       "      <th>0</th>\n",
       "      <td>slices/005/fe_03_00506_slices/split-1-fe_03_00...</td>\n",
       "      <td>English</td>\n",
       "      <td>CA</td>\n",
       "    </tr>\n",
       "    <tr>\n",
       "      <th>1</th>\n",
       "      <td>slices/005/fe_03_00506_slices/split-2-fe_03_00...</td>\n",
       "      <td>English</td>\n",
       "      <td>FL</td>\n",
       "    </tr>\n",
       "    <tr>\n",
       "      <th>2</th>\n",
       "      <td>slices/005/fe_03_00506_slices/split-3-fe_03_00...</td>\n",
       "      <td>English</td>\n",
       "      <td>FL</td>\n",
       "    </tr>\n",
       "    <tr>\n",
       "      <th>3</th>\n",
       "      <td>slices/005/fe_03_00506_slices/split-4-fe_03_00...</td>\n",
       "      <td>English</td>\n",
       "      <td>CA</td>\n",
       "    </tr>\n",
       "    <tr>\n",
       "      <th>4</th>\n",
       "      <td>slices/005/fe_03_00506_slices/split-5-fe_03_00...</td>\n",
       "      <td>English</td>\n",
       "      <td>CA</td>\n",
       "    </tr>\n",
       "  </tbody>\n",
       "</table>\n",
       "</div>"
      ],
      "text/plain": [
       "                                     UTTER_FILE_PATH NATIVE_LANG WHERE_RAISED\n",
       "0  slices/005/fe_03_00506_slices/split-1-fe_03_00...     English           CA\n",
       "1  slices/005/fe_03_00506_slices/split-2-fe_03_00...     English           FL\n",
       "2  slices/005/fe_03_00506_slices/split-3-fe_03_00...     English           FL\n",
       "3  slices/005/fe_03_00506_slices/split-4-fe_03_00...     English           CA\n",
       "4  slices/005/fe_03_00506_slices/split-5-fe_03_00...     English           CA"
      ]
     },
     "execution_count": 22,
     "metadata": {},
     "output_type": "execute_result"
    }
   ],
   "source": [
    "# Create small subset1: Native languages + Region raised  \n",
    "\n",
    "utter_gender_matched.info()\n",
    "utter_gender_matched.head()"
   ]
  },
  {
   "cell_type": "code",
   "execution_count": 23,
   "metadata": {},
   "outputs": [
    {
     "data": {
      "text/plain": [
       "77338"
      ]
     },
     "execution_count": 23,
     "metadata": {},
     "output_type": "execute_result"
    }
   ],
   "source": [
    "utter_gender_matched['WHERE_RAISED'].isnull().sum()"
   ]
  },
  {
   "cell_type": "code",
   "execution_count": 24,
   "metadata": {
    "scrolled": false
   },
   "outputs": [
    {
     "name": "stdout",
     "output_type": "stream",
     "text": [
      "<class 'pandas.core.frame.DataFrame'>\n",
      "RangeIndex: 2024219 entries, 0 to 2024218\n",
      "Data columns (total 3 columns):\n",
      "UTTER_FILE_PATH    object\n",
      "NATIVE_LANG        object\n",
      "WHERE_RAISED       object\n",
      "dtypes: object(3)\n",
      "memory usage: 46.3+ MB\n"
     ]
    }
   ],
   "source": [
    "# Drop rows that have NaN. \n",
    "gender_matched_lang_region_valid = utter_gender_matched.dropna(subset=['NATIVE_LANG', 'WHERE_RAISED'])\n",
    "gender_matched_lang_region_valid = gender_matched_lang_region_valid.reset_index(drop=True)\n",
    "gender_matched_lang_region_valid.info()"
   ]
  },
  {
   "cell_type": "code",
   "execution_count": 25,
   "metadata": {},
   "outputs": [
    {
     "data": {
      "text/plain": [
       "0"
      ]
     },
     "execution_count": 25,
     "metadata": {},
     "output_type": "execute_result"
    }
   ],
   "source": [
    "gender_matched_lang_region_valid['NATIVE_LANG'].isnull().sum()"
   ]
  },
  {
   "cell_type": "code",
   "execution_count": 26,
   "metadata": {},
   "outputs": [
    {
     "data": {
      "text/plain": [
       "0"
      ]
     },
     "execution_count": 26,
     "metadata": {},
     "output_type": "execute_result"
    }
   ],
   "source": [
    "gender_matched_lang_region_valid['WHERE_RAISED'].isnull().sum()"
   ]
  },
  {
   "cell_type": "code",
   "execution_count": 27,
   "metadata": {
    "scrolled": true
   },
   "outputs": [
    {
     "data": {
      "text/html": [
       "<div>\n",
       "<style scoped>\n",
       "    .dataframe tbody tr th:only-of-type {\n",
       "        vertical-align: middle;\n",
       "    }\n",
       "\n",
       "    .dataframe tbody tr th {\n",
       "        vertical-align: top;\n",
       "    }\n",
       "\n",
       "    .dataframe thead th {\n",
       "        text-align: right;\n",
       "    }\n",
       "</style>\n",
       "<table border=\"1\" class=\"dataframe\">\n",
       "  <thead>\n",
       "    <tr style=\"text-align: right;\">\n",
       "      <th></th>\n",
       "      <th>FILENAME</th>\n",
       "      <th>NATIVE_LANG</th>\n",
       "      <th>WHERE_RAISED</th>\n",
       "    </tr>\n",
       "  </thead>\n",
       "  <tbody>\n",
       "    <tr>\n",
       "      <th>0</th>\n",
       "      <td>split-1-fe_03_00506_A.wav</td>\n",
       "      <td>English</td>\n",
       "      <td>CA</td>\n",
       "    </tr>\n",
       "    <tr>\n",
       "      <th>1</th>\n",
       "      <td>split-2-fe_03_00506_B.wav</td>\n",
       "      <td>English</td>\n",
       "      <td>FL</td>\n",
       "    </tr>\n",
       "    <tr>\n",
       "      <th>2</th>\n",
       "      <td>split-3-fe_03_00506_B.wav</td>\n",
       "      <td>English</td>\n",
       "      <td>FL</td>\n",
       "    </tr>\n",
       "    <tr>\n",
       "      <th>3</th>\n",
       "      <td>split-4-fe_03_00506_A.wav</td>\n",
       "      <td>English</td>\n",
       "      <td>CA</td>\n",
       "    </tr>\n",
       "    <tr>\n",
       "      <th>4</th>\n",
       "      <td>split-5-fe_03_00506_A.wav</td>\n",
       "      <td>English</td>\n",
       "      <td>CA</td>\n",
       "    </tr>\n",
       "  </tbody>\n",
       "</table>\n",
       "</div>"
      ],
      "text/plain": [
       "                    FILENAME NATIVE_LANG WHERE_RAISED\n",
       "0  split-1-fe_03_00506_A.wav     English           CA\n",
       "1  split-2-fe_03_00506_B.wav     English           FL\n",
       "2  split-3-fe_03_00506_B.wav     English           FL\n",
       "3  split-4-fe_03_00506_A.wav     English           CA\n",
       "4  split-5-fe_03_00506_A.wav     English           CA"
      ]
     },
     "execution_count": 27,
     "metadata": {},
     "output_type": "execute_result"
    }
   ],
   "source": [
    "# Create lang_region df. \n",
    "lang_region = gender_matched_lang_region_valid.copy()\n",
    "lang_region['FILENAME'] = lang_region['UTTER_FILE_PATH'].map(lambda x: os.path.basename(x))\n",
    "lang_region = lang_region.drop(['UTTER_FILE_PATH'], axis=1)\n",
    "lang_region = lang_region[['FILENAME', 'NATIVE_LANG', 'WHERE_RAISED']]\n",
    "lang_region.head()"
   ]
  },
  {
   "cell_type": "code",
   "execution_count": 28,
   "metadata": {
    "scrolled": true
   },
   "outputs": [
    {
     "name": "stdout",
     "output_type": "stream",
     "text": [
      "152\n"
     ]
    },
    {
     "data": {
      "text/plain": [
       "NY                    268269\n",
       "CA                    230898\n",
       "PA                    186913\n",
       "TX                     98240\n",
       "NJ                     92012\n",
       "                       ...  \n",
       "Greece                   110\n",
       "Bosnia/Herzegovina       100\n",
       "Algeria                   99\n",
       "American Samoa            98\n",
       "Azerbaijan                96\n",
       "Name: WHERE_RAISED, Length: 152, dtype: int64"
      ]
     },
     "execution_count": 28,
     "metadata": {},
     "output_type": "execute_result"
    }
   ],
   "source": [
    "s = lang_region['WHERE_RAISED'].value_counts()\n",
    "print(len(s))\n",
    "s"
   ]
  },
  {
   "cell_type": "code",
   "execution_count": 29,
   "metadata": {
    "scrolled": true
   },
   "outputs": [
    {
     "data": {
      "text/plain": [
       "array(['CA', 'FL', 'PA', 'OH', 'MI', 'OR', 'MN', 'NY', 'IN', 'HI', 'AZ',\n",
       "       'MD', 'WV', 'TN', 'NJ', 'GA', 'WI', 'VA', 'TX', 'MA', 'IL', 'CT',\n",
       "       'Canada', 'United Kingdom', 'VT', 'ND', 'India', 'IA', 'MS', 'ME',\n",
       "       'NC', 'KS', 'NE', 'China', 'KY', 'MO', 'CO', 'NH', 'NV', 'DE',\n",
       "       'OK', 'WA', 'Singapore', 'AL', 'SC', 'WY', 'AR', 'DC', 'Nicaragua',\n",
       "       'Hungary', 'Mexico', 'LA', 'Russian Federation', 'RI', 'NM', 'AK',\n",
       "       'Switzerland', 'France', 'ID', 'Iraq', 'Korea', 'Micronesia', 'UT',\n",
       "       'Turkey', 'Romania', 'Australia', 'Pakistan', 'Spain', 'MT',\n",
       "       'Ukraine', 'Cape Verde', 'Taiwan', 'Netherlands', 'Hong Kong',\n",
       "       'Ghana', 'Israel', 'Guyana', 'Trinidad/Tobago', 'Kuwait',\n",
       "       'Lebanon', 'Morocco', 'Jamaica', 'Brazil', 'Egypt', 'New Zealand',\n",
       "       'Guam', 'Denmark', 'Nigeria', 'Ireland', 'Argentina', 'Germany',\n",
       "       'Colombia', 'Tanzania', 'Kenya', 'Malaysia', 'South Africa',\n",
       "       'Haiti', 'Bulgaria', 'Sri Lanka', 'Belarus', 'Thailand',\n",
       "       'Puerto Rico', 'Poland', 'Indonesia', 'Swaziland', 'Angola',\n",
       "       'Barbados', 'Peru', 'SD', 'Russia', 'Finland', 'Iran', 'Slovakia',\n",
       "       'Philippines', 'Ecuador', 'U.S. Minor Outlying Islands',\n",
       "       'Azerbaijan', 'United Arab Emirates', 'Costa Rica', 'Japan', 'Pal',\n",
       "       'Bolivia', 'Czech Republic', 'Senegal', 'El Salvador', 'Sweden',\n",
       "       'Yugoslavia', 'Saudi Arabia', 'Venezuela', 'Georgia', 'Italy',\n",
       "       'Afghanistan', 'PROVINCE', 'Ivory Coast', 'Chile', 'Cyprus',\n",
       "       'Greece', 'Dominican Republic', 'Belize', 'Panama', 'Lithuania',\n",
       "       'PR', 'U.S. Virgin Islands', 'American Samoa', 'Dominica',\n",
       "       'Uganda', 'Algeria', 'Bosnia/Herzegovina', 'Bangladesh',\n",
       "       'Sierra Leone', 'Jordan', 'Albania'], dtype=object)"
      ]
     },
     "execution_count": 29,
     "metadata": {},
     "output_type": "execute_result"
    }
   ],
   "source": [
    "s = lang_region['WHERE_RAISED'].unique()\n",
    "s"
   ]
  },
  {
   "cell_type": "code",
   "execution_count": 30,
   "metadata": {
    "scrolled": false
   },
   "outputs": [
    {
     "name": "stdout",
     "output_type": "stream",
     "text": [
      "<class 'pandas.core.frame.DataFrame'>\n",
      "RangeIndex: 1978945 entries, 0 to 1978944\n",
      "Data columns (total 2 columns):\n",
      "FILENAME    object\n",
      "LABEL       object\n",
      "dtypes: object(2)\n",
      "memory usage: 30.2+ MB\n"
     ]
    },
    {
     "data": {
      "text/html": [
       "<div>\n",
       "<style scoped>\n",
       "    .dataframe tbody tr th:only-of-type {\n",
       "        vertical-align: middle;\n",
       "    }\n",
       "\n",
       "    .dataframe tbody tr th {\n",
       "        vertical-align: top;\n",
       "    }\n",
       "\n",
       "    .dataframe thead th {\n",
       "        text-align: right;\n",
       "    }\n",
       "</style>\n",
       "<table border=\"1\" class=\"dataframe\">\n",
       "  <thead>\n",
       "    <tr style=\"text-align: right;\">\n",
       "      <th></th>\n",
       "      <th>FILENAME</th>\n",
       "      <th>LABEL</th>\n",
       "    </tr>\n",
       "  </thead>\n",
       "  <tbody>\n",
       "    <tr>\n",
       "      <th>0</th>\n",
       "      <td>split-1-fe_03_00506_A.wav</td>\n",
       "      <td>Eng_CA</td>\n",
       "    </tr>\n",
       "    <tr>\n",
       "      <th>1</th>\n",
       "      <td>split-2-fe_03_00506_B.wav</td>\n",
       "      <td>Eng_FL</td>\n",
       "    </tr>\n",
       "    <tr>\n",
       "      <th>2</th>\n",
       "      <td>split-3-fe_03_00506_B.wav</td>\n",
       "      <td>Eng_FL</td>\n",
       "    </tr>\n",
       "    <tr>\n",
       "      <th>3</th>\n",
       "      <td>split-4-fe_03_00506_A.wav</td>\n",
       "      <td>Eng_CA</td>\n",
       "    </tr>\n",
       "    <tr>\n",
       "      <th>4</th>\n",
       "      <td>split-5-fe_03_00506_A.wav</td>\n",
       "      <td>Eng_CA</td>\n",
       "    </tr>\n",
       "  </tbody>\n",
       "</table>\n",
       "</div>"
      ],
      "text/plain": [
       "                    FILENAME   LABEL\n",
       "0  split-1-fe_03_00506_A.wav  Eng_CA\n",
       "1  split-2-fe_03_00506_B.wav  Eng_FL\n",
       "2  split-3-fe_03_00506_B.wav  Eng_FL\n",
       "3  split-4-fe_03_00506_A.wav  Eng_CA\n",
       "4  split-5-fe_03_00506_A.wav  Eng_CA"
      ]
     },
     "execution_count": 30,
     "metadata": {},
     "output_type": "execute_result"
    }
   ],
   "source": [
    "# Pick up top 30 languages and if that is English, then add region. \n",
    "def conv(row): \n",
    "    if row['NATIVE_LANG'] == 'English': \n",
    "        return 'Eng_' + row['WHERE_RAISED']\n",
    "    elif row['NATIVE_LANG'] in top30_native_languages: \n",
    "        return row['NATIVE_LANG']\n",
    "    else: \n",
    "        return 'other'\n",
    "\n",
    "\n",
    "lang30_region = lang_region.copy()\n",
    "lang30_region['LABEL'] = lang30_region.apply(conv, axis=1)\n",
    "lang30_region = lang30_region.drop(['NATIVE_LANG', 'WHERE_RAISED'], axis=1)\n",
    "lang30_region = lang30_region[lang30_region['LABEL'] != 'other']\n",
    "lang30_region = lang30_region.reset_index(drop=True)\n",
    "lang30_region.info()\n",
    "lang30_region.head()"
   ]
  },
  {
   "cell_type": "code",
   "execution_count": 31,
   "metadata": {},
   "outputs": [
    {
     "data": {
      "text/plain": [
       "0"
      ]
     },
     "execution_count": 31,
     "metadata": {},
     "output_type": "execute_result"
    }
   ],
   "source": [
    "lang30_region['LABEL'].isnull().sum()"
   ]
  },
  {
   "cell_type": "code",
   "execution_count": 32,
   "metadata": {
    "scrolled": true
   },
   "outputs": [
    {
     "name": "stdout",
     "output_type": "stream",
     "text": [
      "124\n"
     ]
    },
    {
     "data": {
      "text/plain": [
       "Eng_NY                254779\n",
       "Eng_CA                209675\n",
       "Eng_PA                182389\n",
       "Eng_TX                 91431\n",
       "Eng_NJ                 88982\n",
       "                       ...  \n",
       "Eng_Indonesia            112\n",
       "Eng_Jordan               112\n",
       "Eng_Algeria               99\n",
       "Eng_American Samoa        98\n",
       "Eng_Spain                 73\n",
       "Name: LABEL, Length: 124, dtype: int64"
      ]
     },
     "execution_count": 32,
     "metadata": {},
     "output_type": "execute_result"
    }
   ],
   "source": [
    "s = lang30_region['LABEL'].value_counts()\n",
    "print(len(s))\n",
    "s"
   ]
  },
  {
   "cell_type": "code",
   "execution_count": 33,
   "metadata": {},
   "outputs": [
    {
     "data": {
      "text/plain": [
       "array(['Eng_CA', 'Eng_FL', 'Eng_PA', 'Eng_OH', 'Eng_MI', 'Eng_OR',\n",
       "       'Eng_MN', 'Eng_NY', 'Eng_IN', 'Eng_HI', 'Eng_AZ', 'Eng_MD',\n",
       "       'Eng_WV', 'Eng_TN', 'Eng_NJ', 'Eng_GA', 'Eng_WI', 'Eng_VA',\n",
       "       'Eng_TX', 'Eng_MA', 'Eng_IL', 'Eng_CT', 'Eng_Canada',\n",
       "       'Eng_United Kingdom', 'Eng_VT', 'Eng_ND', 'Eng_India', 'Eng_IA',\n",
       "       'Eng_MS', 'Hindi', 'Eng_ME', 'Eng_NC', 'Eng_KS', 'Eng_NE',\n",
       "       'Chinese', 'Eng_KY', 'Eng_MO', 'Eng_CO', 'Eng_NH', 'Eng_NV',\n",
       "       'Tamil', 'Eng_DE', 'Eng_OK', 'Eng_WA', 'Eng_AL', 'Eng_SC',\n",
       "       'Eng_WY', 'Eng_AR', 'Spanish', 'Polish', 'French', 'Eng_DC',\n",
       "       'Hungarian', 'Vietnamese', 'Eng_LA', 'Korean', 'Russian', 'Eng_RI',\n",
       "       'Eng_NM', 'Eng_AK', 'Farsi', 'Cantonese', 'Eng_ID', 'Arabic',\n",
       "       'Eng_UT', 'Turkish', 'Romanian', 'Eng_Australia', 'Urdu', 'Hebrew',\n",
       "       'Gujarati', 'Portuguese', 'Eng_MT', 'Eng_Cape Verde', 'Eng_Ghana',\n",
       "       'Eng_Guyana', 'Eng_Trinidad/Tobago', 'Eng_France', 'Eng_Taiwan',\n",
       "       'Eng_Jamaica', 'Yoruba', 'German', 'Telegu', 'Eng_New Zealand',\n",
       "       'Eng_Nigeria', 'Eng_Ireland', 'Tagalog', 'Eng_South Africa',\n",
       "       'Creole', 'Mandarin', 'Eng_Germany', 'Eng_Kenya',\n",
       "       'Eng_Netherlands', 'Eng_Angola', 'Eng_Barbados', 'Eng_SD',\n",
       "       'Eng_Singapore', 'Eng_Mexico', 'Eng_Israel', 'Malayalam',\n",
       "       'Eng_Ecuador', 'Eng_U.S. Minor Outlying Islands', 'Bengali',\n",
       "       'Eng_Haiti', 'Eng_Costa Rica', 'Eng_Japan', 'Italian',\n",
       "       'Eng_Saudi Arabia', 'Eng_Georgia', 'Japanese', 'Eng_Spain',\n",
       "       'Eng_Afghanistan', 'Eng_Ivory Coast', 'Eng_Belize',\n",
       "       'Eng_U.S. Virgin Islands', 'Eng_Brazil', 'Eng_American Samoa',\n",
       "       'Eng_Guam', 'Eng_Philippines', 'Eng_Dominica', 'Eng_Uganda',\n",
       "       'Eng_Algeria', 'Eng_Jordan', 'Eng_Indonesia'], dtype=object)"
      ]
     },
     "execution_count": 33,
     "metadata": {},
     "output_type": "execute_result"
    }
   ],
   "source": [
    "lang30_region['LABEL'].unique()"
   ]
  },
  {
   "cell_type": "code",
   "execution_count": 34,
   "metadata": {},
   "outputs": [
    {
     "data": {
      "image/png": "[encoded data removed]",
      "text/plain": [
       "<Figure size 864x576 with 1 Axes>"
      ]
     },
     "metadata": {
      "needs_background": "light"
     },
     "output_type": "display_data"
    }
   ],
   "source": [
    "# Check the distribution of the label. \n",
    "labels = lang30_region['LABEL'].value_counts().nlargest(20)\n",
    "\n",
    "plt.figure(figsize=(12, 8))\n",
    "ax = labels.plot(kind='bar')\n",
    "ax.set_title('# labels')\n",
    "ax.set_xlabel('Labels') \n",
    "ax.set_ylabel('Frequency')\n",
    "\n",
    "\n",
    "def get_bar(ax): \n",
    "    for rect in ax.patches:\n",
    "        # Get X and Y placement of label from rect.\n",
    "        y_value = rect.get_height()\n",
    "        x_value = rect.get_x() + rect.get_width() / 2\n",
    "\n",
    "        # Number of points between bar and label. Change to your liking.\n",
    "        space = 5\n",
    "        # Vertical alignment for positive values\n",
    "        va = 'bottom'\n",
    "\n",
    "        # If value of bar is negative: Place label below bar\n",
    "        if y_value < 0:\n",
    "            # Invert space to place label below\n",
    "            space *= -1\n",
    "            # Vertically align label at top\n",
    "            va = 'top'\n",
    "\n",
    "        # Use Y value as label and format number with one decimal place\n",
    "    #     label = \"{:.1f}\".format(y_value)\n",
    "        label = y_value\n",
    "\n",
    "        # Create annotation\n",
    "        ax.annotate(\n",
    "            label,                      # Use `label` as label\n",
    "            (x_value, y_value),         # Place label at end of the bar\n",
    "            xytext=(0, space),          # Vertically shift label by `space`\n",
    "            textcoords=\"offset points\", # Interpret `xytext` as offset in points\n",
    "            ha='center',                # Horizontally center label\n",
    "            va=va)                      # Vertically align label differently for\n",
    "                                        # positive and negative values.\n",
    "\n",
    "\n",
    "get_bar(ax)\n",
    "# plt.savefig(\"image.png\")"
   ]
  },
  {
   "cell_type": "code",
   "execution_count": 35,
   "metadata": {},
   "outputs": [
    {
     "name": "stdout",
     "output_type": "stream",
     "text": [
      "95\n"
     ]
    },
    {
     "data": {
      "text/plain": [
       "Eng_NY             254779\n",
       "Eng_CA             209675\n",
       "Eng_PA             182389\n",
       "Eng_TX              91431\n",
       "Eng_NJ              88982\n",
       "                    ...  \n",
       "Eng_Nigeria           567\n",
       "Eng_Japan             531\n",
       "Eng_Mexico            530\n",
       "Eng_Guyana            528\n",
       "Eng_Afghanistan       471\n",
       "Name: LABEL, Length: 95, dtype: int64"
      ]
     },
     "execution_count": 35,
     "metadata": {},
     "output_type": "execute_result"
    }
   ],
   "source": [
    "s = lang30_region['LABEL'].value_counts().nlargest(95)\n",
    "print(len(s))\n",
    "s"
   ]
  },
  {
   "cell_type": "code",
   "execution_count": 36,
   "metadata": {},
   "outputs": [],
   "source": [
    "lang30_region.to_csv(r'label_data/lang30_region.csv', header=True, index=False)"
   ]
  },
  {
   "cell_type": "code",
   "execution_count": 37,
   "metadata": {
    "scrolled": true
   },
   "outputs": [
    {
     "name": "stdout",
     "output_type": "stream",
     "text": [
      "<class 'pandas.core.frame.DataFrame'>\n",
      "RangeIndex: 1978945 entries, 0 to 1978944\n",
      "Data columns (total 2 columns):\n",
      "FILENAME    object\n",
      "LABEL       object\n",
      "dtypes: object(2)\n",
      "memory usage: 30.2+ MB\n"
     ]
    },
    {
     "data": {
      "text/html": [
       "<div>\n",
       "<style scoped>\n",
       "    .dataframe tbody tr th:only-of-type {\n",
       "        vertical-align: middle;\n",
       "    }\n",
       "\n",
       "    .dataframe tbody tr th {\n",
       "        vertical-align: top;\n",
       "    }\n",
       "\n",
       "    .dataframe thead th {\n",
       "        text-align: right;\n",
       "    }\n",
       "</style>\n",
       "<table border=\"1\" class=\"dataframe\">\n",
       "  <thead>\n",
       "    <tr style=\"text-align: right;\">\n",
       "      <th></th>\n",
       "      <th>FILENAME</th>\n",
       "      <th>LABEL</th>\n",
       "    </tr>\n",
       "  </thead>\n",
       "  <tbody>\n",
       "    <tr>\n",
       "      <th>0</th>\n",
       "      <td>split-1-fe_03_00506_A.wav</td>\n",
       "      <td>Eng_CA</td>\n",
       "    </tr>\n",
       "    <tr>\n",
       "      <th>1</th>\n",
       "      <td>split-2-fe_03_00506_B.wav</td>\n",
       "      <td>Eng_FL</td>\n",
       "    </tr>\n",
       "    <tr>\n",
       "      <th>2</th>\n",
       "      <td>split-3-fe_03_00506_B.wav</td>\n",
       "      <td>Eng_FL</td>\n",
       "    </tr>\n",
       "    <tr>\n",
       "      <th>3</th>\n",
       "      <td>split-4-fe_03_00506_A.wav</td>\n",
       "      <td>Eng_CA</td>\n",
       "    </tr>\n",
       "    <tr>\n",
       "      <th>4</th>\n",
       "      <td>split-5-fe_03_00506_A.wav</td>\n",
       "      <td>Eng_CA</td>\n",
       "    </tr>\n",
       "  </tbody>\n",
       "</table>\n",
       "</div>"
      ],
      "text/plain": [
       "                    FILENAME   LABEL\n",
       "0  split-1-fe_03_00506_A.wav  Eng_CA\n",
       "1  split-2-fe_03_00506_B.wav  Eng_FL\n",
       "2  split-3-fe_03_00506_B.wav  Eng_FL\n",
       "3  split-4-fe_03_00506_A.wav  Eng_CA\n",
       "4  split-5-fe_03_00506_A.wav  Eng_CA"
      ]
     },
     "execution_count": 37,
     "metadata": {},
     "output_type": "execute_result"
    }
   ],
   "source": [
    "lang30_region.info()\n",
    "lang30_region.head()"
   ]
  },
  {
   "cell_type": "code",
   "execution_count": 38,
   "metadata": {},
   "outputs": [
    {
     "data": {
      "text/plain": [
       "0"
      ]
     },
     "execution_count": 38,
     "metadata": {},
     "output_type": "execute_result"
    }
   ],
   "source": [
    "lang30_region['LABEL'].isnull().sum()"
   ]
  },
  {
   "cell_type": "code",
   "execution_count": 39,
   "metadata": {
    "scrolled": true
   },
   "outputs": [],
   "source": [
    "# # LabelEncoder\n",
    "# le = LabelEncoder()\n",
    "# lang30_region['LABEL'] = le.fit_transform(lang30_region['LABEL'])\n",
    "# lang30_region.head()"
   ]
  },
  {
   "cell_type": "code",
   "execution_count": null,
   "metadata": {},
   "outputs": [],
   "source": []
  },
  {
   "cell_type": "code",
   "execution_count": 40,
   "metadata": {},
   "outputs": [
    {
     "name": "stdout",
     "output_type": "stream",
     "text": [
      "<class 'pandas.core.frame.DataFrame'>\n",
      "RangeIndex: 45274 entries, 0 to 45273\n",
      "Data columns (total 2 columns):\n",
      "FILENAME    45274 non-null object\n",
      "LABEL       45274 non-null object\n",
      "dtypes: object(2)\n",
      "memory usage: 707.5+ KB\n"
     ]
    },
    {
     "data": {
      "text/html": [
       "<div>\n",
       "<style scoped>\n",
       "    .dataframe tbody tr th:only-of-type {\n",
       "        vertical-align: middle;\n",
       "    }\n",
       "\n",
       "    .dataframe tbody tr th {\n",
       "        vertical-align: top;\n",
       "    }\n",
       "\n",
       "    .dataframe thead th {\n",
       "        text-align: right;\n",
       "    }\n",
       "</style>\n",
       "<table border=\"1\" class=\"dataframe\">\n",
       "  <thead>\n",
       "    <tr style=\"text-align: right;\">\n",
       "      <th></th>\n",
       "      <th>FILENAME</th>\n",
       "      <th>LABEL</th>\n",
       "    </tr>\n",
       "  </thead>\n",
       "  <tbody>\n",
       "    <tr>\n",
       "      <th>0</th>\n",
       "      <td>split-1-fe_03_00508_B.wav</td>\n",
       "      <td>English and Polish</td>\n",
       "    </tr>\n",
       "    <tr>\n",
       "      <th>1</th>\n",
       "      <td>split-5-fe_03_00508_B.wav</td>\n",
       "      <td>English and Polish</td>\n",
       "    </tr>\n",
       "    <tr>\n",
       "      <th>2</th>\n",
       "      <td>split-7-fe_03_00508_B.wav</td>\n",
       "      <td>English and Polish</td>\n",
       "    </tr>\n",
       "    <tr>\n",
       "      <th>3</th>\n",
       "      <td>split-12-fe_03_00508_B.wav</td>\n",
       "      <td>English and Polish</td>\n",
       "    </tr>\n",
       "    <tr>\n",
       "      <th>4</th>\n",
       "      <td>split-14-fe_03_00508_B.wav</td>\n",
       "      <td>English and Polish</td>\n",
       "    </tr>\n",
       "  </tbody>\n",
       "</table>\n",
       "</div>"
      ],
      "text/plain": [
       "                     FILENAME               LABEL\n",
       "0   split-1-fe_03_00508_B.wav  English and Polish\n",
       "1   split-5-fe_03_00508_B.wav  English and Polish\n",
       "2   split-7-fe_03_00508_B.wav  English and Polish\n",
       "3  split-12-fe_03_00508_B.wav  English and Polish\n",
       "4  split-14-fe_03_00508_B.wav  English and Polish"
      ]
     },
     "execution_count": 40,
     "metadata": {},
     "output_type": "execute_result"
    }
   ],
   "source": [
    "# Pick up additional native languages to create all languages later. \n",
    "\n",
    "def conv2(row): \n",
    "    if (not row['NATIVE_LANG'] == 'English') and (not row['NATIVE_LANG'] in top30_native_languages): \n",
    "        return row['NATIVE_LANG']\n",
    "    else: \n",
    "        return 'other'\n",
    "\n",
    "\n",
    "lang_rem_region = lang_region.copy()\n",
    "lang_rem_region['LABEL'] = lang_rem_region.apply(conv2, axis=1)\n",
    "lang_rem_region = lang_rem_region.drop(['NATIVE_LANG', 'WHERE_RAISED'], axis=1)\n",
    "lang_rem_region = lang_rem_region[lang_rem_region['LABEL'] != 'other']\n",
    "lang_rem_region = lang_rem_region.reset_index(drop=True)\n",
    "lang_rem_region.info()\n",
    "lang_rem_region.head()"
   ]
  },
  {
   "cell_type": "code",
   "execution_count": 41,
   "metadata": {},
   "outputs": [
    {
     "name": "stdout",
     "output_type": "stream",
     "text": [
      "<class 'pandas.core.frame.DataFrame'>\n",
      "RangeIndex: 12876 entries, 0 to 12875\n",
      "Data columns (total 2 columns):\n",
      "FILENAME    12876 non-null object\n",
      "LABEL       12876 non-null object\n",
      "dtypes: object(2)\n",
      "memory usage: 201.3+ KB\n"
     ]
    },
    {
     "data": {
      "text/html": [
       "<div>\n",
       "<style scoped>\n",
       "    .dataframe tbody tr th:only-of-type {\n",
       "        vertical-align: middle;\n",
       "    }\n",
       "\n",
       "    .dataframe tbody tr th {\n",
       "        vertical-align: top;\n",
       "    }\n",
       "\n",
       "    .dataframe thead th {\n",
       "        text-align: right;\n",
       "    }\n",
       "</style>\n",
       "<table border=\"1\" class=\"dataframe\">\n",
       "  <thead>\n",
       "    <tr style=\"text-align: right;\">\n",
       "      <th></th>\n",
       "      <th>FILENAME</th>\n",
       "      <th>LABEL</th>\n",
       "    </tr>\n",
       "  </thead>\n",
       "  <tbody>\n",
       "    <tr>\n",
       "      <th>0</th>\n",
       "      <td>split-2-fe_03_00573_B.wav</td>\n",
       "      <td>Indonesian</td>\n",
       "    </tr>\n",
       "    <tr>\n",
       "      <th>1</th>\n",
       "      <td>split-4-fe_03_00573_B.wav</td>\n",
       "      <td>Indonesian</td>\n",
       "    </tr>\n",
       "    <tr>\n",
       "      <th>2</th>\n",
       "      <td>split-5-fe_03_00573_B.wav</td>\n",
       "      <td>Indonesian</td>\n",
       "    </tr>\n",
       "    <tr>\n",
       "      <th>3</th>\n",
       "      <td>split-7-fe_03_00573_B.wav</td>\n",
       "      <td>Indonesian</td>\n",
       "    </tr>\n",
       "    <tr>\n",
       "      <th>4</th>\n",
       "      <td>split-9-fe_03_00573_B.wav</td>\n",
       "      <td>Indonesian</td>\n",
       "    </tr>\n",
       "  </tbody>\n",
       "</table>\n",
       "</div>"
      ],
      "text/plain": [
       "                    FILENAME       LABEL\n",
       "0  split-2-fe_03_00573_B.wav  Indonesian\n",
       "1  split-4-fe_03_00573_B.wav  Indonesian\n",
       "2  split-5-fe_03_00573_B.wav  Indonesian\n",
       "3  split-7-fe_03_00573_B.wav  Indonesian\n",
       "4  split-9-fe_03_00573_B.wav  Indonesian"
      ]
     },
     "execution_count": 41,
     "metadata": {},
     "output_type": "execute_result"
    }
   ],
   "source": [
    "def conv3(row): \n",
    "    if row['LABEL'].find(\"and\") == -1: \n",
    "        return row['LABEL']\n",
    "    else: \n",
    "        return 'other'\n",
    "\n",
    "lang_rem_region['LABEL'] = lang_rem_region.apply(conv3, axis=1)\n",
    "lang_rem_region = lang_rem_region[lang_rem_region['LABEL'] != 'other']\n",
    "lang_rem_region = lang_rem_region.reset_index(drop=True)\n",
    "lang_rem_region.info()\n",
    "lang_rem_region.head()"
   ]
  },
  {
   "cell_type": "code",
   "execution_count": 42,
   "metadata": {},
   "outputs": [
    {
     "name": "stdout",
     "output_type": "stream",
     "text": [
      "40\n"
     ]
    },
    {
     "data": {
      "text/plain": [
       "Armenian          850\n",
       "Punjabi           768\n",
       "Indonesian        762\n",
       "Bulgarian         726\n",
       "Swedish           641\n",
       "Kannada           595\n",
       "Patwa             508\n",
       "Latvian           485\n",
       "Greek             469\n",
       "Marathi           434\n",
       "Dutch             433\n",
       "Croatian          420\n",
       "Filipino          359\n",
       "Czech             358\n",
       "Tigrinya          332\n",
       "Thai              315\n",
       "Shosa             311\n",
       "Norwegian         298\n",
       "Danish            291\n",
       "Kikamba           289\n",
       "Michif            284\n",
       "Samoan            269\n",
       "Taiwanese         227\n",
       "Igbo              198\n",
       "Bangla            197\n",
       "Somali            193\n",
       "Mongolian         192\n",
       "Serbian           182\n",
       "Woloff            171\n",
       "Ukrainian         163\n",
       "Slovak            150\n",
       "Sindhi            144\n",
       "Finnish           142\n",
       "Afrikaans         129\n",
       "Malay             121\n",
       "Georgian          114\n",
       "Foarfe            112\n",
       "Khmer             105\n",
       "Visayan            89\n",
       "Serbo-Croatian     50\n",
       "Name: LABEL, dtype: int64"
      ]
     },
     "execution_count": 42,
     "metadata": {},
     "output_type": "execute_result"
    }
   ],
   "source": [
    "s = lang_rem_region['LABEL'].value_counts()\n",
    "print(len(s))\n",
    "s"
   ]
  },
  {
   "cell_type": "code",
   "execution_count": 43,
   "metadata": {},
   "outputs": [
    {
     "name": "stdout",
     "output_type": "stream",
     "text": [
      "<class 'pandas.core.frame.DataFrame'>\n",
      "RangeIndex: 1991821 entries, 0 to 1991820\n",
      "Data columns (total 2 columns):\n",
      "FILENAME    object\n",
      "LABEL       object\n",
      "dtypes: object(2)\n",
      "memory usage: 30.4+ MB\n"
     ]
    },
    {
     "data": {
      "text/html": [
       "<div>\n",
       "<style scoped>\n",
       "    .dataframe tbody tr th:only-of-type {\n",
       "        vertical-align: middle;\n",
       "    }\n",
       "\n",
       "    .dataframe tbody tr th {\n",
       "        vertical-align: top;\n",
       "    }\n",
       "\n",
       "    .dataframe thead th {\n",
       "        text-align: right;\n",
       "    }\n",
       "</style>\n",
       "<table border=\"1\" class=\"dataframe\">\n",
       "  <thead>\n",
       "    <tr style=\"text-align: right;\">\n",
       "      <th></th>\n",
       "      <th>FILENAME</th>\n",
       "      <th>LABEL</th>\n",
       "    </tr>\n",
       "  </thead>\n",
       "  <tbody>\n",
       "    <tr>\n",
       "      <th>0</th>\n",
       "      <td>split-1-fe_03_00506_A.wav</td>\n",
       "      <td>Eng_CA</td>\n",
       "    </tr>\n",
       "    <tr>\n",
       "      <th>1</th>\n",
       "      <td>split-2-fe_03_00506_B.wav</td>\n",
       "      <td>Eng_FL</td>\n",
       "    </tr>\n",
       "    <tr>\n",
       "      <th>2</th>\n",
       "      <td>split-3-fe_03_00506_B.wav</td>\n",
       "      <td>Eng_FL</td>\n",
       "    </tr>\n",
       "    <tr>\n",
       "      <th>3</th>\n",
       "      <td>split-4-fe_03_00506_A.wav</td>\n",
       "      <td>Eng_CA</td>\n",
       "    </tr>\n",
       "    <tr>\n",
       "      <th>4</th>\n",
       "      <td>split-5-fe_03_00506_A.wav</td>\n",
       "      <td>Eng_CA</td>\n",
       "    </tr>\n",
       "  </tbody>\n",
       "</table>\n",
       "</div>"
      ],
      "text/plain": [
       "                    FILENAME   LABEL\n",
       "0  split-1-fe_03_00506_A.wav  Eng_CA\n",
       "1  split-2-fe_03_00506_B.wav  Eng_FL\n",
       "2  split-3-fe_03_00506_B.wav  Eng_FL\n",
       "3  split-4-fe_03_00506_A.wav  Eng_CA\n",
       "4  split-5-fe_03_00506_A.wav  Eng_CA"
      ]
     },
     "execution_count": 43,
     "metadata": {},
     "output_type": "execute_result"
    }
   ],
   "source": [
    "lang70_region = pd.concat([lang30_region, lang_rem_region])\n",
    "lang70_region = lang70_region.reset_index(drop=True)\n",
    "lang70_region.info()\n",
    "lang70_region.head()"
   ]
  },
  {
   "cell_type": "code",
   "execution_count": 44,
   "metadata": {},
   "outputs": [],
   "source": [
    "lang70_region.to_csv(r'label_data/lang70_region.csv', header=True, index=False)"
   ]
  },
  {
   "cell_type": "code",
   "execution_count": null,
   "metadata": {},
   "outputs": [],
   "source": []
  },
  {
   "cell_type": "code",
   "execution_count": null,
   "metadata": {},
   "outputs": [],
   "source": []
  },
  {
   "cell_type": "code",
   "execution_count": null,
   "metadata": {},
   "outputs": [],
   "source": []
  },
  {
   "cell_type": "code",
   "execution_count": null,
   "metadata": {},
   "outputs": [],
   "source": []
  },
  {
   "cell_type": "code",
   "execution_count": null,
   "metadata": {},
   "outputs": [],
   "source": []
  },
  {
   "cell_type": "code",
   "execution_count": null,
   "metadata": {},
   "outputs": [],
   "source": []
  },
  {
   "cell_type": "code",
   "execution_count": null,
   "metadata": {},
   "outputs": [],
   "source": []
  },
  {
   "cell_type": "code",
   "execution_count": null,
   "metadata": {},
   "outputs": [],
   "source": []
  },
  {
   "cell_type": "code",
   "execution_count": null,
   "metadata": {},
   "outputs": [],
   "source": []
  },
  {
   "cell_type": "code",
   "execution_count": null,
   "metadata": {},
   "outputs": [],
   "source": []
  },
  {
   "cell_type": "code",
   "execution_count": null,
   "metadata": {},
   "outputs": [],
   "source": []
  },
  {
   "cell_type": "code",
   "execution_count": null,
   "metadata": {},
   "outputs": [],
   "source": []
  },
  {
   "cell_type": "code",
   "execution_count": null,
   "metadata": {},
   "outputs": [],
   "source": []
  },
  {
   "cell_type": "code",
   "execution_count": null,
   "metadata": {},
   "outputs": [],
   "source": []
  },
  {
   "cell_type": "code",
   "execution_count": null,
   "metadata": {},
   "outputs": [],
   "source": []
  }
 ],
 "metadata": {
  "kernelspec": {
   "display_name": "Python 3",
   "language": "python",
   "name": "python3"
  },
  "language_info": {
   "codemirror_mode": {
    "name": "ipython",
    "version": 3
   },
   "file_extension": ".py",
   "mimetype": "text/x-python",
   "name": "python",
   "nbconvert_exporter": "python",
   "pygments_lexer": "ipython3",
   "version": "3.7.6"
  }
 },
 "nbformat": 4,
 "nbformat_minor": 2
}
