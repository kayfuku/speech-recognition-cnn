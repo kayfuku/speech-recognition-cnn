{
 "cells": [
  {
   "cell_type": "code",
   "execution_count": 1,
   "metadata": {},
   "outputs": [],
   "source": [
    "import numpy as np\n",
    "import pandas as pd\n",
    "import matplotlib.pyplot as plt\n",
    "import seaborn as sns\n",
    "%matplotlib inline"
   ]
  },
  {
   "cell_type": "code",
   "execution_count": 2,
   "metadata": {},
   "outputs": [
    {
     "name": "stdout",
     "output_type": "stream",
     "text": [
      "<class 'pandas.core.frame.DataFrame'>\n",
      "RangeIndex: 11971 entries, 0 to 11970\n",
      "Data columns (total 8 columns):\n",
      "PIN             11971 non-null int64\n",
      "S_SEX           11917 non-null object\n",
      "S_AGE           11926 non-null float64\n",
      "EDU             11913 non-null float64\n",
      "NATIVE_LANG     11630 non-null object\n",
      "WHERE_RAISED    11495 non-null object\n",
      "NSIDES          11971 non-null int64\n",
      "SIDE_DATA       11971 non-null object\n",
      "dtypes: float64(2), int64(2), object(4)\n",
      "memory usage: 748.3+ KB\n"
     ]
    },
    {
     "data": {
      "text/html": [
       "<div>\n",
       "<style scoped>\n",
       "    .dataframe tbody tr th:only-of-type {\n",
       "        vertical-align: middle;\n",
       "    }\n",
       "\n",
       "    .dataframe tbody tr th {\n",
       "        vertical-align: top;\n",
       "    }\n",
       "\n",
       "    .dataframe thead th {\n",
       "        text-align: right;\n",
       "    }\n",
       "</style>\n",
       "<table border=\"1\" class=\"dataframe\">\n",
       "  <thead>\n",
       "    <tr style=\"text-align: right;\">\n",
       "      <th></th>\n",
       "      <th>PIN</th>\n",
       "      <th>S_SEX</th>\n",
       "      <th>S_AGE</th>\n",
       "      <th>EDU</th>\n",
       "      <th>NATIVE_LANG</th>\n",
       "      <th>WHERE_RAISED</th>\n",
       "      <th>NSIDES</th>\n",
       "      <th>SIDE_DATA</th>\n",
       "    </tr>\n",
       "  </thead>\n",
       "  <tbody>\n",
       "    <tr>\n",
       "      <th>0</th>\n",
       "      <td>1006</td>\n",
       "      <td>F</td>\n",
       "      <td>19.0</td>\n",
       "      <td>13.0</td>\n",
       "      <td>English</td>\n",
       "      <td>PA</td>\n",
       "      <td>1</td>\n",
       "      <td>00409_A/f.a</td>\n",
       "    </tr>\n",
       "    <tr>\n",
       "      <th>1</th>\n",
       "      <td>1007</td>\n",
       "      <td>F</td>\n",
       "      <td>32.0</td>\n",
       "      <td>16.0</td>\n",
       "      <td>English</td>\n",
       "      <td>WA</td>\n",
       "      <td>3</td>\n",
       "      <td>01153_B/f.a;01567_A/f.a;02235_A/f.a</td>\n",
       "    </tr>\n",
       "    <tr>\n",
       "      <th>2</th>\n",
       "      <td>1008</td>\n",
       "      <td>M</td>\n",
       "      <td>58.0</td>\n",
       "      <td>16.0</td>\n",
       "      <td>English</td>\n",
       "      <td>NaN</td>\n",
       "      <td>3</td>\n",
       "      <td>00420_B/m.a;01356_A/m.a;01745_A/m.a</td>\n",
       "    </tr>\n",
       "    <tr>\n",
       "      <th>3</th>\n",
       "      <td>1009</td>\n",
       "      <td>F</td>\n",
       "      <td>56.0</td>\n",
       "      <td>16.0</td>\n",
       "      <td>English</td>\n",
       "      <td>NaN</td>\n",
       "      <td>3</td>\n",
       "      <td>01126_B/f.a;06411_A/f.a;06855_B/f.a</td>\n",
       "    </tr>\n",
       "    <tr>\n",
       "      <th>4</th>\n",
       "      <td>1010</td>\n",
       "      <td>M</td>\n",
       "      <td>18.0</td>\n",
       "      <td>12.0</td>\n",
       "      <td>English</td>\n",
       "      <td>NY</td>\n",
       "      <td>1</td>\n",
       "      <td>00592_B/m.a</td>\n",
       "    </tr>\n",
       "  </tbody>\n",
       "</table>\n",
       "</div>"
      ],
      "text/plain": [
       "    PIN S_SEX  S_AGE   EDU NATIVE_LANG WHERE_RAISED  NSIDES  \\\n",
       "0  1006     F   19.0  13.0     English           PA       1   \n",
       "1  1007     F   32.0  16.0     English           WA       3   \n",
       "2  1008     M   58.0  16.0     English          NaN       3   \n",
       "3  1009     F   56.0  16.0     English          NaN       3   \n",
       "4  1010     M   18.0  12.0     English           NY       1   \n",
       "\n",
       "                             SIDE_DATA  \n",
       "0                          00409_A/f.a  \n",
       "1  01153_B/f.a;01567_A/f.a;02235_A/f.a  \n",
       "2  00420_B/m.a;01356_A/m.a;01745_A/m.a  \n",
       "3  01126_B/f.a;06411_A/f.a;06855_B/f.a  \n",
       "4                          00592_B/m.a  "
      ]
     },
     "execution_count": 2,
     "metadata": {},
     "output_type": "execute_result"
    }
   ],
   "source": [
    "pindata = pd.read_csv('data/fe_03_pindata.tbl')\n",
    "pindata.info()\n",
    "pindata.head()"
   ]
  },
  {
   "cell_type": "code",
   "execution_count": 3,
   "metadata": {
    "scrolled": true
   },
   "outputs": [
    {
     "data": {
      "text/html": [
       "<div>\n",
       "<style scoped>\n",
       "    .dataframe tbody tr th:only-of-type {\n",
       "        vertical-align: middle;\n",
       "    }\n",
       "\n",
       "    .dataframe tbody tr th {\n",
       "        vertical-align: top;\n",
       "    }\n",
       "\n",
       "    .dataframe thead th {\n",
       "        text-align: right;\n",
       "    }\n",
       "</style>\n",
       "<table border=\"1\" class=\"dataframe\">\n",
       "  <thead>\n",
       "    <tr style=\"text-align: right;\">\n",
       "      <th></th>\n",
       "      <th>CALL_ID</th>\n",
       "      <th>DATE_TIME</th>\n",
       "      <th>TOPICID</th>\n",
       "      <th>SIG_GRADE</th>\n",
       "      <th>CNV_GRADE</th>\n",
       "      <th>APIN</th>\n",
       "      <th>ASX.DL</th>\n",
       "      <th>APHNUM</th>\n",
       "      <th>APHSET</th>\n",
       "      <th>APHTYP</th>\n",
       "      <th>BPIN</th>\n",
       "      <th>BSX.DL</th>\n",
       "      <th>BPHNUM</th>\n",
       "      <th>BPHSET</th>\n",
       "      <th>BPHTYP</th>\n",
       "    </tr>\n",
       "  </thead>\n",
       "  <tbody>\n",
       "    <tr>\n",
       "      <th>0</th>\n",
       "      <td>1</td>\n",
       "      <td>20021205_14:30:59</td>\n",
       "      <td>ENG34</td>\n",
       "      <td>2.0</td>\n",
       "      <td>2.0</td>\n",
       "      <td>2602</td>\n",
       "      <td>m.a</td>\n",
       "      <td>301471cqg</td>\n",
       "      <td>NaN</td>\n",
       "      <td>1.0</td>\n",
       "      <td>1790</td>\n",
       "      <td>f.a</td>\n",
       "      <td>212897ebt</td>\n",
       "      <td>NaN</td>\n",
       "      <td>3.0</td>\n",
       "    </tr>\n",
       "    <tr>\n",
       "      <th>1</th>\n",
       "      <td>2</td>\n",
       "      <td>20021205_16:42:01</td>\n",
       "      <td>ENG34</td>\n",
       "      <td>4.0</td>\n",
       "      <td>4.0</td>\n",
       "      <td>2152</td>\n",
       "      <td>f.a</td>\n",
       "      <td>412654ucr</td>\n",
       "      <td>NaN</td>\n",
       "      <td>1.0</td>\n",
       "      <td>9998</td>\n",
       "      <td>m.a</td>\n",
       "      <td>267295jdt</td>\n",
       "      <td>NaN</td>\n",
       "      <td>NaN</td>\n",
       "    </tr>\n",
       "    <tr>\n",
       "      <th>2</th>\n",
       "      <td>3</td>\n",
       "      <td>20021205_17:14:37</td>\n",
       "      <td>ENG34</td>\n",
       "      <td>4.0</td>\n",
       "      <td>4.0</td>\n",
       "      <td>5897</td>\n",
       "      <td>f.a</td>\n",
       "      <td>412648ygc</td>\n",
       "      <td>NaN</td>\n",
       "      <td>2.0</td>\n",
       "      <td>9997</td>\n",
       "      <td>m.a</td>\n",
       "      <td>925377gle</td>\n",
       "      <td>NaN</td>\n",
       "      <td>1.0</td>\n",
       "    </tr>\n",
       "    <tr>\n",
       "      <th>3</th>\n",
       "      <td>4</td>\n",
       "      <td>20021205_17:15:13</td>\n",
       "      <td>ENG34</td>\n",
       "      <td>4.0</td>\n",
       "      <td>2.0</td>\n",
       "      <td>4775</td>\n",
       "      <td>f.a</td>\n",
       "      <td>610286inx</td>\n",
       "      <td>NaN</td>\n",
       "      <td>3.0</td>\n",
       "      <td>4612</td>\n",
       "      <td>f.a</td>\n",
       "      <td>714593eoj</td>\n",
       "      <td>NaN</td>\n",
       "      <td>3.0</td>\n",
       "    </tr>\n",
       "    <tr>\n",
       "      <th>4</th>\n",
       "      <td>5</td>\n",
       "      <td>20021205_20:16:07</td>\n",
       "      <td>ENG34</td>\n",
       "      <td>4.0</td>\n",
       "      <td>4.0</td>\n",
       "      <td>5334</td>\n",
       "      <td>m.a</td>\n",
       "      <td>215483niy</td>\n",
       "      <td>NaN</td>\n",
       "      <td>3.0</td>\n",
       "      <td>2066</td>\n",
       "      <td>f.o</td>\n",
       "      <td>917541vcu</td>\n",
       "      <td>NaN</td>\n",
       "      <td>1.0</td>\n",
       "    </tr>\n",
       "  </tbody>\n",
       "</table>\n",
       "</div>"
      ],
      "text/plain": [
       "   CALL_ID          DATE_TIME TOPICID  SIG_GRADE  CNV_GRADE  APIN ASX.DL  \\\n",
       "0        1  20021205_14:30:59   ENG34        2.0        2.0  2602    m.a   \n",
       "1        2  20021205_16:42:01   ENG34        4.0        4.0  2152    f.a   \n",
       "2        3  20021205_17:14:37   ENG34        4.0        4.0  5897    f.a   \n",
       "3        4  20021205_17:15:13   ENG34        4.0        2.0  4775    f.a   \n",
       "4        5  20021205_20:16:07   ENG34        4.0        4.0  5334    m.a   \n",
       "\n",
       "      APHNUM  APHSET  APHTYP  BPIN BSX.DL     BPHNUM  BPHSET  BPHTYP  \n",
       "0  301471cqg     NaN     1.0  1790    f.a  212897ebt     NaN     3.0  \n",
       "1  412654ucr     NaN     1.0  9998    m.a  267295jdt     NaN     NaN  \n",
       "2  412648ygc     NaN     2.0  9997    m.a  925377gle     NaN     1.0  \n",
       "3  610286inx     NaN     3.0  4612    f.a  714593eoj     NaN     3.0  \n",
       "4  215483niy     NaN     3.0  2066    f.o  917541vcu     NaN     1.0  "
      ]
     },
     "execution_count": 3,
     "metadata": {},
     "output_type": "execute_result"
    }
   ],
   "source": [
    "calldata1 = pd.read_csv('data/fe_03_p1_calldata.tbl')\n",
    "calldata1.head()"
   ]
  },
  {
   "cell_type": "code",
   "execution_count": 4,
   "metadata": {},
   "outputs": [
    {
     "name": "stdout",
     "output_type": "stream",
     "text": [
      "<class 'pandas.core.frame.DataFrame'>\n",
      "RangeIndex: 5850 entries, 0 to 5849\n",
      "Data columns (total 15 columns):\n",
      "CALL_ID      5850 non-null int64\n",
      "DATE_TIME    5850 non-null object\n",
      "TOPICID      5834 non-null object\n",
      "SIG_GRADE    5850 non-null float64\n",
      "CNV_GRADE    5850 non-null float64\n",
      "APIN         5850 non-null int64\n",
      "ASX.DL       5850 non-null object\n",
      "APHNUM       5850 non-null object\n",
      "APHSET       3075 non-null float64\n",
      "APHTYP       5558 non-null float64\n",
      "BPIN         5850 non-null int64\n",
      "BSX.DL       5850 non-null object\n",
      "BPHNUM       5850 non-null object\n",
      "BPHSET       3063 non-null float64\n",
      "BPHTYP       5245 non-null float64\n",
      "dtypes: float64(6), int64(3), object(6)\n",
      "memory usage: 685.7+ KB\n"
     ]
    }
   ],
   "source": [
    "calldata1.info()"
   ]
  },
  {
   "cell_type": "code",
   "execution_count": 5,
   "metadata": {},
   "outputs": [
    {
     "data": {
      "text/html": [
       "<div>\n",
       "<style scoped>\n",
       "    .dataframe tbody tr th:only-of-type {\n",
       "        vertical-align: middle;\n",
       "    }\n",
       "\n",
       "    .dataframe tbody tr th {\n",
       "        vertical-align: top;\n",
       "    }\n",
       "\n",
       "    .dataframe thead th {\n",
       "        text-align: right;\n",
       "    }\n",
       "</style>\n",
       "<table border=\"1\" class=\"dataframe\">\n",
       "  <thead>\n",
       "    <tr style=\"text-align: right;\">\n",
       "      <th></th>\n",
       "      <th>CALL_ID</th>\n",
       "      <th>DATE_TIME</th>\n",
       "      <th>TOPICID</th>\n",
       "      <th>SIG_GRADE</th>\n",
       "      <th>CNV_GRADE</th>\n",
       "      <th>APIN</th>\n",
       "      <th>ASX.DL</th>\n",
       "      <th>APHNUM</th>\n",
       "      <th>APHSET</th>\n",
       "      <th>APHTYP</th>\n",
       "      <th>BPIN</th>\n",
       "      <th>BSX.DL</th>\n",
       "      <th>BPHNUM</th>\n",
       "      <th>BPHSET</th>\n",
       "      <th>BPHTYP</th>\n",
       "    </tr>\n",
       "  </thead>\n",
       "  <tbody>\n",
       "    <tr>\n",
       "      <th>0</th>\n",
       "      <td>5851</td>\n",
       "      <td>20030514_18:49:18</td>\n",
       "      <td>ENG10</td>\n",
       "      <td>4.0</td>\n",
       "      <td>4.0</td>\n",
       "      <td>96498</td>\n",
       "      <td>f.o</td>\n",
       "      <td>650428gei</td>\n",
       "      <td>4.0</td>\n",
       "      <td>3.0</td>\n",
       "      <td>86972</td>\n",
       "      <td>f.a</td>\n",
       "      <td>no_BPHNUM</td>\n",
       "      <td>4.0</td>\n",
       "      <td>2.0</td>\n",
       "    </tr>\n",
       "    <tr>\n",
       "      <th>1</th>\n",
       "      <td>5852</td>\n",
       "      <td>20030514_18:58:48</td>\n",
       "      <td>ENG10</td>\n",
       "      <td>4.0</td>\n",
       "      <td>2.5</td>\n",
       "      <td>26375</td>\n",
       "      <td>f.a</td>\n",
       "      <td>480948qqo</td>\n",
       "      <td>NaN</td>\n",
       "      <td>3.0</td>\n",
       "      <td>39550</td>\n",
       "      <td>f.a</td>\n",
       "      <td>917757yjm</td>\n",
       "      <td>NaN</td>\n",
       "      <td>1.0</td>\n",
       "    </tr>\n",
       "    <tr>\n",
       "      <th>2</th>\n",
       "      <td>5853</td>\n",
       "      <td>20030514_19:06:10</td>\n",
       "      <td>ENG10</td>\n",
       "      <td>4.0</td>\n",
       "      <td>3.5</td>\n",
       "      <td>45776</td>\n",
       "      <td>f.a</td>\n",
       "      <td>818312pbg</td>\n",
       "      <td>4.0</td>\n",
       "      <td>1.0</td>\n",
       "      <td>72959</td>\n",
       "      <td>f.a</td>\n",
       "      <td>no_BPHNUM</td>\n",
       "      <td>4.0</td>\n",
       "      <td>2.0</td>\n",
       "    </tr>\n",
       "    <tr>\n",
       "      <th>3</th>\n",
       "      <td>5854</td>\n",
       "      <td>20030514_19:38:43</td>\n",
       "      <td>ENG10</td>\n",
       "      <td>4.0</td>\n",
       "      <td>3.5</td>\n",
       "      <td>12903</td>\n",
       "      <td>f.a</td>\n",
       "      <td>218879qim</td>\n",
       "      <td>4.0</td>\n",
       "      <td>3.0</td>\n",
       "      <td>82880</td>\n",
       "      <td>f.a</td>\n",
       "      <td>718444ekj</td>\n",
       "      <td>4.0</td>\n",
       "      <td>2.0</td>\n",
       "    </tr>\n",
       "    <tr>\n",
       "      <th>4</th>\n",
       "      <td>5855</td>\n",
       "      <td>20030514_19:42:07</td>\n",
       "      <td>ENG10</td>\n",
       "      <td>4.0</td>\n",
       "      <td>4.0</td>\n",
       "      <td>86322</td>\n",
       "      <td>f.a</td>\n",
       "      <td>931906iqu</td>\n",
       "      <td>4.0</td>\n",
       "      <td>3.0</td>\n",
       "      <td>55384</td>\n",
       "      <td>f.a</td>\n",
       "      <td>931526jhk</td>\n",
       "      <td>4.0</td>\n",
       "      <td>2.0</td>\n",
       "    </tr>\n",
       "  </tbody>\n",
       "</table>\n",
       "</div>"
      ],
      "text/plain": [
       "   CALL_ID          DATE_TIME TOPICID  SIG_GRADE  CNV_GRADE   APIN ASX.DL  \\\n",
       "0     5851  20030514_18:49:18   ENG10        4.0        4.0  96498    f.o   \n",
       "1     5852  20030514_18:58:48   ENG10        4.0        2.5  26375    f.a   \n",
       "2     5853  20030514_19:06:10   ENG10        4.0        3.5  45776    f.a   \n",
       "3     5854  20030514_19:38:43   ENG10        4.0        3.5  12903    f.a   \n",
       "4     5855  20030514_19:42:07   ENG10        4.0        4.0  86322    f.a   \n",
       "\n",
       "      APHNUM  APHSET  APHTYP   BPIN BSX.DL     BPHNUM  BPHSET  BPHTYP  \n",
       "0  650428gei     4.0     3.0  86972    f.a  no_BPHNUM     4.0     2.0  \n",
       "1  480948qqo     NaN     3.0  39550    f.a  917757yjm     NaN     1.0  \n",
       "2  818312pbg     4.0     1.0  72959    f.a  no_BPHNUM     4.0     2.0  \n",
       "3  218879qim     4.0     3.0  82880    f.a  718444ekj     4.0     2.0  \n",
       "4  931906iqu     4.0     3.0  55384    f.a  931526jhk     4.0     2.0  "
      ]
     },
     "execution_count": 5,
     "metadata": {},
     "output_type": "execute_result"
    }
   ],
   "source": [
    "calldata2 = pd.read_csv('data/fe_03_p2_calldata.tbl')\n",
    "calldata2.head()"
   ]
  },
  {
   "cell_type": "code",
   "execution_count": 6,
   "metadata": {},
   "outputs": [
    {
     "data": {
      "text/plain": [
       "((11971, 8), (5850, 15), (5849, 15))"
      ]
     },
     "execution_count": 6,
     "metadata": {},
     "output_type": "execute_result"
    }
   ],
   "source": [
    "pindata.shape, calldata1.shape, calldata2.shape"
   ]
  },
  {
   "cell_type": "code",
   "execution_count": 7,
   "metadata": {
    "scrolled": true
   },
   "outputs": [
    {
     "data": {
      "text/html": [
       "<div>\n",
       "<style scoped>\n",
       "    .dataframe tbody tr th:only-of-type {\n",
       "        vertical-align: middle;\n",
       "    }\n",
       "\n",
       "    .dataframe tbody tr th {\n",
       "        vertical-align: top;\n",
       "    }\n",
       "\n",
       "    .dataframe thead th {\n",
       "        text-align: right;\n",
       "    }\n",
       "</style>\n",
       "<table border=\"1\" class=\"dataframe\">\n",
       "  <thead>\n",
       "    <tr style=\"text-align: right;\">\n",
       "      <th></th>\n",
       "      <th>PIN</th>\n",
       "      <th>S_SEX</th>\n",
       "      <th>S_AGE</th>\n",
       "      <th>EDU</th>\n",
       "      <th>NATIVE_LANG</th>\n",
       "      <th>WHERE_RAISED</th>\n",
       "    </tr>\n",
       "  </thead>\n",
       "  <tbody>\n",
       "    <tr>\n",
       "      <th>0</th>\n",
       "      <td>1006</td>\n",
       "      <td>F</td>\n",
       "      <td>19.0</td>\n",
       "      <td>13.0</td>\n",
       "      <td>English</td>\n",
       "      <td>PA</td>\n",
       "    </tr>\n",
       "    <tr>\n",
       "      <th>1</th>\n",
       "      <td>1007</td>\n",
       "      <td>F</td>\n",
       "      <td>32.0</td>\n",
       "      <td>16.0</td>\n",
       "      <td>English</td>\n",
       "      <td>WA</td>\n",
       "    </tr>\n",
       "    <tr>\n",
       "      <th>2</th>\n",
       "      <td>1008</td>\n",
       "      <td>M</td>\n",
       "      <td>58.0</td>\n",
       "      <td>16.0</td>\n",
       "      <td>English</td>\n",
       "      <td>NaN</td>\n",
       "    </tr>\n",
       "    <tr>\n",
       "      <th>3</th>\n",
       "      <td>1009</td>\n",
       "      <td>F</td>\n",
       "      <td>56.0</td>\n",
       "      <td>16.0</td>\n",
       "      <td>English</td>\n",
       "      <td>NaN</td>\n",
       "    </tr>\n",
       "    <tr>\n",
       "      <th>4</th>\n",
       "      <td>1010</td>\n",
       "      <td>M</td>\n",
       "      <td>18.0</td>\n",
       "      <td>12.0</td>\n",
       "      <td>English</td>\n",
       "      <td>NY</td>\n",
       "    </tr>\n",
       "  </tbody>\n",
       "</table>\n",
       "</div>"
      ],
      "text/plain": [
       "    PIN S_SEX  S_AGE   EDU NATIVE_LANG WHERE_RAISED\n",
       "0  1006     F   19.0  13.0     English           PA\n",
       "1  1007     F   32.0  16.0     English           WA\n",
       "2  1008     M   58.0  16.0     English          NaN\n",
       "3  1009     F   56.0  16.0     English          NaN\n",
       "4  1010     M   18.0  12.0     English           NY"
      ]
     },
     "execution_count": 7,
     "metadata": {},
     "output_type": "execute_result"
    }
   ],
   "source": [
    "pindata_sub = pindata[['PIN', 'S_SEX', 'S_AGE', 'EDU', 'NATIVE_LANG', 'WHERE_RAISED']]\n",
    "pindata_sub.head()"
   ]
  },
  {
   "cell_type": "code",
   "execution_count": 8,
   "metadata": {},
   "outputs": [
    {
     "data": {
      "text/plain": [
       "Index(['CALL_ID', 'DATE_TIME', 'TOPICID', 'SIG_GRADE', 'CNV_GRADE', 'APIN',\n",
       "       'ASX.DL', 'APHNUM', 'APHSET', 'APHTYP', 'BPIN', 'BSX.DL', 'BPHNUM',\n",
       "       'BPHSET', 'BPHTYP'],\n",
       "      dtype='object')"
      ]
     },
     "execution_count": 8,
     "metadata": {},
     "output_type": "execute_result"
    }
   ],
   "source": [
    "calldata1.columns"
   ]
  },
  {
   "cell_type": "code",
   "execution_count": 9,
   "metadata": {},
   "outputs": [
    {
     "data": {
      "text/html": [
       "<div>\n",
       "<style scoped>\n",
       "    .dataframe tbody tr th:only-of-type {\n",
       "        vertical-align: middle;\n",
       "    }\n",
       "\n",
       "    .dataframe tbody tr th {\n",
       "        vertical-align: top;\n",
       "    }\n",
       "\n",
       "    .dataframe thead th {\n",
       "        text-align: right;\n",
       "    }\n",
       "</style>\n",
       "<table border=\"1\" class=\"dataframe\">\n",
       "  <thead>\n",
       "    <tr style=\"text-align: right;\">\n",
       "      <th></th>\n",
       "      <th>CALL_ID</th>\n",
       "      <th>TOPICID</th>\n",
       "      <th>APIN</th>\n",
       "      <th>ASX.DL</th>\n",
       "      <th>BPIN</th>\n",
       "      <th>BSX.DL</th>\n",
       "    </tr>\n",
       "  </thead>\n",
       "  <tbody>\n",
       "    <tr>\n",
       "      <th>0</th>\n",
       "      <td>1</td>\n",
       "      <td>ENG34</td>\n",
       "      <td>2602</td>\n",
       "      <td>m.a</td>\n",
       "      <td>1790</td>\n",
       "      <td>f.a</td>\n",
       "    </tr>\n",
       "    <tr>\n",
       "      <th>1</th>\n",
       "      <td>2</td>\n",
       "      <td>ENG34</td>\n",
       "      <td>2152</td>\n",
       "      <td>f.a</td>\n",
       "      <td>9998</td>\n",
       "      <td>m.a</td>\n",
       "    </tr>\n",
       "    <tr>\n",
       "      <th>2</th>\n",
       "      <td>3</td>\n",
       "      <td>ENG34</td>\n",
       "      <td>5897</td>\n",
       "      <td>f.a</td>\n",
       "      <td>9997</td>\n",
       "      <td>m.a</td>\n",
       "    </tr>\n",
       "    <tr>\n",
       "      <th>3</th>\n",
       "      <td>4</td>\n",
       "      <td>ENG34</td>\n",
       "      <td>4775</td>\n",
       "      <td>f.a</td>\n",
       "      <td>4612</td>\n",
       "      <td>f.a</td>\n",
       "    </tr>\n",
       "    <tr>\n",
       "      <th>4</th>\n",
       "      <td>5</td>\n",
       "      <td>ENG34</td>\n",
       "      <td>5334</td>\n",
       "      <td>m.a</td>\n",
       "      <td>2066</td>\n",
       "      <td>f.o</td>\n",
       "    </tr>\n",
       "  </tbody>\n",
       "</table>\n",
       "</div>"
      ],
      "text/plain": [
       "   CALL_ID TOPICID  APIN ASX.DL  BPIN BSX.DL\n",
       "0        1   ENG34  2602    m.a  1790    f.a\n",
       "1        2   ENG34  2152    f.a  9998    m.a\n",
       "2        3   ENG34  5897    f.a  9997    m.a\n",
       "3        4   ENG34  4775    f.a  4612    f.a\n",
       "4        5   ENG34  5334    m.a  2066    f.o"
      ]
     },
     "execution_count": 9,
     "metadata": {},
     "output_type": "execute_result"
    }
   ],
   "source": [
    "calldata1_sub = calldata1[['CALL_ID', 'TOPICID', 'APIN', 'ASX.DL', 'BPIN', 'BSX.DL']]\n",
    "calldata1_sub.head()"
   ]
  },
  {
   "cell_type": "code",
   "execution_count": 10,
   "metadata": {},
   "outputs": [
    {
     "data": {
      "text/html": [
       "<div>\n",
       "<style scoped>\n",
       "    .dataframe tbody tr th:only-of-type {\n",
       "        vertical-align: middle;\n",
       "    }\n",
       "\n",
       "    .dataframe tbody tr th {\n",
       "        vertical-align: top;\n",
       "    }\n",
       "\n",
       "    .dataframe thead th {\n",
       "        text-align: right;\n",
       "    }\n",
       "</style>\n",
       "<table border=\"1\" class=\"dataframe\">\n",
       "  <thead>\n",
       "    <tr style=\"text-align: right;\">\n",
       "      <th></th>\n",
       "      <th>CALL_ID</th>\n",
       "      <th>TOPICID</th>\n",
       "      <th>APIN</th>\n",
       "      <th>ASX.DL</th>\n",
       "      <th>BPIN</th>\n",
       "      <th>BSX.DL</th>\n",
       "    </tr>\n",
       "  </thead>\n",
       "  <tbody>\n",
       "    <tr>\n",
       "      <th>0</th>\n",
       "      <td>5851</td>\n",
       "      <td>ENG10</td>\n",
       "      <td>96498</td>\n",
       "      <td>f.o</td>\n",
       "      <td>86972</td>\n",
       "      <td>f.a</td>\n",
       "    </tr>\n",
       "    <tr>\n",
       "      <th>1</th>\n",
       "      <td>5852</td>\n",
       "      <td>ENG10</td>\n",
       "      <td>26375</td>\n",
       "      <td>f.a</td>\n",
       "      <td>39550</td>\n",
       "      <td>f.a</td>\n",
       "    </tr>\n",
       "    <tr>\n",
       "      <th>2</th>\n",
       "      <td>5853</td>\n",
       "      <td>ENG10</td>\n",
       "      <td>45776</td>\n",
       "      <td>f.a</td>\n",
       "      <td>72959</td>\n",
       "      <td>f.a</td>\n",
       "    </tr>\n",
       "    <tr>\n",
       "      <th>3</th>\n",
       "      <td>5854</td>\n",
       "      <td>ENG10</td>\n",
       "      <td>12903</td>\n",
       "      <td>f.a</td>\n",
       "      <td>82880</td>\n",
       "      <td>f.a</td>\n",
       "    </tr>\n",
       "    <tr>\n",
       "      <th>4</th>\n",
       "      <td>5855</td>\n",
       "      <td>ENG10</td>\n",
       "      <td>86322</td>\n",
       "      <td>f.a</td>\n",
       "      <td>55384</td>\n",
       "      <td>f.a</td>\n",
       "    </tr>\n",
       "  </tbody>\n",
       "</table>\n",
       "</div>"
      ],
      "text/plain": [
       "   CALL_ID TOPICID   APIN ASX.DL   BPIN BSX.DL\n",
       "0     5851   ENG10  96498    f.o  86972    f.a\n",
       "1     5852   ENG10  26375    f.a  39550    f.a\n",
       "2     5853   ENG10  45776    f.a  72959    f.a\n",
       "3     5854   ENG10  12903    f.a  82880    f.a\n",
       "4     5855   ENG10  86322    f.a  55384    f.a"
      ]
     },
     "execution_count": 10,
     "metadata": {},
     "output_type": "execute_result"
    }
   ],
   "source": [
    "calldata2_sub = calldata2[['CALL_ID', 'TOPICID', 'APIN', 'ASX.DL', 'BPIN', 'BSX.DL']]\n",
    "calldata2_sub.head()"
   ]
  },
  {
   "cell_type": "code",
   "execution_count": 11,
   "metadata": {},
   "outputs": [
    {
     "data": {
      "text/plain": [
       "(   CALL_ID TOPICID  APIN ASX.DL  BPIN BSX.DL\n",
       " 0        1   ENG34  2602    m.a  1790    f.a\n",
       " 1        2   ENG34  2152    f.a  9998    m.a\n",
       " 2        3   ENG34  5897    f.a  9997    m.a\n",
       " 3        4   ENG34  4775    f.a  4612    f.a\n",
       " 4        5   ENG34  5334    m.a  2066    f.o,\n",
       "       CALL_ID TOPICID   APIN ASX.DL   BPIN BSX.DL\n",
       " 5844    11695   ENG32  17087    m.a  50757    m.a\n",
       " 5845    11696   ENG32  50278    m.a  99630    m.a\n",
       " 5846    11697   ENG32  46881    f.a  65668    m.a\n",
       " 5847    11698   ENG32  23441    m.a  93991    f.a\n",
       " 5848    11699   ENG32  18625    m.a  14313    m.a)"
      ]
     },
     "execution_count": 11,
     "metadata": {},
     "output_type": "execute_result"
    }
   ],
   "source": [
    "calldata_concat = pd.concat([calldata1_sub, calldata2_sub])\n",
    "calldata_concat.head(), calldata_concat.tail()"
   ]
  },
  {
   "cell_type": "code",
   "execution_count": 12,
   "metadata": {},
   "outputs": [
    {
     "data": {
      "text/plain": [
       "(   CALL_ID TOPICID  APIN ASX.DL  BPIN BSX.DL\n",
       " 0        1   ENG34  2602    m.a  1790    f.a\n",
       " 1        2   ENG34  2152    f.a  9998    m.a\n",
       " 2        3   ENG34  5897    f.a  9997    m.a\n",
       " 3        4   ENG34  4775    f.a  4612    f.a\n",
       " 4        5   ENG34  5334    m.a  2066    f.o,\n",
       "        CALL_ID TOPICID   APIN ASX.DL   BPIN BSX.DL\n",
       " 11694    11695   ENG32  17087    m.a  50757    m.a\n",
       " 11695    11696   ENG32  50278    m.a  99630    m.a\n",
       " 11696    11697   ENG32  46881    f.a  65668    m.a\n",
       " 11697    11698   ENG32  23441    m.a  93991    f.a\n",
       " 11698    11699   ENG32  18625    m.a  14313    m.a,\n",
       " (11699, 6))"
      ]
     },
     "execution_count": 12,
     "metadata": {},
     "output_type": "execute_result"
    }
   ],
   "source": [
    "calldata_concat = calldata_concat.reset_index(drop=True)\n",
    "calldata_concat.head(), calldata_concat.tail(), calldata_concat.shape"
   ]
  },
  {
   "cell_type": "code",
   "execution_count": 13,
   "metadata": {},
   "outputs": [
    {
     "data": {
      "text/html": [
       "<div>\n",
       "<style scoped>\n",
       "    .dataframe tbody tr th:only-of-type {\n",
       "        vertical-align: middle;\n",
       "    }\n",
       "\n",
       "    .dataframe tbody tr th {\n",
       "        vertical-align: top;\n",
       "    }\n",
       "\n",
       "    .dataframe thead th {\n",
       "        text-align: right;\n",
       "    }\n",
       "</style>\n",
       "<table border=\"1\" class=\"dataframe\">\n",
       "  <thead>\n",
       "    <tr style=\"text-align: right;\">\n",
       "      <th></th>\n",
       "      <th>CALL_ID</th>\n",
       "      <th>TOPICID</th>\n",
       "      <th>APIN</th>\n",
       "      <th>ASX.DL</th>\n",
       "      <th>BPIN</th>\n",
       "      <th>BSX.DL</th>\n",
       "    </tr>\n",
       "  </thead>\n",
       "  <tbody>\n",
       "    <tr>\n",
       "      <th>0</th>\n",
       "      <td>1</td>\n",
       "      <td>ENG34</td>\n",
       "      <td>2602</td>\n",
       "      <td>m.a</td>\n",
       "      <td>1790</td>\n",
       "      <td>f.a</td>\n",
       "    </tr>\n",
       "    <tr>\n",
       "      <th>1</th>\n",
       "      <td>2</td>\n",
       "      <td>ENG34</td>\n",
       "      <td>2152</td>\n",
       "      <td>f.a</td>\n",
       "      <td>9998</td>\n",
       "      <td>m.a</td>\n",
       "    </tr>\n",
       "    <tr>\n",
       "      <th>2</th>\n",
       "      <td>3</td>\n",
       "      <td>ENG34</td>\n",
       "      <td>5897</td>\n",
       "      <td>f.a</td>\n",
       "      <td>9997</td>\n",
       "      <td>m.a</td>\n",
       "    </tr>\n",
       "    <tr>\n",
       "      <th>3</th>\n",
       "      <td>4</td>\n",
       "      <td>ENG34</td>\n",
       "      <td>4775</td>\n",
       "      <td>f.a</td>\n",
       "      <td>4612</td>\n",
       "      <td>f.a</td>\n",
       "    </tr>\n",
       "    <tr>\n",
       "      <th>4</th>\n",
       "      <td>5</td>\n",
       "      <td>ENG34</td>\n",
       "      <td>5334</td>\n",
       "      <td>m.a</td>\n",
       "      <td>2066</td>\n",
       "      <td>f.o</td>\n",
       "    </tr>\n",
       "  </tbody>\n",
       "</table>\n",
       "</div>"
      ],
      "text/plain": [
       "   CALL_ID TOPICID  APIN ASX.DL  BPIN BSX.DL\n",
       "0        1   ENG34  2602    m.a  1790    f.a\n",
       "1        2   ENG34  2152    f.a  9998    m.a\n",
       "2        3   ENG34  5897    f.a  9997    m.a\n",
       "3        4   ENG34  4775    f.a  4612    f.a\n",
       "4        5   ENG34  5334    m.a  2066    f.o"
      ]
     },
     "execution_count": 13,
     "metadata": {},
     "output_type": "execute_result"
    }
   ],
   "source": [
    "calldata_concat.head()"
   ]
  },
  {
   "cell_type": "code",
   "execution_count": 14,
   "metadata": {},
   "outputs": [
    {
     "name": "stdout",
     "output_type": "stream",
     "text": [
      "<class 'pandas.core.frame.DataFrame'>\n"
     ]
    },
    {
     "data": {
      "text/html": [
       "<div>\n",
       "<style scoped>\n",
       "    .dataframe tbody tr th:only-of-type {\n",
       "        vertical-align: middle;\n",
       "    }\n",
       "\n",
       "    .dataframe tbody tr th {\n",
       "        vertical-align: top;\n",
       "    }\n",
       "\n",
       "    .dataframe thead th {\n",
       "        text-align: right;\n",
       "    }\n",
       "</style>\n",
       "<table border=\"1\" class=\"dataframe\">\n",
       "  <thead>\n",
       "    <tr style=\"text-align: right;\">\n",
       "      <th></th>\n",
       "      <th>CALL_ID</th>\n",
       "      <th>TOPICID</th>\n",
       "      <th>APIN</th>\n",
       "      <th>ASX.DL</th>\n",
       "      <th>BPIN</th>\n",
       "      <th>BSX.DL</th>\n",
       "    </tr>\n",
       "  </thead>\n",
       "  <tbody>\n",
       "    <tr>\n",
       "      <th>9</th>\n",
       "      <td>10</td>\n",
       "      <td>ENG34</td>\n",
       "      <td>2233</td>\n",
       "      <td>f.a</td>\n",
       "      <td>7278</td>\n",
       "      <td>f.a</td>\n",
       "    </tr>\n",
       "  </tbody>\n",
       "</table>\n",
       "</div>"
      ],
      "text/plain": [
       "   CALL_ID TOPICID  APIN ASX.DL  BPIN BSX.DL\n",
       "9       10   ENG34  2233    f.a  7278    f.a"
      ]
     },
     "execution_count": 14,
     "metadata": {},
     "output_type": "execute_result"
    }
   ],
   "source": [
    "call_id = 10\n",
    "row = calldata_concat[calldata_concat['CALL_ID'] == call_id]\n",
    "print(type(row))\n",
    "row"
   ]
  },
  {
   "cell_type": "code",
   "execution_count": 15,
   "metadata": {},
   "outputs": [
    {
     "data": {
      "text/plain": [
       "'ENG34'"
      ]
     },
     "execution_count": 15,
     "metadata": {},
     "output_type": "execute_result"
    }
   ],
   "source": [
    "row['TOPICID'].values[0]"
   ]
  },
  {
   "cell_type": "code",
   "execution_count": 16,
   "metadata": {},
   "outputs": [],
   "source": [
    "def get_info(call_id, channel): \n",
    "    row = calldata_concat[calldata_concat['CALL_ID'] == call_id]\n",
    "    print(row)\n",
    "    ret = dict()\n",
    "    ret['topic_id'] = row['TOPICID'].values[0]\n",
    "    if channel == 'A': \n",
    "        ret['pin'] = row['APIN'].values[0]\n",
    "        ret['sxdl'] = row['ASX.DL'].values[0]\n",
    "    else: \n",
    "        ret['pin'] = row['BPIN'].values[0]\n",
    "        ret['sxdl'] = row['BSX.DL'].values[0]\n",
    "        \n",
    "    return ret\n"
   ]
  },
  {
   "cell_type": "code",
   "execution_count": 17,
   "metadata": {},
   "outputs": [
    {
     "name": "stdout",
     "output_type": "stream",
     "text": [
      "   CALL_ID TOPICID  APIN ASX.DL  BPIN BSX.DL\n",
      "9       10   ENG34  2233    f.a  7278    f.a\n"
     ]
    },
    {
     "data": {
      "text/plain": [
       "{'topic_id': 'ENG34', 'pin': 7278, 'sxdl': 'f.a'}"
      ]
     },
     "execution_count": 17,
     "metadata": {},
     "output_type": "execute_result"
    }
   ],
   "source": [
    "channel = 'B'\n",
    "\n",
    "ret = get_info(call_id, channel)\n",
    "ret"
   ]
  },
  {
   "cell_type": "code",
   "execution_count": 18,
   "metadata": {},
   "outputs": [
    {
     "data": {
      "text/html": [
       "<div>\n",
       "<style scoped>\n",
       "    .dataframe tbody tr th:only-of-type {\n",
       "        vertical-align: middle;\n",
       "    }\n",
       "\n",
       "    .dataframe tbody tr th {\n",
       "        vertical-align: top;\n",
       "    }\n",
       "\n",
       "    .dataframe thead th {\n",
       "        text-align: right;\n",
       "    }\n",
       "</style>\n",
       "<table border=\"1\" class=\"dataframe\">\n",
       "  <thead>\n",
       "    <tr style=\"text-align: right;\">\n",
       "      <th></th>\n",
       "      <th>PIN</th>\n",
       "      <th>S_SEX</th>\n",
       "      <th>S_AGE</th>\n",
       "      <th>EDU</th>\n",
       "      <th>NATIVE_LANG</th>\n",
       "      <th>WHERE_RAISED</th>\n",
       "      <th>NSIDES</th>\n",
       "      <th>SIDE_DATA</th>\n",
       "    </tr>\n",
       "  </thead>\n",
       "  <tbody>\n",
       "    <tr>\n",
       "      <th>1993</th>\n",
       "      <td>7278</td>\n",
       "      <td>F</td>\n",
       "      <td>32.0</td>\n",
       "      <td>22.0</td>\n",
       "      <td>English</td>\n",
       "      <td>IL</td>\n",
       "      <td>3</td>\n",
       "      <td>00010_B/f.a;00042_A/f.a;00159_A/f.a</td>\n",
       "    </tr>\n",
       "  </tbody>\n",
       "</table>\n",
       "</div>"
      ],
      "text/plain": [
       "       PIN S_SEX  S_AGE   EDU NATIVE_LANG WHERE_RAISED  NSIDES  \\\n",
       "1993  7278     F   32.0  22.0     English           IL       3   \n",
       "\n",
       "                                SIDE_DATA  \n",
       "1993  00010_B/f.a;00042_A/f.a;00159_A/f.a  "
      ]
     },
     "execution_count": 18,
     "metadata": {},
     "output_type": "execute_result"
    }
   ],
   "source": [
    "row = pindata[pindata['PIN'] == ret['pin']]\n",
    "row"
   ]
  },
  {
   "cell_type": "code",
   "execution_count": 19,
   "metadata": {},
   "outputs": [
    {
     "data": {
      "text/plain": [
       "array([7278, 'F', 32.0, 22.0, 'English', 'IL', 3,\n",
       "       '00010_B/f.a;00042_A/f.a;00159_A/f.a'], dtype=object)"
      ]
     },
     "execution_count": 19,
     "metadata": {},
     "output_type": "execute_result"
    }
   ],
   "source": [
    "labels = row.values.squeeze()\n",
    "labels"
   ]
  },
  {
   "cell_type": "code",
   "execution_count": 20,
   "metadata": {},
   "outputs": [
    {
     "data": {
      "text/plain": [
       "array([7278, 'F', 32.0, 22.0, 'English', 'IL', 3,\n",
       "       '00010_B/f.a;00042_A/f.a;00159_A/f.a', 'ENG34', 'f.a'],\n",
       "      dtype=object)"
      ]
     },
     "execution_count": 20,
     "metadata": {},
     "output_type": "execute_result"
    }
   ],
   "source": [
    "np.append(labels, [ret['topic_id'], ret['sxdl']]) "
   ]
  },
  {
   "cell_type": "code",
   "execution_count": null,
   "metadata": {},
   "outputs": [],
   "source": []
  },
  {
   "cell_type": "code",
   "execution_count": 21,
   "metadata": {},
   "outputs": [
    {
     "data": {
      "text/html": [
       "<div>\n",
       "<style scoped>\n",
       "    .dataframe tbody tr th:only-of-type {\n",
       "        vertical-align: middle;\n",
       "    }\n",
       "\n",
       "    .dataframe tbody tr th {\n",
       "        vertical-align: top;\n",
       "    }\n",
       "\n",
       "    .dataframe thead th {\n",
       "        text-align: right;\n",
       "    }\n",
       "</style>\n",
       "<table border=\"1\" class=\"dataframe\">\n",
       "  <thead>\n",
       "    <tr style=\"text-align: right;\">\n",
       "      <th></th>\n",
       "      <th>UTTER_FILE_PATH</th>\n",
       "      <th>PIN</th>\n",
       "      <th>S_SEX</th>\n",
       "      <th>S_AGE</th>\n",
       "      <th>EDU</th>\n",
       "      <th>NATIVE_LANG</th>\n",
       "      <th>WHERE_RAISED</th>\n",
       "      <th>TOPICID</th>\n",
       "      <th>SEX.DIA</th>\n",
       "    </tr>\n",
       "  </thead>\n",
       "  <tbody>\n",
       "    <tr>\n",
       "      <th>0</th>\n",
       "      <td>slices/005/fe_03_00506_slices/split-1-fe_03_00...</td>\n",
       "      <td>7118</td>\n",
       "      <td>F</td>\n",
       "      <td>41.0</td>\n",
       "      <td>12.0</td>\n",
       "      <td>English</td>\n",
       "      <td>CA</td>\n",
       "      <td>ENG35</td>\n",
       "      <td>f.a</td>\n",
       "    </tr>\n",
       "    <tr>\n",
       "      <th>1</th>\n",
       "      <td>slices/005/fe_03_00506_slices/split-2-fe_03_00...</td>\n",
       "      <td>8090</td>\n",
       "      <td>F</td>\n",
       "      <td>20.0</td>\n",
       "      <td>14.0</td>\n",
       "      <td>English</td>\n",
       "      <td>FL</td>\n",
       "      <td>ENG35</td>\n",
       "      <td>f.a</td>\n",
       "    </tr>\n",
       "    <tr>\n",
       "      <th>2</th>\n",
       "      <td>slices/005/fe_03_00506_slices/split-3-fe_03_00...</td>\n",
       "      <td>8090</td>\n",
       "      <td>F</td>\n",
       "      <td>20.0</td>\n",
       "      <td>14.0</td>\n",
       "      <td>English</td>\n",
       "      <td>FL</td>\n",
       "      <td>ENG35</td>\n",
       "      <td>f.a</td>\n",
       "    </tr>\n",
       "    <tr>\n",
       "      <th>3</th>\n",
       "      <td>slices/005/fe_03_00506_slices/split-4-fe_03_00...</td>\n",
       "      <td>7118</td>\n",
       "      <td>F</td>\n",
       "      <td>41.0</td>\n",
       "      <td>12.0</td>\n",
       "      <td>English</td>\n",
       "      <td>CA</td>\n",
       "      <td>ENG35</td>\n",
       "      <td>f.a</td>\n",
       "    </tr>\n",
       "    <tr>\n",
       "      <th>4</th>\n",
       "      <td>slices/005/fe_03_00506_slices/split-5-fe_03_00...</td>\n",
       "      <td>7118</td>\n",
       "      <td>F</td>\n",
       "      <td>41.0</td>\n",
       "      <td>12.0</td>\n",
       "      <td>English</td>\n",
       "      <td>CA</td>\n",
       "      <td>ENG35</td>\n",
       "      <td>f.a</td>\n",
       "    </tr>\n",
       "  </tbody>\n",
       "</table>\n",
       "</div>"
      ],
      "text/plain": [
       "                                     UTTER_FILE_PATH   PIN S_SEX  S_AGE   EDU  \\\n",
       "0  slices/005/fe_03_00506_slices/split-1-fe_03_00...  7118     F   41.0  12.0   \n",
       "1  slices/005/fe_03_00506_slices/split-2-fe_03_00...  8090     F   20.0  14.0   \n",
       "2  slices/005/fe_03_00506_slices/split-3-fe_03_00...  8090     F   20.0  14.0   \n",
       "3  slices/005/fe_03_00506_slices/split-4-fe_03_00...  7118     F   41.0  12.0   \n",
       "4  slices/005/fe_03_00506_slices/split-5-fe_03_00...  7118     F   41.0  12.0   \n",
       "\n",
       "  NATIVE_LANG WHERE_RAISED TOPICID SEX.DIA  \n",
       "0     English           CA   ENG35     f.a  \n",
       "1     English           FL   ENG35     f.a  \n",
       "2     English           FL   ENG35     f.a  \n",
       "3     English           CA   ENG35     f.a  \n",
       "4     English           CA   ENG35     f.a  "
      ]
     },
     "execution_count": 21,
     "metadata": {},
     "output_type": "execute_result"
    }
   ],
   "source": [
    "# Explore gender data. \n",
    "\n",
    "utterance_labels = pd.read_csv('data/file_listing_new.csv', header=None)\n",
    "utterance_labels.columns = ['UTTER_FILE_PATH', 'PIN', 'S_SEX', 'S_AGE', 'EDU', 'NATIVE_LANG', 'WHERE_RAISED', 'TOPICID', 'SEX.DIA']\n",
    "utterance_labels.head()"
   ]
  },
  {
   "cell_type": "code",
   "execution_count": 22,
   "metadata": {},
   "outputs": [
    {
     "name": "stdout",
     "output_type": "stream",
     "text": [
      "2227788\n"
     ]
    },
    {
     "data": {
      "text/html": [
       "<div>\n",
       "<style scoped>\n",
       "    .dataframe tbody tr th:only-of-type {\n",
       "        vertical-align: middle;\n",
       "    }\n",
       "\n",
       "    .dataframe tbody tr th {\n",
       "        vertical-align: top;\n",
       "    }\n",
       "\n",
       "    .dataframe thead th {\n",
       "        text-align: right;\n",
       "    }\n",
       "</style>\n",
       "<table border=\"1\" class=\"dataframe\">\n",
       "  <thead>\n",
       "    <tr style=\"text-align: right;\">\n",
       "      <th></th>\n",
       "      <th>PIN</th>\n",
       "      <th>GENDER_SPE</th>\n",
       "      <th>GENDER_AUD.DIALECT</th>\n",
       "    </tr>\n",
       "  </thead>\n",
       "  <tbody>\n",
       "    <tr>\n",
       "      <th>0</th>\n",
       "      <td>7118</td>\n",
       "      <td>F</td>\n",
       "      <td>f.a</td>\n",
       "    </tr>\n",
       "    <tr>\n",
       "      <th>1</th>\n",
       "      <td>8090</td>\n",
       "      <td>F</td>\n",
       "      <td>f.a</td>\n",
       "    </tr>\n",
       "    <tr>\n",
       "      <th>2</th>\n",
       "      <td>8090</td>\n",
       "      <td>F</td>\n",
       "      <td>f.a</td>\n",
       "    </tr>\n",
       "    <tr>\n",
       "      <th>3</th>\n",
       "      <td>7118</td>\n",
       "      <td>F</td>\n",
       "      <td>f.a</td>\n",
       "    </tr>\n",
       "    <tr>\n",
       "      <th>4</th>\n",
       "      <td>7118</td>\n",
       "      <td>F</td>\n",
       "      <td>f.a</td>\n",
       "    </tr>\n",
       "  </tbody>\n",
       "</table>\n",
       "</div>"
      ],
      "text/plain": [
       "    PIN GENDER_SPE GENDER_AUD.DIALECT\n",
       "0  7118          F                f.a\n",
       "1  8090          F                f.a\n",
       "2  8090          F                f.a\n",
       "3  7118          F                f.a\n",
       "4  7118          F                f.a"
      ]
     },
     "execution_count": 22,
     "metadata": {},
     "output_type": "execute_result"
    }
   ],
   "source": [
    "utterance_labels_sub = utterance_labels[['PIN', 'S_SEX', 'SEX.DIA']]\n",
    "utterance_labels_sub.columns = ['PIN', 'GENDER_SPE', 'GENDER_AUD.DIALECT']\n",
    "print(len(utterance_labels_sub))\n",
    "utterance_labels_sub.head()"
   ]
  },
  {
   "cell_type": "code",
   "execution_count": 23,
   "metadata": {},
   "outputs": [
    {
     "name": "stdout",
     "output_type": "stream",
     "text": [
      "12662\n"
     ]
    },
    {
     "data": {
      "text/html": [
       "<div>\n",
       "<style scoped>\n",
       "    .dataframe tbody tr th:only-of-type {\n",
       "        vertical-align: middle;\n",
       "    }\n",
       "\n",
       "    .dataframe tbody tr th {\n",
       "        vertical-align: top;\n",
       "    }\n",
       "\n",
       "    .dataframe thead th {\n",
       "        text-align: right;\n",
       "    }\n",
       "</style>\n",
       "<table border=\"1\" class=\"dataframe\">\n",
       "  <thead>\n",
       "    <tr style=\"text-align: right;\">\n",
       "      <th></th>\n",
       "      <th>PIN</th>\n",
       "      <th>GENDER_SPE</th>\n",
       "      <th>GENDER_AUD</th>\n",
       "    </tr>\n",
       "  </thead>\n",
       "  <tbody>\n",
       "    <tr>\n",
       "      <th>0</th>\n",
       "      <td>7118</td>\n",
       "      <td>F</td>\n",
       "      <td>f.a</td>\n",
       "    </tr>\n",
       "    <tr>\n",
       "      <th>1</th>\n",
       "      <td>8090</td>\n",
       "      <td>F</td>\n",
       "      <td>f.a</td>\n",
       "    </tr>\n",
       "    <tr>\n",
       "      <th>166</th>\n",
       "      <td>7211</td>\n",
       "      <td>F</td>\n",
       "      <td>f.a</td>\n",
       "    </tr>\n",
       "    <tr>\n",
       "      <th>167</th>\n",
       "      <td>5041</td>\n",
       "      <td>F</td>\n",
       "      <td>f.a</td>\n",
       "    </tr>\n",
       "    <tr>\n",
       "      <th>451</th>\n",
       "      <td>7266</td>\n",
       "      <td>F</td>\n",
       "      <td>f.a</td>\n",
       "    </tr>\n",
       "  </tbody>\n",
       "</table>\n",
       "</div>"
      ],
      "text/plain": [
       "      PIN GENDER_SPE GENDER_AUD\n",
       "0    7118          F        f.a\n",
       "1    8090          F        f.a\n",
       "166  7211          F        f.a\n",
       "167  5041          F        f.a\n",
       "451  7266          F        f.a"
      ]
     },
     "execution_count": 23,
     "metadata": {},
     "output_type": "execute_result"
    }
   ],
   "source": [
    "temp = utterance_labels_sub.drop_duplicates()\n",
    "gender_per_pin = temp.copy()\n",
    "gender_per_pin.columns = ['PIN', 'GENDER_SPE', 'GENDER_AUD']\n",
    "print(len(gender_per_pin))\n",
    "gender_per_pin.head()"
   ]
  },
  {
   "cell_type": "code",
   "execution_count": 24,
   "metadata": {
    "scrolled": true
   },
   "outputs": [
    {
     "data": {
      "text/html": [
       "<div>\n",
       "<style scoped>\n",
       "    .dataframe tbody tr th:only-of-type {\n",
       "        vertical-align: middle;\n",
       "    }\n",
       "\n",
       "    .dataframe tbody tr th {\n",
       "        vertical-align: top;\n",
       "    }\n",
       "\n",
       "    .dataframe thead th {\n",
       "        text-align: right;\n",
       "    }\n",
       "</style>\n",
       "<table border=\"1\" class=\"dataframe\">\n",
       "  <thead>\n",
       "    <tr style=\"text-align: right;\">\n",
       "      <th></th>\n",
       "      <th>PIN</th>\n",
       "      <th>GENDER_SPE</th>\n",
       "      <th>GENDER_AUD</th>\n",
       "    </tr>\n",
       "  </thead>\n",
       "  <tbody>\n",
       "    <tr>\n",
       "      <th>0</th>\n",
       "      <td>7118</td>\n",
       "      <td>F</td>\n",
       "      <td>f.a</td>\n",
       "    </tr>\n",
       "    <tr>\n",
       "      <th>1</th>\n",
       "      <td>8090</td>\n",
       "      <td>F</td>\n",
       "      <td>f.a</td>\n",
       "    </tr>\n",
       "    <tr>\n",
       "      <th>166</th>\n",
       "      <td>7211</td>\n",
       "      <td>F</td>\n",
       "      <td>f.a</td>\n",
       "    </tr>\n",
       "    <tr>\n",
       "      <th>167</th>\n",
       "      <td>5041</td>\n",
       "      <td>F</td>\n",
       "      <td>f.a</td>\n",
       "    </tr>\n",
       "    <tr>\n",
       "      <th>451</th>\n",
       "      <td>7266</td>\n",
       "      <td>F</td>\n",
       "      <td>f.a</td>\n",
       "    </tr>\n",
       "  </tbody>\n",
       "</table>\n",
       "</div>"
      ],
      "text/plain": [
       "      PIN GENDER_SPE GENDER_AUD\n",
       "0    7118          F        f.a\n",
       "1    8090          F        f.a\n",
       "166  7211          F        f.a\n",
       "167  5041          F        f.a\n",
       "451  7266          F        f.a"
      ]
     },
     "execution_count": 24,
     "metadata": {},
     "output_type": "execute_result"
    }
   ],
   "source": [
    "gender_per_pin.columns = ['PIN', 'GENDER_SPE', 'GENDER_AUD']\n",
    "gender_per_pin.head()"
   ]
  },
  {
   "cell_type": "code",
   "execution_count": 25,
   "metadata": {},
   "outputs": [
    {
     "name": "stdout",
     "output_type": "stream",
     "text": [
      "<class 'pandas.core.frame.DataFrame'>\n",
      "Int64Index: 12662 entries, 0 to 2227206\n",
      "Data columns (total 3 columns):\n",
      "PIN           12662 non-null int64\n",
      "GENDER_SPE    12602 non-null object\n",
      "GENDER_AUD    12662 non-null object\n",
      "dtypes: int64(1), object(2)\n",
      "memory usage: 395.7+ KB\n",
      "None\n"
     ]
    }
   ],
   "source": [
    "print(gender_per_pin.info())"
   ]
  },
  {
   "cell_type": "code",
   "execution_count": 26,
   "metadata": {},
   "outputs": [
    {
     "data": {
      "text/html": [
       "<div>\n",
       "<style scoped>\n",
       "    .dataframe tbody tr th:only-of-type {\n",
       "        vertical-align: middle;\n",
       "    }\n",
       "\n",
       "    .dataframe tbody tr th {\n",
       "        vertical-align: top;\n",
       "    }\n",
       "\n",
       "    .dataframe thead th {\n",
       "        text-align: right;\n",
       "    }\n",
       "</style>\n",
       "<table border=\"1\" class=\"dataframe\">\n",
       "  <thead>\n",
       "    <tr style=\"text-align: right;\">\n",
       "      <th></th>\n",
       "      <th>PIN</th>\n",
       "      <th>GENDER_SPE</th>\n",
       "      <th>GENDER_AUD</th>\n",
       "    </tr>\n",
       "  </thead>\n",
       "  <tbody>\n",
       "    <tr>\n",
       "      <th>0</th>\n",
       "      <td>7118</td>\n",
       "      <td>F</td>\n",
       "      <td>F</td>\n",
       "    </tr>\n",
       "    <tr>\n",
       "      <th>1</th>\n",
       "      <td>8090</td>\n",
       "      <td>F</td>\n",
       "      <td>F</td>\n",
       "    </tr>\n",
       "    <tr>\n",
       "      <th>166</th>\n",
       "      <td>7211</td>\n",
       "      <td>F</td>\n",
       "      <td>F</td>\n",
       "    </tr>\n",
       "    <tr>\n",
       "      <th>167</th>\n",
       "      <td>5041</td>\n",
       "      <td>F</td>\n",
       "      <td>F</td>\n",
       "    </tr>\n",
       "    <tr>\n",
       "      <th>451</th>\n",
       "      <td>7266</td>\n",
       "      <td>F</td>\n",
       "      <td>F</td>\n",
       "    </tr>\n",
       "  </tbody>\n",
       "</table>\n",
       "</div>"
      ],
      "text/plain": [
       "      PIN GENDER_SPE GENDER_AUD\n",
       "0    7118          F          F\n",
       "1    8090          F          F\n",
       "166  7211          F          F\n",
       "167  5041          F          F\n",
       "451  7266          F          F"
      ]
     },
     "execution_count": 26,
     "metadata": {},
     "output_type": "execute_result"
    }
   ],
   "source": [
    "gender_per_pin.loc[:, 'GENDER_AUD'] = gender_per_pin['GENDER_AUD'].map(lambda x: str.upper(str(x)[:1]))\n",
    "gender_per_pin.head()"
   ]
  },
  {
   "cell_type": "code",
   "execution_count": 27,
   "metadata": {},
   "outputs": [
    {
     "data": {
      "text/plain": [
       "F    7311\n",
       "M    5351\n",
       "Name: GENDER_AUD, dtype: int64"
      ]
     },
     "execution_count": 27,
     "metadata": {},
     "output_type": "execute_result"
    }
   ],
   "source": [
    "gender_per_pin['GENDER_AUD'].value_counts()"
   ]
  },
  {
   "cell_type": "code",
   "execution_count": 28,
   "metadata": {},
   "outputs": [
    {
     "data": {
      "text/html": [
       "<div>\n",
       "<style scoped>\n",
       "    .dataframe tbody tr th:only-of-type {\n",
       "        vertical-align: middle;\n",
       "    }\n",
       "\n",
       "    .dataframe tbody tr th {\n",
       "        vertical-align: top;\n",
       "    }\n",
       "\n",
       "    .dataframe thead th {\n",
       "        text-align: right;\n",
       "    }\n",
       "</style>\n",
       "<table border=\"1\" class=\"dataframe\">\n",
       "  <thead>\n",
       "    <tr style=\"text-align: right;\">\n",
       "      <th></th>\n",
       "      <th>PIN</th>\n",
       "      <th>GENDER_SPE</th>\n",
       "      <th>GENDER_AUD</th>\n",
       "    </tr>\n",
       "  </thead>\n",
       "  <tbody>\n",
       "    <tr>\n",
       "      <th>13869</th>\n",
       "      <td>7204</td>\n",
       "      <td>M</td>\n",
       "      <td>F</td>\n",
       "    </tr>\n",
       "    <tr>\n",
       "      <th>16085</th>\n",
       "      <td>4698</td>\n",
       "      <td>F</td>\n",
       "      <td>M</td>\n",
       "    </tr>\n",
       "    <tr>\n",
       "      <th>21506</th>\n",
       "      <td>54475</td>\n",
       "      <td>M</td>\n",
       "      <td>F</td>\n",
       "    </tr>\n",
       "    <tr>\n",
       "      <th>22722</th>\n",
       "      <td>91136</td>\n",
       "      <td>M</td>\n",
       "      <td>F</td>\n",
       "    </tr>\n",
       "    <tr>\n",
       "      <th>23304</th>\n",
       "      <td>13935</td>\n",
       "      <td>F</td>\n",
       "      <td>M</td>\n",
       "    </tr>\n",
       "  </tbody>\n",
       "</table>\n",
       "</div>"
      ],
      "text/plain": [
       "         PIN GENDER_SPE GENDER_AUD\n",
       "13869   7204          M          F\n",
       "16085   4698          F          M\n",
       "21506  54475          M          F\n",
       "22722  91136          M          F\n",
       "23304  13935          F          M"
      ]
     },
     "execution_count": 28,
     "metadata": {},
     "output_type": "execute_result"
    }
   ],
   "source": [
    "gender_diff = gender_per_pin[gender_per_pin['GENDER_SPE'] != gender_per_pin['GENDER_AUD']]\n",
    "gender_diff.head()"
   ]
  },
  {
   "cell_type": "code",
   "execution_count": 29,
   "metadata": {},
   "outputs": [
    {
     "data": {
      "text/plain": [
       "(794, 12662, 0.06270731322066024)"
      ]
     },
     "execution_count": 29,
     "metadata": {},
     "output_type": "execute_result"
    }
   ],
   "source": [
    "len(gender_diff), len(gender_per_pin), len(gender_diff) / len(gender_per_pin)"
   ]
  },
  {
   "cell_type": "code",
   "execution_count": 30,
   "metadata": {},
   "outputs": [
    {
     "data": {
      "text/plain": [
       "13869      False\n",
       "16085      False\n",
       "21506      False\n",
       "22722      False\n",
       "23304      False\n",
       "           ...  \n",
       "2212468    False\n",
       "2220990    False\n",
       "2223582    False\n",
       "2226641    False\n",
       "2227007    False\n",
       "Name: PIN, Length: 794, dtype: bool"
      ]
     },
     "execution_count": 30,
     "metadata": {},
     "output_type": "execute_result"
    }
   ],
   "source": [
    "gender_diff['PIN'].duplicated()"
   ]
  },
  {
   "cell_type": "code",
   "execution_count": 31,
   "metadata": {},
   "outputs": [
    {
     "data": {
      "text/html": [
       "<div>\n",
       "<style scoped>\n",
       "    .dataframe tbody tr th:only-of-type {\n",
       "        vertical-align: middle;\n",
       "    }\n",
       "\n",
       "    .dataframe tbody tr th {\n",
       "        vertical-align: top;\n",
       "    }\n",
       "\n",
       "    .dataframe thead th {\n",
       "        text-align: right;\n",
       "    }\n",
       "</style>\n",
       "<table border=\"1\" class=\"dataframe\">\n",
       "  <thead>\n",
       "    <tr style=\"text-align: right;\">\n",
       "      <th></th>\n",
       "      <th>PIN</th>\n",
       "      <th>GENDER_SPE</th>\n",
       "      <th>GENDER_AUD</th>\n",
       "    </tr>\n",
       "  </thead>\n",
       "  <tbody>\n",
       "    <tr>\n",
       "      <th>0</th>\n",
       "      <td>7118</td>\n",
       "      <td>F</td>\n",
       "      <td>F</td>\n",
       "    </tr>\n",
       "    <tr>\n",
       "      <th>1</th>\n",
       "      <td>8090</td>\n",
       "      <td>F</td>\n",
       "      <td>F</td>\n",
       "    </tr>\n",
       "    <tr>\n",
       "      <th>166</th>\n",
       "      <td>7211</td>\n",
       "      <td>F</td>\n",
       "      <td>F</td>\n",
       "    </tr>\n",
       "    <tr>\n",
       "      <th>167</th>\n",
       "      <td>5041</td>\n",
       "      <td>F</td>\n",
       "      <td>F</td>\n",
       "    </tr>\n",
       "    <tr>\n",
       "      <th>451</th>\n",
       "      <td>7266</td>\n",
       "      <td>F</td>\n",
       "      <td>F</td>\n",
       "    </tr>\n",
       "  </tbody>\n",
       "</table>\n",
       "</div>"
      ],
      "text/plain": [
       "      PIN GENDER_SPE GENDER_AUD\n",
       "0    7118          F          F\n",
       "1    8090          F          F\n",
       "166  7211          F          F\n",
       "167  5041          F          F\n",
       "451  7266          F          F"
      ]
     },
     "execution_count": 31,
     "metadata": {},
     "output_type": "execute_result"
    }
   ],
   "source": [
    "gender_per_pin.loc[:, 'GENDER_AUD'] = gender_per_pin['GENDER_AUD'].map(lambda x: str.upper(str(x)[:1]))\n",
    "gender_per_pin.head()"
   ]
  },
  {
   "cell_type": "code",
   "execution_count": 32,
   "metadata": {
    "scrolled": true
   },
   "outputs": [
    {
     "data": {
      "text/plain": [
       "12662"
      ]
     },
     "execution_count": 32,
     "metadata": {},
     "output_type": "execute_result"
    }
   ],
   "source": [
    "len(gender_per_pin)"
   ]
  },
  {
   "cell_type": "code",
   "execution_count": 33,
   "metadata": {},
   "outputs": [
    {
     "data": {
      "text/html": [
       "<div>\n",
       "<style scoped>\n",
       "    .dataframe tbody tr th:only-of-type {\n",
       "        vertical-align: middle;\n",
       "    }\n",
       "\n",
       "    .dataframe tbody tr th {\n",
       "        vertical-align: top;\n",
       "    }\n",
       "\n",
       "    .dataframe thead th {\n",
       "        text-align: right;\n",
       "    }\n",
       "</style>\n",
       "<table border=\"1\" class=\"dataframe\">\n",
       "  <thead>\n",
       "    <tr style=\"text-align: right;\">\n",
       "      <th></th>\n",
       "      <th>PIN</th>\n",
       "      <th>GENDER_SPE</th>\n",
       "      <th>GENDER_AUD.DIALECT</th>\n",
       "    </tr>\n",
       "  </thead>\n",
       "  <tbody>\n",
       "    <tr>\n",
       "      <th>0</th>\n",
       "      <td>7118</td>\n",
       "      <td>F</td>\n",
       "      <td>f.a</td>\n",
       "    </tr>\n",
       "    <tr>\n",
       "      <th>1</th>\n",
       "      <td>8090</td>\n",
       "      <td>F</td>\n",
       "      <td>f.a</td>\n",
       "    </tr>\n",
       "    <tr>\n",
       "      <th>2</th>\n",
       "      <td>8090</td>\n",
       "      <td>F</td>\n",
       "      <td>f.a</td>\n",
       "    </tr>\n",
       "    <tr>\n",
       "      <th>3</th>\n",
       "      <td>7118</td>\n",
       "      <td>F</td>\n",
       "      <td>f.a</td>\n",
       "    </tr>\n",
       "    <tr>\n",
       "      <th>4</th>\n",
       "      <td>7118</td>\n",
       "      <td>F</td>\n",
       "      <td>f.a</td>\n",
       "    </tr>\n",
       "  </tbody>\n",
       "</table>\n",
       "</div>"
      ],
      "text/plain": [
       "    PIN GENDER_SPE GENDER_AUD.DIALECT\n",
       "0  7118          F                f.a\n",
       "1  8090          F                f.a\n",
       "2  8090          F                f.a\n",
       "3  7118          F                f.a\n",
       "4  7118          F                f.a"
      ]
     },
     "execution_count": 33,
     "metadata": {},
     "output_type": "execute_result"
    }
   ],
   "source": [
    "utterance_labels_sub.head()"
   ]
  },
  {
   "cell_type": "code",
   "execution_count": 34,
   "metadata": {},
   "outputs": [
    {
     "name": "stdout",
     "output_type": "stream",
     "text": [
      "2227788\n"
     ]
    },
    {
     "data": {
      "text/html": [
       "<div>\n",
       "<style scoped>\n",
       "    .dataframe tbody tr th:only-of-type {\n",
       "        vertical-align: middle;\n",
       "    }\n",
       "\n",
       "    .dataframe tbody tr th {\n",
       "        vertical-align: top;\n",
       "    }\n",
       "\n",
       "    .dataframe thead th {\n",
       "        text-align: right;\n",
       "    }\n",
       "</style>\n",
       "<table border=\"1\" class=\"dataframe\">\n",
       "  <thead>\n",
       "    <tr style=\"text-align: right;\">\n",
       "      <th></th>\n",
       "      <th>PIN</th>\n",
       "      <th>GENDER_SPE</th>\n",
       "      <th>GENDER_AUD.DIALECT</th>\n",
       "    </tr>\n",
       "  </thead>\n",
       "  <tbody>\n",
       "    <tr>\n",
       "      <th>0</th>\n",
       "      <td>7118</td>\n",
       "      <td>F</td>\n",
       "      <td>f.a</td>\n",
       "    </tr>\n",
       "    <tr>\n",
       "      <th>1</th>\n",
       "      <td>8090</td>\n",
       "      <td>F</td>\n",
       "      <td>f.a</td>\n",
       "    </tr>\n",
       "    <tr>\n",
       "      <th>2</th>\n",
       "      <td>8090</td>\n",
       "      <td>F</td>\n",
       "      <td>f.a</td>\n",
       "    </tr>\n",
       "    <tr>\n",
       "      <th>3</th>\n",
       "      <td>7118</td>\n",
       "      <td>F</td>\n",
       "      <td>f.a</td>\n",
       "    </tr>\n",
       "    <tr>\n",
       "      <th>4</th>\n",
       "      <td>7118</td>\n",
       "      <td>F</td>\n",
       "      <td>f.a</td>\n",
       "    </tr>\n",
       "  </tbody>\n",
       "</table>\n",
       "</div>"
      ],
      "text/plain": [
       "    PIN GENDER_SPE GENDER_AUD.DIALECT\n",
       "0  7118          F                f.a\n",
       "1  8090          F                f.a\n",
       "2  8090          F                f.a\n",
       "3  7118          F                f.a\n",
       "4  7118          F                f.a"
      ]
     },
     "execution_count": 34,
     "metadata": {},
     "output_type": "execute_result"
    }
   ],
   "source": [
    "utterance_labels_sub_copy = utterance_labels_sub.copy()\n",
    "gender_diff_orig = utterance_labels_sub_copy[utterance_labels_sub_copy['GENDER_SPE'] != utterance_labels_sub_copy['GENDER_AUD.DIALECT']]\n",
    "print(len(gender_diff_orig))\n",
    "gender_diff_orig.head()"
   ]
  },
  {
   "cell_type": "code",
   "execution_count": 35,
   "metadata": {},
   "outputs": [
    {
     "data": {
      "text/plain": [
       "(2227788, 2227788, 1.0)"
      ]
     },
     "execution_count": 35,
     "metadata": {},
     "output_type": "execute_result"
    }
   ],
   "source": [
    "len(gender_diff_orig), len(utterance_labels_sub_copy), len(gender_diff_orig) / len(utterance_labels_sub_copy)"
   ]
  },
  {
   "cell_type": "code",
   "execution_count": 36,
   "metadata": {},
   "outputs": [
    {
     "name": "stdout",
     "output_type": "stream",
     "text": [
      "<class 'pandas.core.frame.DataFrame'>\n",
      "RangeIndex: 11971 entries, 0 to 11970\n",
      "Data columns (total 8 columns):\n",
      "PIN             11971 non-null int64\n",
      "S_SEX           11917 non-null object\n",
      "S_AGE           11926 non-null float64\n",
      "EDU             11913 non-null float64\n",
      "NATIVE_LANG     11630 non-null object\n",
      "WHERE_RAISED    11495 non-null object\n",
      "NSIDES          11971 non-null int64\n",
      "SIDE_DATA       11971 non-null object\n",
      "dtypes: float64(2), int64(2), object(4)\n",
      "memory usage: 748.3+ KB\n"
     ]
    },
    {
     "data": {
      "text/html": [
       "<div>\n",
       "<style scoped>\n",
       "    .dataframe tbody tr th:only-of-type {\n",
       "        vertical-align: middle;\n",
       "    }\n",
       "\n",
       "    .dataframe tbody tr th {\n",
       "        vertical-align: top;\n",
       "    }\n",
       "\n",
       "    .dataframe thead th {\n",
       "        text-align: right;\n",
       "    }\n",
       "</style>\n",
       "<table border=\"1\" class=\"dataframe\">\n",
       "  <thead>\n",
       "    <tr style=\"text-align: right;\">\n",
       "      <th></th>\n",
       "      <th>PIN</th>\n",
       "      <th>S_SEX</th>\n",
       "      <th>S_AGE</th>\n",
       "      <th>EDU</th>\n",
       "      <th>NATIVE_LANG</th>\n",
       "      <th>WHERE_RAISED</th>\n",
       "      <th>NSIDES</th>\n",
       "      <th>SIDE_DATA</th>\n",
       "    </tr>\n",
       "  </thead>\n",
       "  <tbody>\n",
       "    <tr>\n",
       "      <th>0</th>\n",
       "      <td>1006</td>\n",
       "      <td>F</td>\n",
       "      <td>19.0</td>\n",
       "      <td>13.0</td>\n",
       "      <td>English</td>\n",
       "      <td>PA</td>\n",
       "      <td>1</td>\n",
       "      <td>00409_A/f.a</td>\n",
       "    </tr>\n",
       "    <tr>\n",
       "      <th>1</th>\n",
       "      <td>1007</td>\n",
       "      <td>F</td>\n",
       "      <td>32.0</td>\n",
       "      <td>16.0</td>\n",
       "      <td>English</td>\n",
       "      <td>WA</td>\n",
       "      <td>3</td>\n",
       "      <td>01153_B/f.a;01567_A/f.a;02235_A/f.a</td>\n",
       "    </tr>\n",
       "    <tr>\n",
       "      <th>2</th>\n",
       "      <td>1008</td>\n",
       "      <td>M</td>\n",
       "      <td>58.0</td>\n",
       "      <td>16.0</td>\n",
       "      <td>English</td>\n",
       "      <td>NaN</td>\n",
       "      <td>3</td>\n",
       "      <td>00420_B/m.a;01356_A/m.a;01745_A/m.a</td>\n",
       "    </tr>\n",
       "    <tr>\n",
       "      <th>3</th>\n",
       "      <td>1009</td>\n",
       "      <td>F</td>\n",
       "      <td>56.0</td>\n",
       "      <td>16.0</td>\n",
       "      <td>English</td>\n",
       "      <td>NaN</td>\n",
       "      <td>3</td>\n",
       "      <td>01126_B/f.a;06411_A/f.a;06855_B/f.a</td>\n",
       "    </tr>\n",
       "    <tr>\n",
       "      <th>4</th>\n",
       "      <td>1010</td>\n",
       "      <td>M</td>\n",
       "      <td>18.0</td>\n",
       "      <td>12.0</td>\n",
       "      <td>English</td>\n",
       "      <td>NY</td>\n",
       "      <td>1</td>\n",
       "      <td>00592_B/m.a</td>\n",
       "    </tr>\n",
       "  </tbody>\n",
       "</table>\n",
       "</div>"
      ],
      "text/plain": [
       "    PIN S_SEX  S_AGE   EDU NATIVE_LANG WHERE_RAISED  NSIDES  \\\n",
       "0  1006     F   19.0  13.0     English           PA       1   \n",
       "1  1007     F   32.0  16.0     English           WA       3   \n",
       "2  1008     M   58.0  16.0     English          NaN       3   \n",
       "3  1009     F   56.0  16.0     English          NaN       3   \n",
       "4  1010     M   18.0  12.0     English           NY       1   \n",
       "\n",
       "                             SIDE_DATA  \n",
       "0                          00409_A/f.a  \n",
       "1  01153_B/f.a;01567_A/f.a;02235_A/f.a  \n",
       "2  00420_B/m.a;01356_A/m.a;01745_A/m.a  \n",
       "3  01126_B/f.a;06411_A/f.a;06855_B/f.a  \n",
       "4                          00592_B/m.a  "
      ]
     },
     "execution_count": 36,
     "metadata": {},
     "output_type": "execute_result"
    }
   ],
   "source": [
    "# Well, let's use pindata. \n",
    "pindata.info()\n",
    "pindata.head()"
   ]
  },
  {
   "cell_type": "code",
   "execution_count": 37,
   "metadata": {},
   "outputs": [
    {
     "data": {
      "text/html": [
       "<div>\n",
       "<style scoped>\n",
       "    .dataframe tbody tr th:only-of-type {\n",
       "        vertical-align: middle;\n",
       "    }\n",
       "\n",
       "    .dataframe tbody tr th {\n",
       "        vertical-align: top;\n",
       "    }\n",
       "\n",
       "    .dataframe thead th {\n",
       "        text-align: right;\n",
       "    }\n",
       "</style>\n",
       "<table border=\"1\" class=\"dataframe\">\n",
       "  <thead>\n",
       "    <tr style=\"text-align: right;\">\n",
       "      <th></th>\n",
       "      <th>PIN</th>\n",
       "      <th>GENDER_SPE</th>\n",
       "      <th>SIDE_DATA</th>\n",
       "    </tr>\n",
       "  </thead>\n",
       "  <tbody>\n",
       "    <tr>\n",
       "      <th>0</th>\n",
       "      <td>1006</td>\n",
       "      <td>F</td>\n",
       "      <td>00409_A/f.a</td>\n",
       "    </tr>\n",
       "    <tr>\n",
       "      <th>1</th>\n",
       "      <td>1007</td>\n",
       "      <td>F</td>\n",
       "      <td>01153_B/f.a;01567_A/f.a;02235_A/f.a</td>\n",
       "    </tr>\n",
       "    <tr>\n",
       "      <th>2</th>\n",
       "      <td>1008</td>\n",
       "      <td>M</td>\n",
       "      <td>00420_B/m.a;01356_A/m.a;01745_A/m.a</td>\n",
       "    </tr>\n",
       "    <tr>\n",
       "      <th>3</th>\n",
       "      <td>1009</td>\n",
       "      <td>F</td>\n",
       "      <td>01126_B/f.a;06411_A/f.a;06855_B/f.a</td>\n",
       "    </tr>\n",
       "    <tr>\n",
       "      <th>4</th>\n",
       "      <td>1010</td>\n",
       "      <td>M</td>\n",
       "      <td>00592_B/m.a</td>\n",
       "    </tr>\n",
       "  </tbody>\n",
       "</table>\n",
       "</div>"
      ],
      "text/plain": [
       "    PIN GENDER_SPE                            SIDE_DATA\n",
       "0  1006          F                          00409_A/f.a\n",
       "1  1007          F  01153_B/f.a;01567_A/f.a;02235_A/f.a\n",
       "2  1008          M  00420_B/m.a;01356_A/m.a;01745_A/m.a\n",
       "3  1009          F  01126_B/f.a;06411_A/f.a;06855_B/f.a\n",
       "4  1010          M                          00592_B/m.a"
      ]
     },
     "execution_count": 37,
     "metadata": {},
     "output_type": "execute_result"
    }
   ],
   "source": [
    "pindata_sub2 = pindata[['PIN', 'S_SEX', 'SIDE_DATA']]\n",
    "pindata_sub2.columns = ['PIN', 'GENDER_SPE', 'SIDE_DATA']\n",
    "pindata_sub2.head()"
   ]
  },
  {
   "cell_type": "code",
   "execution_count": 38,
   "metadata": {},
   "outputs": [],
   "source": [
    "def conv(x): \n",
    "    value = ''\n",
    "    for t in x.split(';'):\n",
    "        value += str.upper(t[-3:-2])\n",
    "        \n",
    "    return value"
   ]
  },
  {
   "cell_type": "code",
   "execution_count": 39,
   "metadata": {},
   "outputs": [
    {
     "name": "stderr",
     "output_type": "stream",
     "text": [
      "/Users/kei/anaconda3/lib/python3.7/site-packages/ipykernel_launcher.py:1: SettingWithCopyWarning: \n",
      "A value is trying to be set on a copy of a slice from a DataFrame.\n",
      "Try using .loc[row_indexer,col_indexer] = value instead\n",
      "\n",
      "See the caveats in the documentation: http://pandas.pydata.org/pandas-docs/stable/user_guide/indexing.html#returning-a-view-versus-a-copy\n",
      "  \"\"\"Entry point for launching an IPython kernel.\n"
     ]
    },
    {
     "data": {
      "text/html": [
       "<div>\n",
       "<style scoped>\n",
       "    .dataframe tbody tr th:only-of-type {\n",
       "        vertical-align: middle;\n",
       "    }\n",
       "\n",
       "    .dataframe tbody tr th {\n",
       "        vertical-align: top;\n",
       "    }\n",
       "\n",
       "    .dataframe thead th {\n",
       "        text-align: right;\n",
       "    }\n",
       "</style>\n",
       "<table border=\"1\" class=\"dataframe\">\n",
       "  <thead>\n",
       "    <tr style=\"text-align: right;\">\n",
       "      <th></th>\n",
       "      <th>PIN</th>\n",
       "      <th>GENDER_SPE</th>\n",
       "      <th>SIDE_DATA</th>\n",
       "      <th>GENDER_AUD</th>\n",
       "    </tr>\n",
       "  </thead>\n",
       "  <tbody>\n",
       "    <tr>\n",
       "      <th>0</th>\n",
       "      <td>1006</td>\n",
       "      <td>F</td>\n",
       "      <td>00409_A/f.a</td>\n",
       "      <td>F</td>\n",
       "    </tr>\n",
       "    <tr>\n",
       "      <th>1</th>\n",
       "      <td>1007</td>\n",
       "      <td>F</td>\n",
       "      <td>01153_B/f.a;01567_A/f.a;02235_A/f.a</td>\n",
       "      <td>FFF</td>\n",
       "    </tr>\n",
       "    <tr>\n",
       "      <th>2</th>\n",
       "      <td>1008</td>\n",
       "      <td>M</td>\n",
       "      <td>00420_B/m.a;01356_A/m.a;01745_A/m.a</td>\n",
       "      <td>MMM</td>\n",
       "    </tr>\n",
       "    <tr>\n",
       "      <th>3</th>\n",
       "      <td>1009</td>\n",
       "      <td>F</td>\n",
       "      <td>01126_B/f.a;06411_A/f.a;06855_B/f.a</td>\n",
       "      <td>FFF</td>\n",
       "    </tr>\n",
       "    <tr>\n",
       "      <th>4</th>\n",
       "      <td>1010</td>\n",
       "      <td>M</td>\n",
       "      <td>00592_B/m.a</td>\n",
       "      <td>M</td>\n",
       "    </tr>\n",
       "  </tbody>\n",
       "</table>\n",
       "</div>"
      ],
      "text/plain": [
       "    PIN GENDER_SPE                            SIDE_DATA GENDER_AUD\n",
       "0  1006          F                          00409_A/f.a          F\n",
       "1  1007          F  01153_B/f.a;01567_A/f.a;02235_A/f.a        FFF\n",
       "2  1008          M  00420_B/m.a;01356_A/m.a;01745_A/m.a        MMM\n",
       "3  1009          F  01126_B/f.a;06411_A/f.a;06855_B/f.a        FFF\n",
       "4  1010          M                          00592_B/m.a          M"
      ]
     },
     "execution_count": 39,
     "metadata": {},
     "output_type": "execute_result"
    }
   ],
   "source": [
    "pindata_sub2['GENDER_AUD'] = pindata_sub2['SIDE_DATA'].map(conv)\n",
    "pindata_sub2.head()"
   ]
  },
  {
   "cell_type": "code",
   "execution_count": 40,
   "metadata": {},
   "outputs": [
    {
     "data": {
      "text/plain": [
       "F          2761\n",
       "FF         2105\n",
       "FFF        1854\n",
       "M          1712\n",
       "MMM        1533\n",
       "MM         1455\n",
       "MF           89\n",
       "FM           79\n",
       "MMMM         63\n",
       "MMF          52\n",
       "MFM          46\n",
       "MFF          41\n",
       "FFFF         39\n",
       "FFM          39\n",
       "FMF          36\n",
       "FMM          35\n",
       "FFFFF         7\n",
       "MMMMM         7\n",
       "MFMM          3\n",
       "FMMM          2\n",
       "MFFF          2\n",
       "MMMMMM        2\n",
       "MMFF          2\n",
       "FFFFFF        2\n",
       "MMMMMMM       1\n",
       "FMFF          1\n",
       "MFFM          1\n",
       "FMFM          1\n",
       "MMFM          1\n",
       "Name: GENDER_AUD, dtype: int64"
      ]
     },
     "execution_count": 40,
     "metadata": {},
     "output_type": "execute_result"
    }
   ],
   "source": [
    "pindata_sub2['GENDER_AUD'].value_counts()"
   ]
  },
  {
   "cell_type": "code",
   "execution_count": 41,
   "metadata": {},
   "outputs": [
    {
     "name": "stderr",
     "output_type": "stream",
     "text": [
      "/Users/kei/anaconda3/lib/python3.7/site-packages/ipykernel_launcher.py:1: SettingWithCopyWarning: \n",
      "A value is trying to be set on a copy of a slice from a DataFrame.\n",
      "Try using .loc[row_indexer,col_indexer] = value instead\n",
      "\n",
      "See the caveats in the documentation: http://pandas.pydata.org/pandas-docs/stable/user_guide/indexing.html#returning-a-view-versus-a-copy\n",
      "  \"\"\"Entry point for launching an IPython kernel.\n"
     ]
    },
    {
     "data": {
      "text/html": [
       "<div>\n",
       "<style scoped>\n",
       "    .dataframe tbody tr th:only-of-type {\n",
       "        vertical-align: middle;\n",
       "    }\n",
       "\n",
       "    .dataframe tbody tr th {\n",
       "        vertical-align: top;\n",
       "    }\n",
       "\n",
       "    .dataframe thead th {\n",
       "        text-align: right;\n",
       "    }\n",
       "</style>\n",
       "<table border=\"1\" class=\"dataframe\">\n",
       "  <thead>\n",
       "    <tr style=\"text-align: right;\">\n",
       "      <th></th>\n",
       "      <th>PIN</th>\n",
       "      <th>GENDER_SPE</th>\n",
       "      <th>SIDE_DATA</th>\n",
       "      <th>GENDER_AUD</th>\n",
       "      <th>temp1</th>\n",
       "    </tr>\n",
       "  </thead>\n",
       "  <tbody>\n",
       "    <tr>\n",
       "      <th>0</th>\n",
       "      <td>1006</td>\n",
       "      <td>F</td>\n",
       "      <td>00409_A/f.a</td>\n",
       "      <td>F</td>\n",
       "      <td>F_F</td>\n",
       "    </tr>\n",
       "    <tr>\n",
       "      <th>1</th>\n",
       "      <td>1007</td>\n",
       "      <td>F</td>\n",
       "      <td>01153_B/f.a;01567_A/f.a;02235_A/f.a</td>\n",
       "      <td>FFF</td>\n",
       "      <td>F_FFF</td>\n",
       "    </tr>\n",
       "    <tr>\n",
       "      <th>2</th>\n",
       "      <td>1008</td>\n",
       "      <td>M</td>\n",
       "      <td>00420_B/m.a;01356_A/m.a;01745_A/m.a</td>\n",
       "      <td>MMM</td>\n",
       "      <td>M_MMM</td>\n",
       "    </tr>\n",
       "    <tr>\n",
       "      <th>3</th>\n",
       "      <td>1009</td>\n",
       "      <td>F</td>\n",
       "      <td>01126_B/f.a;06411_A/f.a;06855_B/f.a</td>\n",
       "      <td>FFF</td>\n",
       "      <td>F_FFF</td>\n",
       "    </tr>\n",
       "    <tr>\n",
       "      <th>4</th>\n",
       "      <td>1010</td>\n",
       "      <td>M</td>\n",
       "      <td>00592_B/m.a</td>\n",
       "      <td>M</td>\n",
       "      <td>M_M</td>\n",
       "    </tr>\n",
       "  </tbody>\n",
       "</table>\n",
       "</div>"
      ],
      "text/plain": [
       "    PIN GENDER_SPE                            SIDE_DATA GENDER_AUD  temp1\n",
       "0  1006          F                          00409_A/f.a          F    F_F\n",
       "1  1007          F  01153_B/f.a;01567_A/f.a;02235_A/f.a        FFF  F_FFF\n",
       "2  1008          M  00420_B/m.a;01356_A/m.a;01745_A/m.a        MMM  M_MMM\n",
       "3  1009          F  01126_B/f.a;06411_A/f.a;06855_B/f.a        FFF  F_FFF\n",
       "4  1010          M                          00592_B/m.a          M    M_M"
      ]
     },
     "execution_count": 41,
     "metadata": {},
     "output_type": "execute_result"
    }
   ],
   "source": [
    "pindata_sub2['temp1'] = pindata_sub2['GENDER_SPE'] + '_' +  pindata_sub2['GENDER_AUD']\n",
    "pindata_sub2.head()"
   ]
  },
  {
   "cell_type": "code",
   "execution_count": 42,
   "metadata": {},
   "outputs": [
    {
     "data": {
      "text/plain": [
       "F_F          2634\n",
       "F_FF         2041\n",
       "F_FFF        1807\n",
       "M_M          1634\n",
       "M_MMM        1514\n",
       "M_MM         1436\n",
       "M_F           117\n",
       "F_M            67\n",
       "M_MMMM         62\n",
       "M_MF           57\n",
       "M_FF           51\n",
       "M_MMF          50\n",
       "F_FM           44\n",
       "M_MFM          39\n",
       "F_FFFF         37\n",
       "M_FFF          37\n",
       "M_FM           33\n",
       "F_MF           32\n",
       "F_FFM          32\n",
       "F_FMF          28\n",
       "F_MFF          28\n",
       "M_FMM          27\n",
       "F_MM           18\n",
       "F_MMM          15\n",
       "M_MFF          13\n",
       "F_FMM           8\n",
       "M_FMF           8\n",
       "M_MMMMM         7\n",
       "F_MFM           7\n",
       "F_FFFFF         7\n",
       "M_FFM           5\n",
       "M_MFMM          3\n",
       "M_FMMM          2\n",
       "M_MMMMMM        2\n",
       "F_FFFFFF        2\n",
       "F_MMF           2\n",
       "M_MMFM          1\n",
       "F_MMFF          1\n",
       "M_MMFF          1\n",
       "M_FFFF          1\n",
       "F_FMFM          1\n",
       "F_MFFF          1\n",
       "M_FMFF          1\n",
       "F_MMMM          1\n",
       "M_MFFM          1\n",
       "M_MMMMMMM       1\n",
       "M_MFFF          1\n",
       "Name: temp1, dtype: int64"
      ]
     },
     "execution_count": 42,
     "metadata": {},
     "output_type": "execute_result"
    }
   ],
   "source": [
    "pindata_sub2['temp1'].value_counts()"
   ]
  },
  {
   "cell_type": "code",
   "execution_count": 43,
   "metadata": {},
   "outputs": [
    {
     "name": "stdout",
     "output_type": "stream",
     "text": [
      "<class 'pandas.core.frame.DataFrame'>\n",
      "RangeIndex: 11971 entries, 0 to 11970\n",
      "Data columns (total 5 columns):\n",
      "PIN           11971 non-null int64\n",
      "GENDER_SPE    11917 non-null object\n",
      "SIDE_DATA     11971 non-null object\n",
      "GENDER_AUD    11971 non-null object\n",
      "temp1         11917 non-null object\n",
      "dtypes: int64(1), object(4)\n",
      "memory usage: 467.7+ KB\n"
     ]
    }
   ],
   "source": [
    "pindata_sub2.info()"
   ]
  },
  {
   "cell_type": "code",
   "execution_count": null,
   "metadata": {},
   "outputs": [],
   "source": []
  },
  {
   "cell_type": "code",
   "execution_count": 44,
   "metadata": {
    "scrolled": false
   },
   "outputs": [
    {
     "name": "stdout",
     "output_type": "stream",
     "text": [
      "<class 'pandas.core.frame.DataFrame'>\n",
      "RangeIndex: 11971 entries, 0 to 11970\n",
      "Data columns (total 8 columns):\n",
      "PIN             11971 non-null int64\n",
      "S_SEX           11917 non-null object\n",
      "S_AGE           11926 non-null float64\n",
      "EDU             11913 non-null float64\n",
      "NATIVE_LANG     11630 non-null object\n",
      "WHERE_RAISED    11495 non-null object\n",
      "NSIDES          11971 non-null int64\n",
      "SIDE_DATA       11971 non-null object\n",
      "dtypes: float64(2), int64(2), object(4)\n",
      "memory usage: 748.3+ KB\n"
     ]
    },
    {
     "data": {
      "text/html": [
       "<div>\n",
       "<style scoped>\n",
       "    .dataframe tbody tr th:only-of-type {\n",
       "        vertical-align: middle;\n",
       "    }\n",
       "\n",
       "    .dataframe tbody tr th {\n",
       "        vertical-align: top;\n",
       "    }\n",
       "\n",
       "    .dataframe thead th {\n",
       "        text-align: right;\n",
       "    }\n",
       "</style>\n",
       "<table border=\"1\" class=\"dataframe\">\n",
       "  <thead>\n",
       "    <tr style=\"text-align: right;\">\n",
       "      <th></th>\n",
       "      <th>PIN</th>\n",
       "      <th>S_SEX</th>\n",
       "      <th>S_AGE</th>\n",
       "      <th>EDU</th>\n",
       "      <th>NATIVE_LANG</th>\n",
       "      <th>WHERE_RAISED</th>\n",
       "      <th>NSIDES</th>\n",
       "      <th>SIDE_DATA</th>\n",
       "    </tr>\n",
       "  </thead>\n",
       "  <tbody>\n",
       "    <tr>\n",
       "      <th>0</th>\n",
       "      <td>1006</td>\n",
       "      <td>F</td>\n",
       "      <td>19.0</td>\n",
       "      <td>13.0</td>\n",
       "      <td>English</td>\n",
       "      <td>PA</td>\n",
       "      <td>1</td>\n",
       "      <td>00409_A/f.a</td>\n",
       "    </tr>\n",
       "    <tr>\n",
       "      <th>1</th>\n",
       "      <td>1007</td>\n",
       "      <td>F</td>\n",
       "      <td>32.0</td>\n",
       "      <td>16.0</td>\n",
       "      <td>English</td>\n",
       "      <td>WA</td>\n",
       "      <td>3</td>\n",
       "      <td>01153_B/f.a;01567_A/f.a;02235_A/f.a</td>\n",
       "    </tr>\n",
       "    <tr>\n",
       "      <th>2</th>\n",
       "      <td>1008</td>\n",
       "      <td>M</td>\n",
       "      <td>58.0</td>\n",
       "      <td>16.0</td>\n",
       "      <td>English</td>\n",
       "      <td>NaN</td>\n",
       "      <td>3</td>\n",
       "      <td>00420_B/m.a;01356_A/m.a;01745_A/m.a</td>\n",
       "    </tr>\n",
       "    <tr>\n",
       "      <th>3</th>\n",
       "      <td>1009</td>\n",
       "      <td>F</td>\n",
       "      <td>56.0</td>\n",
       "      <td>16.0</td>\n",
       "      <td>English</td>\n",
       "      <td>NaN</td>\n",
       "      <td>3</td>\n",
       "      <td>01126_B/f.a;06411_A/f.a;06855_B/f.a</td>\n",
       "    </tr>\n",
       "    <tr>\n",
       "      <th>4</th>\n",
       "      <td>1010</td>\n",
       "      <td>M</td>\n",
       "      <td>18.0</td>\n",
       "      <td>12.0</td>\n",
       "      <td>English</td>\n",
       "      <td>NY</td>\n",
       "      <td>1</td>\n",
       "      <td>00592_B/m.a</td>\n",
       "    </tr>\n",
       "  </tbody>\n",
       "</table>\n",
       "</div>"
      ],
      "text/plain": [
       "    PIN S_SEX  S_AGE   EDU NATIVE_LANG WHERE_RAISED  NSIDES  \\\n",
       "0  1006     F   19.0  13.0     English           PA       1   \n",
       "1  1007     F   32.0  16.0     English           WA       3   \n",
       "2  1008     M   58.0  16.0     English          NaN       3   \n",
       "3  1009     F   56.0  16.0     English          NaN       3   \n",
       "4  1010     M   18.0  12.0     English           NY       1   \n",
       "\n",
       "                             SIDE_DATA  \n",
       "0                          00409_A/f.a  \n",
       "1  01153_B/f.a;01567_A/f.a;02235_A/f.a  \n",
       "2  00420_B/m.a;01356_A/m.a;01745_A/m.a  \n",
       "3  01126_B/f.a;06411_A/f.a;06855_B/f.a  \n",
       "4                          00592_B/m.a  "
      ]
     },
     "execution_count": 44,
     "metadata": {},
     "output_type": "execute_result"
    }
   ],
   "source": [
    "# Distribution of NATIVE_LANG and WHERE_RAISED\n",
    "pindata.info()\n",
    "pindata.head()"
   ]
  },
  {
   "cell_type": "code",
   "execution_count": 45,
   "metadata": {},
   "outputs": [
    {
     "name": "stdout",
     "output_type": "stream",
     "text": [
      "170\n"
     ]
    },
    {
     "data": {
      "text/plain": [
       "English                  10725\n",
       "Spanish                    119\n",
       "Chinese                     91\n",
       "Russian                     58\n",
       "Hindi                       51\n",
       "                         ...  \n",
       "Tagalog and Visayan          1\n",
       "Filipino and English         1\n",
       "Mandarin and Wu              1\n",
       "Kikamba                      1\n",
       "Russian and Ukrainian        1\n",
       "Name: NATIVE_LANG, Length: 170, dtype: int64"
      ]
     },
     "execution_count": 45,
     "metadata": {},
     "output_type": "execute_result"
    }
   ],
   "source": [
    "print(len(pindata['NATIVE_LANG'].value_counts()))\n",
    "pindata['NATIVE_LANG'].value_counts()"
   ]
  },
  {
   "cell_type": "code",
   "execution_count": 46,
   "metadata": {},
   "outputs": [
    {
     "data": {
      "text/plain": [
       "English                10725\n",
       "Spanish                  119\n",
       "Chinese                   91\n",
       "Russian                   58\n",
       "Hindi                     51\n",
       "Mandarin                  33\n",
       "German                    28\n",
       "Korean                    26\n",
       "English and Spanish       25\n",
       "Cantonese                 22\n",
       "French                    22\n",
       "Arabic                    18\n",
       "Portuguese                13\n",
       "Turkish                   13\n",
       "Farsi                     12\n",
       "Tamil                     12\n",
       "Spanish and English       11\n",
       "Telegu                     9\n",
       "Gujarati                   9\n",
       "Italian                    8\n",
       "Name: NATIVE_LANG, dtype: int64"
      ]
     },
     "execution_count": 46,
     "metadata": {},
     "output_type": "execute_result"
    }
   ],
   "source": [
    "# Top 20\n",
    "pindata['NATIVE_LANG'].value_counts().nlargest(20)"
   ]
  },
  {
   "cell_type": "code",
   "execution_count": 47,
   "metadata": {},
   "outputs": [
    {
     "name": "stdout",
     "output_type": "stream",
     "text": [
      "153\n"
     ]
    },
    {
     "data": {
      "text/plain": [
       "NY            1511\n",
       "CA            1288\n",
       "PA            1009\n",
       "TX             567\n",
       "NJ             513\n",
       "              ... \n",
       "Cape Verde       1\n",
       "Dominica         1\n",
       "Slovakia         1\n",
       "Micronesia       1\n",
       "Albania          1\n",
       "Name: WHERE_RAISED, Length: 153, dtype: int64"
      ]
     },
     "execution_count": 47,
     "metadata": {},
     "output_type": "execute_result"
    }
   ],
   "source": [
    "print(len(pindata['WHERE_RAISED'].value_counts()))\n",
    "pindata['WHERE_RAISED'].value_counts()"
   ]
  },
  {
   "cell_type": "code",
   "execution_count": 48,
   "metadata": {},
   "outputs": [
    {
     "data": {
      "text/plain": [
       "NY    1511\n",
       "CA    1288\n",
       "PA    1009\n",
       "TX     567\n",
       "NJ     513\n",
       "IL     495\n",
       "OH     449\n",
       "FL     371\n",
       "MI     354\n",
       "MA     307\n",
       "GA     262\n",
       "WA     230\n",
       "IN     211\n",
       "VA     209\n",
       "MD     201\n",
       "MN     197\n",
       "NC     178\n",
       "WI     171\n",
       "CT     168\n",
       "MO     158\n",
       "Name: WHERE_RAISED, dtype: int64"
      ]
     },
     "execution_count": 48,
     "metadata": {},
     "output_type": "execute_result"
    }
   ],
   "source": [
    "# Top 20\n",
    "pindata['WHERE_RAISED'].value_counts().nlargest(20)"
   ]
  },
  {
   "cell_type": "code",
   "execution_count": 49,
   "metadata": {},
   "outputs": [
    {
     "name": "stdout",
     "output_type": "stream",
     "text": [
      "95\n"
     ]
    },
    {
     "data": {
      "text/plain": [
       "NY            1411\n",
       "CA            1165\n",
       "PA             975\n",
       "TX             526\n",
       "NJ             491\n",
       "              ... \n",
       "Ghana            1\n",
       "Cape Verde       1\n",
       "Spain            1\n",
       "Angola           1\n",
       "Brazil           1\n",
       "Name: WHERE_RAISED, Length: 95, dtype: int64"
      ]
     },
     "execution_count": 49,
     "metadata": {},
     "output_type": "execute_result"
    }
   ],
   "source": [
    "print(len(pindata[pindata['NATIVE_LANG'] == 'English']['WHERE_RAISED'].value_counts()))\n",
    "pindata[pindata['NATIVE_LANG'] == 'English']['WHERE_RAISED'].value_counts()"
   ]
  },
  {
   "cell_type": "code",
   "execution_count": 50,
   "metadata": {},
   "outputs": [
    {
     "data": {
      "text/plain": [
       "NY    1411\n",
       "CA    1165\n",
       "PA     975\n",
       "TX     526\n",
       "NJ     491\n",
       "IL     475\n",
       "OH     442\n",
       "FL     349\n",
       "MI     347\n",
       "MA     284\n",
       "GA     259\n",
       "WA     222\n",
       "IN     210\n",
       "VA     196\n",
       "MN     191\n",
       "MD     186\n",
       "NC     172\n",
       "CT     166\n",
       "WI     166\n",
       "MO     156\n",
       "Name: WHERE_RAISED, dtype: int64"
      ]
     },
     "execution_count": 50,
     "metadata": {},
     "output_type": "execute_result"
    }
   ],
   "source": [
    "# Top 20\n",
    "pindata[pindata['NATIVE_LANG'] == 'English']['WHERE_RAISED'].value_counts().nlargest(20)"
   ]
  },
  {
   "cell_type": "code",
   "execution_count": 51,
   "metadata": {},
   "outputs": [
    {
     "data": {
      "image/png": "[encoded data removed]",
      "text/plain": [
       "<Figure size 864x576 with 1 Axes>"
      ]
     },
     "metadata": {
      "needs_background": "light"
     },
     "output_type": "display_data"
    }
   ],
   "source": [
    "top20 = pindata[pindata['NATIVE_LANG'] == 'English']['WHERE_RAISED'].value_counts().nlargest(20)\n",
    "\n",
    "# fig, ax = plt.subplots(figsize=(10, 5))\n",
    "# top20.plot.bar(  \n",
    "#     ax=ax,\n",
    "# #     rot=45,  # xticks angle\n",
    "# )\n",
    "\n",
    "plt.figure(figsize=(12, 8))\n",
    "ax = top20.plot(kind='bar')\n",
    "ax.set_title('# labels for top 20 regions (for people whose native lang is English)')\n",
    "ax.set_xlabel('WHERE_RAISED') \n",
    "ax.set_ylabel('Frequency')\n",
    "\n",
    "\n",
    "def get_bar(ax): \n",
    "    for rect in ax.patches:\n",
    "        # Get X and Y placement of label from rect.\n",
    "        y_value = rect.get_height()\n",
    "        x_value = rect.get_x() + rect.get_width() / 2\n",
    "\n",
    "        # Number of points between bar and label. Change to your liking.\n",
    "        space = 5\n",
    "        # Vertical alignment for positive values\n",
    "        va = 'bottom'\n",
    "\n",
    "        # If value of bar is negative: Place label below bar\n",
    "        if y_value < 0:\n",
    "            # Invert space to place label below\n",
    "            space *= -1\n",
    "            # Vertically align label at top\n",
    "            va = 'top'\n",
    "\n",
    "        # Use Y value as label and format number with one decimal place\n",
    "    #     label = \"{:.1f}\".format(y_value)\n",
    "        label = y_value\n",
    "\n",
    "        # Create annotation\n",
    "        ax.annotate(\n",
    "            label,                      # Use `label` as label\n",
    "            (x_value, y_value),         # Place label at end of the bar\n",
    "            xytext=(0, space),          # Vertically shift label by `space`\n",
    "            textcoords=\"offset points\", # Interpret `xytext` as offset in points\n",
    "            ha='center',                # Horizontally center label\n",
    "            va=va)                      # Vertically align label differently for\n",
    "                                        # positive and negative values.\n",
    "\n",
    "\n",
    "get_bar(ax)\n",
    "\n",
    "# plt.savefig(\"image.png\")\n"
   ]
  },
  {
   "cell_type": "code",
   "execution_count": 52,
   "metadata": {},
   "outputs": [
    {
     "data": {
      "image/png": "[encoded data removed]",
      "text/plain": [
       "<Figure size 864x576 with 1 Axes>"
      ]
     },
     "metadata": {
      "needs_background": "light"
     },
     "output_type": "display_data"
    }
   ],
   "source": [
    "top20_all_lang = pindata['WHERE_RAISED'].value_counts().nlargest(20)\n",
    "plt.figure(figsize=(12, 8))\n",
    "ax = top20_all_lang.plot(kind='bar')\n",
    "ax.set_title('# labels for top 20 regions (for all people)')\n",
    "ax.set_xlabel('WHERE_RAISED') \n",
    "ax.set_ylabel('Frequency')\n",
    "\n",
    "get_bar(ax)"
   ]
  },
  {
   "cell_type": "code",
   "execution_count": 53,
   "metadata": {},
   "outputs": [
    {
     "data": {
      "image/png": "[encoded data removed]",
      "text/plain": [
       "<Figure size 864x576 with 1 Axes>"
      ]
     },
     "metadata": {
      "needs_background": "light"
     },
     "output_type": "display_data"
    }
   ],
   "source": [
    "top20_native_lang = pindata['NATIVE_LANG'].value_counts().nlargest(20)\n",
    "plt.figure(figsize=(12, 8))\n",
    "ax = top20_all_lang.plot(kind='bar')\n",
    "ax.set_title('# labels for top 20 native languages')\n",
    "ax.set_xlabel('NATIVE_LANG') \n",
    "ax.set_ylabel('Frequency')\n",
    "\n",
    "get_bar(ax)"
   ]
  },
  {
   "cell_type": "code",
   "execution_count": 54,
   "metadata": {},
   "outputs": [
    {
     "data": {
      "image/png": "[encoded data removed]",
      "text/plain": [
       "<Figure size 864x576 with 1 Axes>"
      ]
     },
     "metadata": {
      "needs_background": "light"
     },
     "output_type": "display_data"
    }
   ],
   "source": [
    "# For utterances\n",
    "\n",
    "top20_native_lang_utter = utterance_labels['NATIVE_LANG'].value_counts().nlargest(20)\n",
    "plt.figure(figsize=(12, 8))\n",
    "ax = top20_native_lang_utter.plot(kind='bar')\n",
    "ax.set_title('# labels of top 20 native languages (all utterances)')\n",
    "ax.set_xlabel('NATIVE_LANG') \n",
    "ax.set_ylabel('Frequency')\n",
    "\n",
    "get_bar(ax)"
   ]
  },
  {
   "cell_type": "code",
   "execution_count": 55,
   "metadata": {},
   "outputs": [
    {
     "data": {
      "image/png": "[encoded data removed]",
      "text/plain": [
       "<Figure size 864x576 with 1 Axes>"
      ]
     },
     "metadata": {
      "needs_background": "light"
     },
     "output_type": "display_data"
    }
   ],
   "source": [
    "top20_all_lang_utter = utterance_labels['WHERE_RAISED'].value_counts().nlargest(20)\n",
    "plt.figure(figsize=(12, 8))\n",
    "ax = top20_all_lang_utter.plot(kind='bar')\n",
    "ax.set_title('# labels of top 20 regions (all utterances)')\n",
    "ax.set_xlabel('WHERE_RAISED') \n",
    "ax.set_ylabel('Frequency')\n",
    "\n",
    "get_bar(ax)"
   ]
  },
  {
   "cell_type": "code",
   "execution_count": 56,
   "metadata": {},
   "outputs": [
    {
     "data": {
      "image/png": "[encoded data removed]",
      "text/plain": [
       "<Figure size 864x576 with 1 Axes>"
      ]
     },
     "metadata": {
      "needs_background": "light"
     },
     "output_type": "display_data"
    }
   ],
   "source": [
    "top20_en_utter = utterance_labels[utterance_labels['NATIVE_LANG'] == 'English']['WHERE_RAISED'].value_counts().nlargest(20)\n",
    "\n",
    "plt.figure(figsize=(12, 8))\n",
    "ax = top20_en_utter.plot(kind='bar')\n",
    "ax.set_title('# labels of top 20 regions (NATIVE_LANG is English)')\n",
    "ax.set_xlabel('WHERE_RAISED') \n",
    "ax.set_ylabel('Frequency')\n",
    "\n",
    "get_bar(ax)"
   ]
  },
  {
   "cell_type": "code",
   "execution_count": 57,
   "metadata": {},
   "outputs": [
    {
     "name": "stdout",
     "output_type": "stream",
     "text": [
      "<class 'pandas.core.frame.DataFrame'>\n",
      "RangeIndex: 2227788 entries, 0 to 2227787\n",
      "Data columns (total 3 columns):\n",
      "PIN                   int64\n",
      "GENDER_SPE            object\n",
      "GENDER_AUD.DIALECT    object\n",
      "dtypes: int64(1), object(2)\n",
      "memory usage: 51.0+ MB\n"
     ]
    },
    {
     "data": {
      "text/html": [
       "<div>\n",
       "<style scoped>\n",
       "    .dataframe tbody tr th:only-of-type {\n",
       "        vertical-align: middle;\n",
       "    }\n",
       "\n",
       "    .dataframe tbody tr th {\n",
       "        vertical-align: top;\n",
       "    }\n",
       "\n",
       "    .dataframe thead th {\n",
       "        text-align: right;\n",
       "    }\n",
       "</style>\n",
       "<table border=\"1\" class=\"dataframe\">\n",
       "  <thead>\n",
       "    <tr style=\"text-align: right;\">\n",
       "      <th></th>\n",
       "      <th>PIN</th>\n",
       "      <th>GENDER_SPE</th>\n",
       "      <th>GENDER_AUD.DIALECT</th>\n",
       "    </tr>\n",
       "  </thead>\n",
       "  <tbody>\n",
       "    <tr>\n",
       "      <th>0</th>\n",
       "      <td>7118</td>\n",
       "      <td>F</td>\n",
       "      <td>f.a</td>\n",
       "    </tr>\n",
       "    <tr>\n",
       "      <th>1</th>\n",
       "      <td>8090</td>\n",
       "      <td>F</td>\n",
       "      <td>f.a</td>\n",
       "    </tr>\n",
       "    <tr>\n",
       "      <th>2</th>\n",
       "      <td>8090</td>\n",
       "      <td>F</td>\n",
       "      <td>f.a</td>\n",
       "    </tr>\n",
       "    <tr>\n",
       "      <th>3</th>\n",
       "      <td>7118</td>\n",
       "      <td>F</td>\n",
       "      <td>f.a</td>\n",
       "    </tr>\n",
       "    <tr>\n",
       "      <th>4</th>\n",
       "      <td>7118</td>\n",
       "      <td>F</td>\n",
       "      <td>f.a</td>\n",
       "    </tr>\n",
       "  </tbody>\n",
       "</table>\n",
       "</div>"
      ],
      "text/plain": [
       "    PIN GENDER_SPE GENDER_AUD.DIALECT\n",
       "0  7118          F                f.a\n",
       "1  8090          F                f.a\n",
       "2  8090          F                f.a\n",
       "3  7118          F                f.a\n",
       "4  7118          F                f.a"
      ]
     },
     "execution_count": 57,
     "metadata": {},
     "output_type": "execute_result"
    }
   ],
   "source": [
    "# Check the break down of dialect (American English vs. Other English)\n",
    "utterance_labels_sub.info()\n",
    "utterance_labels_sub.head()"
   ]
  },
  {
   "cell_type": "code",
   "execution_count": 58,
   "metadata": {},
   "outputs": [
    {
     "data": {
      "text/html": [
       "<div>\n",
       "<style scoped>\n",
       "    .dataframe tbody tr th:only-of-type {\n",
       "        vertical-align: middle;\n",
       "    }\n",
       "\n",
       "    .dataframe tbody tr th {\n",
       "        vertical-align: top;\n",
       "    }\n",
       "\n",
       "    .dataframe thead th {\n",
       "        text-align: right;\n",
       "    }\n",
       "</style>\n",
       "<table border=\"1\" class=\"dataframe\">\n",
       "  <thead>\n",
       "    <tr style=\"text-align: right;\">\n",
       "      <th></th>\n",
       "      <th>PIN</th>\n",
       "      <th>GENDER_SPE</th>\n",
       "      <th>DIALECT</th>\n",
       "    </tr>\n",
       "  </thead>\n",
       "  <tbody>\n",
       "    <tr>\n",
       "      <th>0</th>\n",
       "      <td>7118</td>\n",
       "      <td>F</td>\n",
       "      <td>a</td>\n",
       "    </tr>\n",
       "    <tr>\n",
       "      <th>1</th>\n",
       "      <td>8090</td>\n",
       "      <td>F</td>\n",
       "      <td>a</td>\n",
       "    </tr>\n",
       "    <tr>\n",
       "      <th>2</th>\n",
       "      <td>8090</td>\n",
       "      <td>F</td>\n",
       "      <td>a</td>\n",
       "    </tr>\n",
       "    <tr>\n",
       "      <th>3</th>\n",
       "      <td>7118</td>\n",
       "      <td>F</td>\n",
       "      <td>a</td>\n",
       "    </tr>\n",
       "    <tr>\n",
       "      <th>4</th>\n",
       "      <td>7118</td>\n",
       "      <td>F</td>\n",
       "      <td>a</td>\n",
       "    </tr>\n",
       "  </tbody>\n",
       "</table>\n",
       "</div>"
      ],
      "text/plain": [
       "    PIN GENDER_SPE DIALECT\n",
       "0  7118          F       a\n",
       "1  8090          F       a\n",
       "2  8090          F       a\n",
       "3  7118          F       a\n",
       "4  7118          F       a"
      ]
     },
     "execution_count": 58,
     "metadata": {},
     "output_type": "execute_result"
    }
   ],
   "source": [
    "utterance_dialect = utterance_labels_sub.copy()\n",
    "utterance_dialect.loc[:, 'GENDER_AUD.DIALECT'] = utterance_dialect['GENDER_AUD.DIALECT'].map(lambda x: str(x)[-1:])\n",
    "utterance_dialect.columns = ['PIN', 'GENDER_SPE', 'DIALECT']\n",
    "utterance_dialect.head()"
   ]
  },
  {
   "cell_type": "code",
   "execution_count": 59,
   "metadata": {},
   "outputs": [
    {
     "data": {
      "text/plain": [
       "a    2099850\n",
       "o     127715\n",
       "u        223\n",
       "Name: DIALECT, dtype: int64"
      ]
     },
     "execution_count": 59,
     "metadata": {},
     "output_type": "execute_result"
    }
   ],
   "source": [
    "utterance_dialect['DIALECT'].value_counts()"
   ]
  },
  {
   "cell_type": "code",
   "execution_count": 60,
   "metadata": {},
   "outputs": [
    {
     "data": {
      "text/plain": [
       "0.0573281658757476"
      ]
     },
     "execution_count": 60,
     "metadata": {},
     "output_type": "execute_result"
    }
   ],
   "source": [
    "127715 / 2227788"
   ]
  },
  {
   "cell_type": "code",
   "execution_count": null,
   "metadata": {},
   "outputs": [],
   "source": []
  },
  {
   "cell_type": "code",
   "execution_count": null,
   "metadata": {},
   "outputs": [],
   "source": [
    "# Prepare data\n",
    "# Extract gender-matched data"
   ]
  },
  {
   "cell_type": "code",
   "execution_count": 61,
   "metadata": {},
   "outputs": [
    {
     "data": {
      "text/html": [
       "<div>\n",
       "<style scoped>\n",
       "    .dataframe tbody tr th:only-of-type {\n",
       "        vertical-align: middle;\n",
       "    }\n",
       "\n",
       "    .dataframe tbody tr th {\n",
       "        vertical-align: top;\n",
       "    }\n",
       "\n",
       "    .dataframe thead th {\n",
       "        text-align: right;\n",
       "    }\n",
       "</style>\n",
       "<table border=\"1\" class=\"dataframe\">\n",
       "  <thead>\n",
       "    <tr style=\"text-align: right;\">\n",
       "      <th></th>\n",
       "      <th>UTTER_FILE_PATH</th>\n",
       "      <th>PIN</th>\n",
       "      <th>S_SEX</th>\n",
       "      <th>S_AGE</th>\n",
       "      <th>EDU</th>\n",
       "      <th>NATIVE_LANG</th>\n",
       "      <th>WHERE_RAISED</th>\n",
       "      <th>TOPICID</th>\n",
       "      <th>SEX.DIA</th>\n",
       "    </tr>\n",
       "  </thead>\n",
       "  <tbody>\n",
       "    <tr>\n",
       "      <th>0</th>\n",
       "      <td>slices/005/fe_03_00506_slices/split-1-fe_03_00...</td>\n",
       "      <td>7118</td>\n",
       "      <td>F</td>\n",
       "      <td>41.0</td>\n",
       "      <td>12.0</td>\n",
       "      <td>English</td>\n",
       "      <td>CA</td>\n",
       "      <td>ENG35</td>\n",
       "      <td>f.a</td>\n",
       "    </tr>\n",
       "    <tr>\n",
       "      <th>1</th>\n",
       "      <td>slices/005/fe_03_00506_slices/split-2-fe_03_00...</td>\n",
       "      <td>8090</td>\n",
       "      <td>F</td>\n",
       "      <td>20.0</td>\n",
       "      <td>14.0</td>\n",
       "      <td>English</td>\n",
       "      <td>FL</td>\n",
       "      <td>ENG35</td>\n",
       "      <td>f.a</td>\n",
       "    </tr>\n",
       "    <tr>\n",
       "      <th>2</th>\n",
       "      <td>slices/005/fe_03_00506_slices/split-3-fe_03_00...</td>\n",
       "      <td>8090</td>\n",
       "      <td>F</td>\n",
       "      <td>20.0</td>\n",
       "      <td>14.0</td>\n",
       "      <td>English</td>\n",
       "      <td>FL</td>\n",
       "      <td>ENG35</td>\n",
       "      <td>f.a</td>\n",
       "    </tr>\n",
       "    <tr>\n",
       "      <th>3</th>\n",
       "      <td>slices/005/fe_03_00506_slices/split-4-fe_03_00...</td>\n",
       "      <td>7118</td>\n",
       "      <td>F</td>\n",
       "      <td>41.0</td>\n",
       "      <td>12.0</td>\n",
       "      <td>English</td>\n",
       "      <td>CA</td>\n",
       "      <td>ENG35</td>\n",
       "      <td>f.a</td>\n",
       "    </tr>\n",
       "    <tr>\n",
       "      <th>4</th>\n",
       "      <td>slices/005/fe_03_00506_slices/split-5-fe_03_00...</td>\n",
       "      <td>7118</td>\n",
       "      <td>F</td>\n",
       "      <td>41.0</td>\n",
       "      <td>12.0</td>\n",
       "      <td>English</td>\n",
       "      <td>CA</td>\n",
       "      <td>ENG35</td>\n",
       "      <td>f.a</td>\n",
       "    </tr>\n",
       "  </tbody>\n",
       "</table>\n",
       "</div>"
      ],
      "text/plain": [
       "                                     UTTER_FILE_PATH   PIN S_SEX  S_AGE   EDU  \\\n",
       "0  slices/005/fe_03_00506_slices/split-1-fe_03_00...  7118     F   41.0  12.0   \n",
       "1  slices/005/fe_03_00506_slices/split-2-fe_03_00...  8090     F   20.0  14.0   \n",
       "2  slices/005/fe_03_00506_slices/split-3-fe_03_00...  8090     F   20.0  14.0   \n",
       "3  slices/005/fe_03_00506_slices/split-4-fe_03_00...  7118     F   41.0  12.0   \n",
       "4  slices/005/fe_03_00506_slices/split-5-fe_03_00...  7118     F   41.0  12.0   \n",
       "\n",
       "  NATIVE_LANG WHERE_RAISED TOPICID SEX.DIA  \n",
       "0     English           CA   ENG35     f.a  \n",
       "1     English           FL   ENG35     f.a  \n",
       "2     English           FL   ENG35     f.a  \n",
       "3     English           CA   ENG35     f.a  \n",
       "4     English           CA   ENG35     f.a  "
      ]
     },
     "execution_count": 61,
     "metadata": {},
     "output_type": "execute_result"
    }
   ],
   "source": [
    "utterance_labels.head()"
   ]
  },
  {
   "cell_type": "code",
   "execution_count": null,
   "metadata": {},
   "outputs": [],
   "source": []
  },
  {
   "cell_type": "code",
   "execution_count": null,
   "metadata": {},
   "outputs": [],
   "source": []
  },
  {
   "cell_type": "code",
   "execution_count": null,
   "metadata": {},
   "outputs": [],
   "source": []
  },
  {
   "cell_type": "code",
   "execution_count": null,
   "metadata": {},
   "outputs": [],
   "source": []
  },
  {
   "cell_type": "code",
   "execution_count": null,
   "metadata": {},
   "outputs": [],
   "source": []
  },
  {
   "cell_type": "code",
   "execution_count": null,
   "metadata": {},
   "outputs": [],
   "source": []
  },
  {
   "cell_type": "code",
   "execution_count": null,
   "metadata": {},
   "outputs": [],
   "source": []
  },
  {
   "cell_type": "code",
   "execution_count": null,
   "metadata": {},
   "outputs": [],
   "source": []
  },
  {
   "cell_type": "code",
   "execution_count": null,
   "metadata": {},
   "outputs": [],
   "source": []
  },
  {
   "cell_type": "code",
   "execution_count": null,
   "metadata": {},
   "outputs": [],
   "source": []
  }
 ],
 "metadata": {
  "kernelspec": {
   "display_name": "Python 3",
   "language": "python",
   "name": "python3"
  },
  "language_info": {
   "codemirror_mode": {
    "name": "ipython",
    "version": 3
   },
   "file_extension": ".py",
   "mimetype": "text/x-python",
   "name": "python",
   "nbconvert_exporter": "python",
   "pygments_lexer": "ipython3",
   "version": "3.7.6"
  }
 },
 "nbformat": 4,
 "nbformat_minor": 2
}
